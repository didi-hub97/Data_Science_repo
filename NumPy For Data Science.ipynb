{
 "cells": [
  {
   "cell_type": "markdown",
   "id": "e0bfe392",
   "metadata": {},
   "source": [
    "### NumPy Array Vs Python Lists\n",
    "\n",
    "We use Python NumPy array instead of a list because of the below two reasons:\n",
    "\n",
    "* Less Memory Fast Convenient: The very first reason to choose Python NumPy array is that it occupies less memory as compared to list.\n",
    "* Then, it is pretty fast in terms of execution.\n"
   ]
  },
  {
   "cell_type": "code",
   "execution_count": 1,
   "id": "3c8edcb9",
   "metadata": {},
   "outputs": [],
   "source": [
    "import numpy as np"
   ]
  },
  {
   "cell_type": "markdown",
   "id": "fefec5f5",
   "metadata": {},
   "source": [
    "#### Introduction to NumPy Arrays"
   ]
  },
  {
   "cell_type": "code",
   "execution_count": 21,
   "id": "063336ac",
   "metadata": {},
   "outputs": [
    {
     "data": {
      "text/plain": [
       "array([ 0,  1,  2,  3,  4,  5,  6,  7,  8,  9, 10, 11, 12, 13, 14, 15, 16,\n",
       "       17, 18, 19, 20, 21, 22, 23])"
      ]
     },
     "execution_count": 21,
     "metadata": {},
     "output_type": "execute_result"
    }
   ],
   "source": [
    "a = np.arange(24) # returns a one dimensional array. The number of square brackes tells you the \n",
    "#dimension of the array.\n",
    "a"
   ]
  },
  {
   "cell_type": "code",
   "execution_count": 22,
   "id": "dff378a8",
   "metadata": {},
   "outputs": [
    {
     "data": {
      "text/plain": [
       "1"
      ]
     },
     "execution_count": 22,
     "metadata": {},
     "output_type": "execute_result"
    }
   ],
   "source": [
    "a.ndim # to check for the dimension of our array"
   ]
  },
  {
   "cell_type": "code",
   "execution_count": 23,
   "id": "733b1c41",
   "metadata": {},
   "outputs": [
    {
     "data": {
      "text/plain": [
       "array([[ 0,  1,  2,  3,  4,  5,  6,  7,  8,  9, 10, 11],\n",
       "       [12, 13, 14, 15, 16, 17, 18, 19, 20, 21, 22, 23]])"
      ]
     },
     "execution_count": 23,
     "metadata": {},
     "output_type": "execute_result"
    }
   ],
   "source": [
    "k = a.reshape(2, 12) #to change the dim of the array\n",
    "k"
   ]
  },
  {
   "cell_type": "code",
   "execution_count": 24,
   "id": "9f84ed82",
   "metadata": {},
   "outputs": [
    {
     "data": {
      "text/plain": [
       "2"
      ]
     },
     "execution_count": 24,
     "metadata": {},
     "output_type": "execute_result"
    }
   ],
   "source": [
    "k.ndim"
   ]
  },
  {
   "cell_type": "code",
   "execution_count": 25,
   "id": "fa3c485c",
   "metadata": {},
   "outputs": [
    {
     "data": {
      "text/plain": [
       "array([[[ 0,  1,  2,  3],\n",
       "        [ 4,  5,  6,  7],\n",
       "        [ 8,  9, 10, 11]],\n",
       "\n",
       "       [[12, 13, 14, 15],\n",
       "        [16, 17, 18, 19],\n",
       "        [20, 21, 22, 23]],\n",
       "\n",
       "       [[24, 25, 26, 27],\n",
       "        [28, 29, 30, 31],\n",
       "        [32, 33, 34, 35]]])"
      ]
     },
     "execution_count": 25,
     "metadata": {},
     "output_type": "execute_result"
    }
   ],
   "source": [
    "b = np.arange(36).reshape((3, 3, 4))\n",
    "b"
   ]
  },
  {
   "cell_type": "code",
   "execution_count": 26,
   "id": "d717611b",
   "metadata": {},
   "outputs": [
    {
     "data": {
      "text/plain": [
       "3"
      ]
     },
     "execution_count": 26,
     "metadata": {},
     "output_type": "execute_result"
    }
   ],
   "source": [
    "b.ndim"
   ]
  },
  {
   "cell_type": "code",
   "execution_count": 27,
   "id": "740b1d61",
   "metadata": {},
   "outputs": [
    {
     "data": {
      "text/plain": [
       "1"
      ]
     },
     "execution_count": 27,
     "metadata": {},
     "output_type": "execute_result"
    }
   ],
   "source": [
    "a.ndim"
   ]
  },
  {
   "cell_type": "code",
   "execution_count": 28,
   "id": "6d4bcf73",
   "metadata": {},
   "outputs": [
    {
     "data": {
      "text/plain": [
       "(24,)"
      ]
     },
     "execution_count": 28,
     "metadata": {},
     "output_type": "execute_result"
    }
   ],
   "source": [
    "a.shape"
   ]
  },
  {
   "cell_type": "code",
   "execution_count": 29,
   "id": "9fb817f7",
   "metadata": {},
   "outputs": [
    {
     "data": {
      "text/plain": [
       "24"
      ]
     },
     "execution_count": 29,
     "metadata": {},
     "output_type": "execute_result"
    }
   ],
   "source": [
    "a.size"
   ]
  },
  {
   "cell_type": "code",
   "execution_count": 30,
   "id": "143cae04",
   "metadata": {},
   "outputs": [
    {
     "data": {
      "text/plain": [
       "dtype('int32')"
      ]
     },
     "execution_count": 30,
     "metadata": {},
     "output_type": "execute_result"
    }
   ],
   "source": [
    "a.dtype"
   ]
  },
  {
   "cell_type": "code",
   "execution_count": 31,
   "id": "11ff3878",
   "metadata": {},
   "outputs": [
    {
     "data": {
      "text/plain": [
       "4"
      ]
     },
     "execution_count": 31,
     "metadata": {},
     "output_type": "execute_result"
    }
   ],
   "source": [
    "a.itemsize # memory size"
   ]
  },
  {
   "cell_type": "code",
   "execution_count": 2,
   "id": "5d24d7db",
   "metadata": {},
   "outputs": [
    {
     "data": {
      "text/plain": [
       "array([[29, 10, 40],\n",
       "       [45,  9, 30],\n",
       "       [34,  5, 35],\n",
       "       [38,  4, 35]])"
      ]
     },
     "execution_count": 2,
     "metadata": {},
     "output_type": "execute_result"
    }
   ],
   "source": [
    "group = np.array([[29, 10, 40], [45, 9, 30], [34, 5, 35], [38,4, 35]])\n",
    "group"
   ]
  },
  {
   "cell_type": "code",
   "execution_count": 3,
   "id": "e4d2c145",
   "metadata": {},
   "outputs": [
    {
     "data": {
      "text/plain": [
       "(4, 3)"
      ]
     },
     "execution_count": 3,
     "metadata": {},
     "output_type": "execute_result"
    }
   ],
   "source": [
    "group.shape"
   ]
  },
  {
   "cell_type": "code",
   "execution_count": 4,
   "id": "f69475cf",
   "metadata": {},
   "outputs": [
    {
     "data": {
      "text/plain": [
       "2"
      ]
     },
     "execution_count": 4,
     "metadata": {},
     "output_type": "execute_result"
    }
   ],
   "source": [
    "group.ndim"
   ]
  },
  {
   "cell_type": "code",
   "execution_count": 5,
   "id": "8d73b77b",
   "metadata": {},
   "outputs": [
    {
     "data": {
      "text/plain": [
       "array([34,  5, 35])"
      ]
     },
     "execution_count": 5,
     "metadata": {},
     "output_type": "execute_result"
    }
   ],
   "source": [
    "group[2]"
   ]
  },
  {
   "cell_type": "code",
   "execution_count": 6,
   "id": "09fd4f72",
   "metadata": {},
   "outputs": [
    {
     "data": {
      "text/plain": [
       "array([29, 10, 40])"
      ]
     },
     "execution_count": 6,
     "metadata": {},
     "output_type": "execute_result"
    }
   ],
   "source": [
    "group[0]"
   ]
  },
  {
   "cell_type": "code",
   "execution_count": 7,
   "id": "e046e6c2",
   "metadata": {},
   "outputs": [
    {
     "data": {
      "text/plain": [
       "[[29, 10, 40], [45, 9, 30], [34, 5, 35], [38, 4, 35]]"
      ]
     },
     "execution_count": 7,
     "metadata": {},
     "output_type": "execute_result"
    }
   ],
   "source": [
    "persons_data = [[29, 10, 40], ###Nested list\n",
    "               [45, 9, 30],\n",
    "               [34, 5, 35],\n",
    "               [38, 4, 35]]\n",
    "persons_data"
   ]
  },
  {
   "cell_type": "code",
   "execution_count": 37,
   "id": "b9100fc9",
   "metadata": {},
   "outputs": [
    {
     "data": {
      "text/plain": [
       "[38, 4, 35]"
      ]
     },
     "execution_count": 37,
     "metadata": {},
     "output_type": "execute_result"
    }
   ],
   "source": [
    "persons_data[3]"
   ]
  },
  {
   "cell_type": "code",
   "execution_count": 38,
   "id": "487f29fd",
   "metadata": {},
   "outputs": [
    {
     "ename": "AttributeError",
     "evalue": "'list' object has no attribute 'shape'",
     "output_type": "error",
     "traceback": [
      "\u001b[1;31m---------------------------------------------------------------------------\u001b[0m",
      "\u001b[1;31mAttributeError\u001b[0m                            Traceback (most recent call last)",
      "\u001b[1;32m<ipython-input-38-34c2ac8e3efb>\u001b[0m in \u001b[0;36m<module>\u001b[1;34m\u001b[0m\n\u001b[1;32m----> 1\u001b[1;33m \u001b[0mpersons_data\u001b[0m\u001b[1;33m.\u001b[0m\u001b[0mshape\u001b[0m\u001b[1;33m\u001b[0m\u001b[1;33m\u001b[0m\u001b[0m\n\u001b[0m",
      "\u001b[1;31mAttributeError\u001b[0m: 'list' object has no attribute 'shape'"
     ]
    }
   ],
   "source": [
    "persons_data.shape"
   ]
  },
  {
   "cell_type": "code",
   "execution_count": null,
   "id": "2332d8b2",
   "metadata": {},
   "outputs": [],
   "source": [
    "numpy_group = np.array(persons_data) ### Making persons_data an array\n",
    "numpy_group"
   ]
  },
  {
   "cell_type": "code",
   "execution_count": null,
   "id": "edbe55e3",
   "metadata": {},
   "outputs": [],
   "source": [
    "numpy_group.shape ###Returns the shape in rows and columns"
   ]
  },
  {
   "cell_type": "code",
   "execution_count": null,
   "id": "b29793cb",
   "metadata": {},
   "outputs": [],
   "source": [
    "numpy_group[:,0] ##All the rows and column one"
   ]
  },
  {
   "cell_type": "code",
   "execution_count": null,
   "id": "d8b5bfe1",
   "metadata": {},
   "outputs": [],
   "source": [
    "numpy_group[0,:] ##All the columns in row one"
   ]
  },
  {
   "cell_type": "code",
   "execution_count": null,
   "id": "ac55ccfb",
   "metadata": {},
   "outputs": [],
   "source": [
    "numpy_group.mean()"
   ]
  },
  {
   "cell_type": "code",
   "execution_count": null,
   "id": "06583681",
   "metadata": {},
   "outputs": [],
   "source": [
    "numpy_group[1:3,1:] #Row one to three(1:3, excluding row 3), column one to the end"
   ]
  },
  {
   "cell_type": "code",
   "execution_count": null,
   "id": "032c9000",
   "metadata": {},
   "outputs": [],
   "source": [
    "numpy_group[2,1:]"
   ]
  },
  {
   "cell_type": "code",
   "execution_count": null,
   "id": "4b2bec23",
   "metadata": {},
   "outputs": [],
   "source": [
    "numpy_group[1,0]"
   ]
  },
  {
   "cell_type": "markdown",
   "id": "8a6528fd",
   "metadata": {},
   "source": [
    "### 28/07/2021"
   ]
  },
  {
   "cell_type": "code",
   "execution_count": null,
   "id": "5ce0fc46",
   "metadata": {},
   "outputs": [],
   "source": [
    "numpy_group.mean(axis = 0) ### Vertical mean along y-axis"
   ]
  },
  {
   "cell_type": "code",
   "execution_count": null,
   "id": "a2d485fc",
   "metadata": {},
   "outputs": [],
   "source": [
    "numpy_group.mean(axis = 1)"
   ]
  },
  {
   "cell_type": "markdown",
   "id": "47bf7c9d",
   "metadata": {},
   "source": [
    "#### Special Types Of Arrays"
   ]
  },
  {
   "cell_type": "code",
   "execution_count": null,
   "id": "aebefc29",
   "metadata": {},
   "outputs": [],
   "source": [
    "np.zeros(6)"
   ]
  },
  {
   "cell_type": "code",
   "execution_count": null,
   "id": "457b4a04",
   "metadata": {},
   "outputs": [],
   "source": [
    "np.zeros(6).reshape(2,3)"
   ]
  },
  {
   "cell_type": "code",
   "execution_count": null,
   "id": "c513c8a7",
   "metadata": {},
   "outputs": [],
   "source": [
    "np.zeros(6).reshape(3,3)"
   ]
  },
  {
   "cell_type": "code",
   "execution_count": null,
   "id": "08685d8d",
   "metadata": {},
   "outputs": [],
   "source": [
    "np.ones(18)"
   ]
  },
  {
   "cell_type": "code",
   "execution_count": null,
   "id": "796652e3",
   "metadata": {},
   "outputs": [],
   "source": [
    "np.ones(18).reshape(3,6)"
   ]
  },
  {
   "cell_type": "code",
   "execution_count": null,
   "id": "a2575f97",
   "metadata": {},
   "outputs": [],
   "source": [
    "np.ones((3,6))"
   ]
  },
  {
   "cell_type": "code",
   "execution_count": null,
   "id": "19bc30d2",
   "metadata": {},
   "outputs": [],
   "source": [
    "np.full((3, 6), 23)"
   ]
  },
  {
   "cell_type": "code",
   "execution_count": null,
   "id": "1e33b53b",
   "metadata": {},
   "outputs": [],
   "source": [
    "np.random.random((3,6)) ##returns random numbers with 3 rows and 6 columns..."
   ]
  },
  {
   "cell_type": "markdown",
   "id": "8675ef54",
   "metadata": {},
   "source": [
    "#### The Arrange Method"
   ]
  },
  {
   "cell_type": "code",
   "execution_count": null,
   "id": "ae209634",
   "metadata": {},
   "outputs": [],
   "source": [
    "np.arange(0,20,5) ## The starting, stopping and stepping argument"
   ]
  },
  {
   "cell_type": "code",
   "execution_count": null,
   "id": "b7a3ce95",
   "metadata": {},
   "outputs": [],
   "source": [
    "numpy_group"
   ]
  },
  {
   "cell_type": "code",
   "execution_count": null,
   "id": "6c6bdada",
   "metadata": {},
   "outputs": [],
   "source": [
    "numpy_group.ndim"
   ]
  },
  {
   "cell_type": "code",
   "execution_count": null,
   "id": "8bed599b",
   "metadata": {},
   "outputs": [],
   "source": [
    "numpy_group[0]"
   ]
  },
  {
   "cell_type": "code",
   "execution_count": null,
   "id": "c719ba13",
   "metadata": {},
   "outputs": [],
   "source": [
    "numpy_group[0,2]"
   ]
  },
  {
   "cell_type": "code",
   "execution_count": null,
   "id": "9c884827",
   "metadata": {},
   "outputs": [],
   "source": [
    "numpy_group"
   ]
  },
  {
   "cell_type": "code",
   "execution_count": null,
   "id": "2935a58c",
   "metadata": {},
   "outputs": [],
   "source": [
    "numpy_group[0] = [30, 11, 1400]\n",
    "numpy_group"
   ]
  },
  {
   "cell_type": "code",
   "execution_count": null,
   "id": "ed210c92",
   "metadata": {},
   "outputs": [],
   "source": [
    "numpy_group[:2] ###Subset index 0 and 1"
   ]
  },
  {
   "cell_type": "code",
   "execution_count": null,
   "id": "6711c1b5",
   "metadata": {},
   "outputs": [],
   "source": [
    "numpy_group[2:]"
   ]
  },
  {
   "cell_type": "code",
   "execution_count": null,
   "id": "a692551d",
   "metadata": {},
   "outputs": [],
   "source": [
    "numpy_group[:-3]"
   ]
  },
  {
   "cell_type": "code",
   "execution_count": null,
   "id": "3fe07ba2",
   "metadata": {},
   "outputs": [],
   "source": [
    "numpy_group[-3:] #Reverse of 3, starts indexing reversely"
   ]
  },
  {
   "cell_type": "code",
   "execution_count": null,
   "id": "cda544aa",
   "metadata": {},
   "outputs": [],
   "source": [
    "numpy_group[0:4:2]"
   ]
  },
  {
   "cell_type": "code",
   "execution_count": null,
   "id": "a4a49e02",
   "metadata": {},
   "outputs": [],
   "source": [
    "numpy_group[::-1] ##Reversing your array"
   ]
  },
  {
   "cell_type": "code",
   "execution_count": null,
   "id": "b489617d",
   "metadata": {},
   "outputs": [],
   "source": [
    "numpy_group[0:3,1:3] ###Rows 1-3, columns 1 to 3"
   ]
  },
  {
   "cell_type": "code",
   "execution_count": null,
   "id": "47136610",
   "metadata": {},
   "outputs": [],
   "source": [
    "numpy_group"
   ]
  },
  {
   "cell_type": "code",
   "execution_count": null,
   "id": "aeb41a54",
   "metadata": {},
   "outputs": [],
   "source": [
    "numpy_group[:,2]"
   ]
  },
  {
   "cell_type": "code",
   "execution_count": null,
   "id": "97880158",
   "metadata": {},
   "outputs": [],
   "source": [
    "numpy_group[0:3:2, ::-122]"
   ]
  },
  {
   "cell_type": "markdown",
   "id": "25451391",
   "metadata": {},
   "source": [
    "### Manipulating Numpy Arrays with Operators and Aggregate Fxns\n",
    "\n",
    "\n",
    "#### Basic Operators"
   ]
  },
  {
   "cell_type": "code",
   "execution_count": null,
   "id": "fa9cae71",
   "metadata": {},
   "outputs": [],
   "source": [
    "numpy_group"
   ]
  },
  {
   "cell_type": "code",
   "execution_count": null,
   "id": "a83bf774",
   "metadata": {},
   "outputs": [],
   "source": [
    "numpy_group + 1"
   ]
  },
  {
   "cell_type": "code",
   "execution_count": null,
   "id": "b9ee91bb",
   "metadata": {},
   "outputs": [],
   "source": [
    "numpy_group / 1"
   ]
  },
  {
   "cell_type": "code",
   "execution_count": null,
   "id": "2b87c9e9",
   "metadata": {},
   "outputs": [],
   "source": [
    "numpy_group // 10"
   ]
  },
  {
   "cell_type": "code",
   "execution_count": null,
   "id": "80ffb4a4",
   "metadata": {},
   "outputs": [],
   "source": [
    "numpy_group / 10"
   ]
  },
  {
   "cell_type": "code",
   "execution_count": null,
   "id": "8afd9459",
   "metadata": {},
   "outputs": [],
   "source": [
    "numpy_group * 2"
   ]
  },
  {
   "cell_type": "code",
   "execution_count": null,
   "id": "622b3778",
   "metadata": {},
   "outputs": [],
   "source": [
    "### Adding two arrays of the same shape\n",
    "numpy_group + numpy_group"
   ]
  },
  {
   "cell_type": "code",
   "execution_count": null,
   "id": "69b9975a",
   "metadata": {},
   "outputs": [],
   "source": [
    "numpy_group - numpy_group"
   ]
  },
  {
   "cell_type": "markdown",
   "id": "a0630129",
   "metadata": {},
   "source": [
    "### Comparism Operators"
   ]
  },
  {
   "cell_type": "code",
   "execution_count": null,
   "id": "fb474763",
   "metadata": {},
   "outputs": [],
   "source": [
    "numpy_group"
   ]
  },
  {
   "cell_type": "code",
   "execution_count": null,
   "id": "4d4807bc",
   "metadata": {},
   "outputs": [],
   "source": [
    "numpy_group > 30"
   ]
  },
  {
   "cell_type": "code",
   "execution_count": null,
   "id": "ea4d715a",
   "metadata": {},
   "outputs": [],
   "source": [
    "numpy_group < 50"
   ]
  },
  {
   "cell_type": "code",
   "execution_count": null,
   "id": "d6db7c05",
   "metadata": {},
   "outputs": [],
   "source": [
    "numpy_group == 38"
   ]
  },
  {
   "cell_type": "code",
   "execution_count": null,
   "id": "d3f8a962",
   "metadata": {},
   "outputs": [],
   "source": [
    "numpy_group >= 11"
   ]
  },
  {
   "cell_type": "markdown",
   "id": "487b4dc3",
   "metadata": {},
   "source": [
    "### Logical Operators "
   ]
  },
  {
   "cell_type": "code",
   "execution_count": null,
   "id": "378f79ff",
   "metadata": {},
   "outputs": [],
   "source": [
    "### The and operator\n",
    "\n",
    "(numpy_group >30) & (numpy_group <=35)"
   ]
  },
  {
   "cell_type": "code",
   "execution_count": null,
   "id": "34b38d2c",
   "metadata": {},
   "outputs": [],
   "source": [
    "### the or operator\n",
    "(numpy_group <= 30)|(numpy_group > 35)"
   ]
  },
  {
   "cell_type": "code",
   "execution_count": null,
   "id": "8d0db6c8",
   "metadata": {},
   "outputs": [],
   "source": [
    "### The negation operator\n",
    "~(numpy_group <= 30) | (numpy_group >35)"
   ]
  },
  {
   "cell_type": "markdown",
   "id": "aab35236",
   "metadata": {},
   "source": [
    "### Adding and Removing Elements from NumPy Arrays\n",
    "\n",
    "* Append horizontally and vertically\n",
    "* Vertical stacking, \n",
    "* Insert, and\n",
    "* Delete"
   ]
  },
  {
   "cell_type": "markdown",
   "id": "dc751517",
   "metadata": {},
   "source": [
    "#### Append"
   ]
  },
  {
   "cell_type": "code",
   "execution_count": null,
   "id": "a7ad079c",
   "metadata": {},
   "outputs": [],
   "source": [
    "a = np.arange(24).reshape(2,3,4)\n",
    "a"
   ]
  },
  {
   "cell_type": "code",
   "execution_count": null,
   "id": "5f2281c6",
   "metadata": {},
   "outputs": [],
   "source": [
    "b = np.append(a,[5, 6, 7, 8])\n",
    "b"
   ]
  },
  {
   "cell_type": "code",
   "execution_count": null,
   "id": "c9ec5f00",
   "metadata": {},
   "outputs": [],
   "source": [
    "b.shape"
   ]
  },
  {
   "cell_type": "code",
   "execution_count": null,
   "id": "ab5a254a",
   "metadata": {},
   "outputs": [],
   "source": [
    "b.reshape(7,4)"
   ]
  },
  {
   "cell_type": "code",
   "execution_count": null,
   "id": "609464ce",
   "metadata": {},
   "outputs": [],
   "source": [
    "c = np.array(np.arange(24)).reshape(2,3,4)*10 + 3\n",
    "c"
   ]
  },
  {
   "cell_type": "code",
   "execution_count": null,
   "id": "516e79ec",
   "metadata": {},
   "outputs": [],
   "source": [
    "### Joining along the row(axis = 0)\n",
    "\n",
    "np.append(a, c, axis = 0)"
   ]
  },
  {
   "cell_type": "code",
   "execution_count": null,
   "id": "67f15649",
   "metadata": {},
   "outputs": [],
   "source": [
    "np.append(a, c, axis = 0).shape"
   ]
  },
  {
   "cell_type": "code",
   "execution_count": null,
   "id": "d44006fa",
   "metadata": {},
   "outputs": [],
   "source": [
    "## Joining along the column (axis = 1)"
   ]
  },
  {
   "cell_type": "code",
   "execution_count": null,
   "id": "572195ee",
   "metadata": {},
   "outputs": [],
   "source": [
    "np.append(a, c, axis = 1)"
   ]
  },
  {
   "cell_type": "code",
   "execution_count": null,
   "id": "263c68bf",
   "metadata": {},
   "outputs": [],
   "source": [
    "np.append(a, c, axis = 1).shape"
   ]
  },
  {
   "cell_type": "code",
   "execution_count": null,
   "id": "adbb050f",
   "metadata": {},
   "outputs": [],
   "source": [
    "np.append(a, c, axis = 2)"
   ]
  },
  {
   "cell_type": "code",
   "execution_count": null,
   "id": "8d163712",
   "metadata": {},
   "outputs": [],
   "source": [
    "np.append(a, c, axis = 2).shape"
   ]
  },
  {
   "cell_type": "markdown",
   "id": "e457d6a1",
   "metadata": {},
   "source": [
    "### Hstack"
   ]
  },
  {
   "cell_type": "code",
   "execution_count": null,
   "id": "0be5d485",
   "metadata": {},
   "outputs": [],
   "source": [
    "a"
   ]
  },
  {
   "cell_type": "code",
   "execution_count": null,
   "id": "4f909400",
   "metadata": {},
   "outputs": [],
   "source": [
    "c"
   ]
  },
  {
   "cell_type": "code",
   "execution_count": null,
   "id": "4fddcb83",
   "metadata": {},
   "outputs": [],
   "source": [
    "my_num = np.hstack((a,c))\n",
    "my_num"
   ]
  },
  {
   "cell_type": "code",
   "execution_count": null,
   "id": "f9d141a4",
   "metadata": {},
   "outputs": [],
   "source": [
    "my_num[0,0,2] = 999 ###array 1, row 1, column 3\n",
    "my_num"
   ]
  },
  {
   "cell_type": "code",
   "execution_count": null,
   "id": "1160e6f9",
   "metadata": {},
   "outputs": [],
   "source": [
    "after_insert_array = np.insert(a, 1, 444, axis = 0) \n",
    "after_insert_array"
   ]
  },
  {
   "cell_type": "code",
   "execution_count": null,
   "id": "2cffda09",
   "metadata": {},
   "outputs": [],
   "source": [
    "after_insert_array = np.insert(c, 1, 444, axis = 1)\n",
    "after_insert_array"
   ]
  },
  {
   "cell_type": "code",
   "execution_count": null,
   "id": "ddc1905c",
   "metadata": {},
   "outputs": [],
   "source": [
    "after_insert_array = np.insert(c, 1, 444, axis = 2)\n",
    "after_insert_array"
   ]
  },
  {
   "cell_type": "code",
   "execution_count": null,
   "id": "5ff582af",
   "metadata": {},
   "outputs": [],
   "source": [
    "c.shape"
   ]
  },
  {
   "cell_type": "code",
   "execution_count": null,
   "id": "13fabe8a",
   "metadata": {},
   "outputs": [],
   "source": [
    "d = np.empty(c.shape)\n",
    "#int(d)\n",
    "d"
   ]
  },
  {
   "cell_type": "code",
   "execution_count": null,
   "id": "621e2e8d",
   "metadata": {},
   "outputs": [],
   "source": [
    "np.copyto(d,c)\n",
    "d"
   ]
  },
  {
   "cell_type": "code",
   "execution_count": null,
   "id": "093e04f6",
   "metadata": {},
   "outputs": [],
   "source": [
    "print(d)\n",
    "print(c)"
   ]
  },
  {
   "cell_type": "code",
   "execution_count": null,
   "id": "cb57fab3",
   "metadata": {},
   "outputs": [],
   "source": [
    "np.delete(d, 1, axis = 0)"
   ]
  },
  {
   "cell_type": "code",
   "execution_count": null,
   "id": "b5aa411e",
   "metadata": {},
   "outputs": [],
   "source": [
    "np.delete(d, 1, axis = 1)"
   ]
  },
  {
   "cell_type": "code",
   "execution_count": null,
   "id": "ec6fa79f",
   "metadata": {},
   "outputs": [],
   "source": [
    "np.delete(d,1, axis = 2)"
   ]
  },
  {
   "cell_type": "markdown",
   "id": "49f6fd05",
   "metadata": {},
   "source": [
    
   ]
  },
  {
   "cell_type": "markdown",
   "id": "570b2167",
   "metadata": {},
   "source": [
    "### Joining and splitting arrays\n",
    "\n",
    "#### Concatenate, Stack and Split"
   ]
  },
  {
   "cell_type": "code",
   "execution_count": null,
   "id": "4fc9fcf2",
   "metadata": {},
   "outputs": [],
   "source": [
    "a = np.array([1, 2, 3, 4]).reshape(2,2)\n",
    "b = np.array([[5, 6]])\n",
    "print(a)\n",
    "print(b)"
   ]
  },
  {
   "cell_type": "code",
   "execution_count": null,
   "id": "f0383f04",
   "metadata": {},
   "outputs": [],
   "source": [
    "together = np.concatenate((a, b), axis = 0)\n",
    "together"
   ]
  },
  {
   "cell_type": "code",
   "execution_count": null,
   "id": "173883a2",
   "metadata": {},
   "outputs": [],
   "source": [
    "together.shape"
   ]
  },
  {
   "cell_type": "code",
   "execution_count": null,
   "id": "2c282790",
   "metadata": {},
   "outputs": [],
   "source": [
    "together[2,1] = 55\n",
    "together"
   ]
  },
  {
   "cell_type": "code",
   "execution_count": null,
   "id": "c39b11df",
   "metadata": {},
   "outputs": [],
   "source": [
    "a"
   ]
  },
  {
   "cell_type": "code",
   "execution_count": null,
   "id": "7893d23b",
   "metadata": {},
   "outputs": [],
   "source": [
    "c = np.array([[1, 2], [3,4]])*3+5\n",
    "c"
   ]
  },
  {
   "cell_type": "code",
   "execution_count": null,
   "id": "706c63a3",
   "metadata": {},
   "outputs": [],
   "source": [
    "np.concatenate((a, c), axis = 0)"
   ]
  },
  {
   "cell_type": "code",
   "execution_count": null,
   "id": "35a68f6f",
   "metadata": {},
   "outputs": [],
   "source": [
    "np.concatenate((a,c), axis = 1)"
   ]
  },
  {
   "cell_type": "code",
   "execution_count": null,
   "id": "5162e031",
   "metadata": {},
   "outputs": [],
   "source": [
    "np.concatenate((a, c), axis = 2) ## Will return wrong becos the two(a and c) arrays are dimensional \n",
    "##and axis = 2 is including a third dimension which the array doesn't have"
   ]
  },
  {
   "cell_type": "markdown",
   "id": "540dd7f4",
   "metadata": {},
   "source": [
    "#### Rearranaging Array Elements"
   ]
  },
  {
   "cell_type": "code",
   "execution_count": null,
   "id": "c66d0ef3",
   "metadata": {},
   "outputs": [],
   "source": [
    "first = np.array(np.arange(24))\n",
    "second = first.reshape(3,8)\n",
    "third = second.reshape(2, 3, 4) ## a three dimensional array"
   ]
  },
  {
   "cell_type": "code",
   "execution_count": null,
   "id": "f5286c5e",
   "metadata": {},
   "outputs": [],
   "source": [
    "first"
   ]
  },
  {
   "cell_type": "code",
   "execution_count": null,
   "id": "16bc3bbf",
   "metadata": {},
   "outputs": [],
   "source": [
    "second"
   ]
  },
  {
   "cell_type": "code",
   "execution_count": null,
   "id": "a13c8054",
   "metadata": {},
   "outputs": [],
   "source": [
    "third"
   ]
  },
  {
   "cell_type": "markdown",
   "id": "da7ac988",
   "metadata": {},
   "source": [
    "#### Flip Left to Right"
   ]
  },
  {
   "cell_type": "code",
   "execution_count": null,
   "id": "4901a3c9",
   "metadata": {},
   "outputs": [],
   "source": [
    "np.fliplr(second)"
   ]
  },
  {
   "cell_type": "code",
   "execution_count": null,
   "id": "52dc1117",
   "metadata": {},
   "outputs": [],
   "source": [
    "np.fliplr(third)"
   ]
  },
  {
   "cell_type": "markdown",
   "id": "422271b0",
   "metadata": {},
   "source": [
    "#### Flip Up and Down"
   ]
  },
  {
   "cell_type": "code",
   "execution_count": null,
   "id": "dab4c86d",
   "metadata": {},
   "outputs": [],
   "source": [
    "np.flipud(third)"
   ]
  },
  {
   "cell_type": "code",
   "execution_count": null,
   "id": "f71ef627",
   "metadata": {},
   "outputs": [],
   "source": [
    "np.roll(first, 5)"
   ]
  },
  {
   "cell_type": "code",
   "execution_count": null,
   "id": "1850bffe",
   "metadata": {},
   "outputs": [],
   "source": [
    "np.roll(first, -5)"
   ]
  },
  {
   "cell_type": "code",
   "execution_count": null,
   "id": "4d518f99",
   "metadata": {},
   "outputs": [],
   "source": [
    "np.roll(third, 2)"
   ]
  },
  {
   "cell_type": "code",
   "execution_count": null,
   "id": "776bc205",
   "metadata": {},
   "outputs": [],
   "source": [
    "second"
   ]
  },
  {
   "cell_type": "code",
   "execution_count": null,
   "id": "a575e3d2",
   "metadata": {},
   "outputs": [],
   "source": [
    "np.rot90(second)"
   ]
  },
  {
   "cell_type": "code",
   "execution_count": null,
   "id": "3e71d7c4",
   "metadata": {},
   "outputs": [],
   "source": [
    "np.rot90(second, k = -1)"
   ]
  },
  {
   "cell_type": "markdown",
   "id": "5d2f1ddc",
   "metadata": {},
   "source": [
    "#### Splitting"
   ]
  },
  {
   "cell_type": "code",
   "execution_count": null,
   "id": "25c8f150",
   "metadata": {},
   "outputs": [],
   "source": [
    "temp  = np.arange(6)\n",
    "temp"
   ]
  },
  {
   "cell_type": "code",
   "execution_count": null,
   "id": "a5777dbe",
   "metadata": {},
   "outputs": [],
   "source": [
    "np.split(temp, 2)"
   ]
  },
  {
   "cell_type": "code",
   "execution_count": null,
   "id": "9d95f3bc",
   "metadata": {},
   "outputs": [],
   "source": [
    "np.split(temp, 3)"
   ]
  },
  {
   "cell_type": "markdown",
   "id": "998752bd",
   "metadata": {},
   "source": [
    "#### Views and Copies"
   ]
  },
  {
   "cell_type": "code",
   "execution_count": null,
   "id": "579554e8",
   "metadata": {},
   "outputs": [],
   "source": [
    "first_array = np.array([-45, -31, -12, 0, 25, 51, 99])\n",
    "first_array"
   ]
  },
  {
   "cell_type": "code",
   "execution_count": null,
   "id": "9efe9c95",
   "metadata": {},
   "outputs": [],
   "source": [
    "price = np.array([\"pea\", 45, \"mango\", 78, \"orange\", 70, \"sugarcane\", 30])\n",
    "price"
   ]
  },
  {
   "cell_type": "code",
   "execution_count": null,
   "id": "12857365",
   "metadata": {},
   "outputs": [],
   "source": [
    "len(price)"
   ]
  },
  {
   "cell_type": "code",
   "execution_count": null,
   "id": "c9a1f769",
   "metadata": {},
   "outputs": [],
   "source": [
    "for i in price:\n",
    "    print(len(i)) "
   ]
  },
  {
   "cell_type": "code",
   "execution_count": null,
   "id": "66eed0c8",
   "metadata": {},
   "outputs": [],
   "source": [
    "length_checker = np.vectorize(len) ###vectorize is to reduce computational time"
   ]
  },
  {
   "cell_type": "code",
   "execution_count": null,
   "id": "4aa474ad",
   "metadata": {},
   "outputs": [],
   "source": [
    "length_checker(price)"
   ]
  },
  {
   "cell_type": "code",
   "execution_count": null,
   "id": "a87caedd",
   "metadata": {},
   "outputs": [],
   "source": [
    "np.vectorize(len)(price)"
   ]
  },
  {
   "cell_type": "code",
   "execution_count": null,
   "id": "57eee37d",
   "metadata": {},
   "outputs": [],
   "source": [
    "price[2]"
   ]
  },
  {
   "cell_type": "code",
   "execution_count": null,
   "id": "c6e3b638",
   "metadata": {},
   "outputs": [],
   "source": [
    "price[2] = \"banana\"\n",
    "price"
   ]
  },
  {
   "cell_type": "code",
   "execution_count": null,
   "id": "0d2a5598",
   "metadata": {},
   "outputs": [],
   "source": [
    "price[-2] = \"apple\"\n",
    "price"
   ]
  },
  {
   "cell_type": "code",
   "execution_count": null,
   "id": "e4b2937b",
   "metadata": {},
   "outputs": [],
   "source": [
    "first_array"
   ]
  },
  {
   "cell_type": "code",
   "execution_count": null,
   "id": "428b6441",
   "metadata": {},
   "outputs": [],
   "source": [
    "second_array = first_array\n",
    "second_array"
   ]
  },
  {
   "cell_type": "markdown",
   "id": "5166d732",
   "metadata": {},
   "source": [
    "#### Same or Different?"
   ]
  },
  {
   "cell_type": "code",
   "execution_count": null,
   "id": "cc626afa",
   "metadata": {},
   "outputs": [],
   "source": [
    "first_array is second_array"
   ]
  },
  {
   "cell_type": "code",
   "execution_count": null,
   "id": "31098305",
   "metadata": {},
   "outputs": [],
   "source": [
    "first_array == second_array"
   ]
  },
  {
   "cell_type": "markdown",
   "id": "7f9d50d8",
   "metadata": {},
   "source": [
    "### Doing Copy Methods\n",
    "\n",
    "\n",
    "#### Method 1:View()"
   ]
  },
  {
   "cell_type": "code",
   "execution_count": null,
   "id": "56fa392a",
   "metadata": {},
   "outputs": [],
   "source": [
    "my_array = np.array([-45, -31, -12, 0, 2, 25, 51, 99])"
   ]
  },
  {
   "cell_type": "code",
   "execution_count": null,
   "id": "5c313ca2",
   "metadata": {},
   "outputs": [],
   "source": [
    "my_array_copy = my_array.view()"
   ]
  },
  {
   "cell_type": "code",
   "execution_count": null,
   "id": "ff4c10a1",
   "metadata": {},
   "outputs": [],
   "source": [
    "my_array_copy"
   ]
  },
  {
   "cell_type": "code",
   "execution_count": null,
   "id": "38616e57",
   "metadata": {},
   "outputs": [],
   "source": [
    "my_array_copy.shape"
   ]
  },
  {
   "cell_type": "code",
   "execution_count": null,
   "id": "bb988840",
   "metadata": {},
   "outputs": [],
   "source": [
    "my_array_copy.shape = (2, 4)\n",
    "my_array_copy"
   ]
  },
  {
   "cell_type": "markdown",
   "id": "1c839721",
   "metadata": {},
   "source": [
    "#### Transpose-Like Operations"
   ]
  },
  {
   "cell_type": "code",
   "execution_count": null,
   "id": "f05f8aec",
   "metadata": {},
   "outputs": [],
   "source": [
    "first"
   ]
  },
  {
   "cell_type": "code",
   "execution_count": null,
   "id": "3e7d9e95",
   "metadata": {},
   "outputs": [],
   "source": [
    "second = first.reshape(3, 8)\n",
    "second"
   ]
  },
  {
   "cell_type": "code",
   "execution_count": null,
   "id": "d381034b",
   "metadata": {},
   "outputs": [],
   "source": [
    "third = second.reshape(2, 3, 4)\n",
    "third"
   ]
  },
  {
   "cell_type": "code",
   "execution_count": null,
   "id": "73e7c68d",
   "metadata": {},
   "outputs": [],
   "source": [
    "first_trans = np.transpose(first)\n",
    "first_trans"
   ]
  },
  {
   "cell_type": "code",
   "execution_count": null,
   "id": "07fa0bdd",
   "metadata": {},
   "outputs": [],
   "source": [
    "print(first.shape)\n",
    "print(first_trans.shape)"
   ]
  },
  {
   "cell_type": "code",
   "execution_count": null,
   "id": "93102cb9",
   "metadata": {},
   "outputs": [],
   "source": [
    "second"
   ]
  },
  {
   "cell_type": "code",
   "execution_count": null,
   "id": "e4945faa",
   "metadata": {},
   "outputs": [],
   "source": [
    "second_trans = np.transpose(second)\n",
    "second_trans"
   ]
  },
  {
   "cell_type": "code",
   "execution_count": null,
   "id": "8a729d8f",
   "metadata": {},
   "outputs": [],
   "source": [
    "print(second.shape)\n",
    "print(second_trans.shape)"
   ]
  },
  {
   "cell_type": "code",
   "execution_count": null,
   "id": "c4499df5",
   "metadata": {},
   "outputs": [],
   "source": [
    "third_trans = np.transpose(third)\n",
    "third_trans"
   ]
  },
  {
   "cell_type": "code",
   "execution_count": null,
   "id": "cea1a9b0",
   "metadata": {},
   "outputs": [],
   "source": [
    "print(third.shape)\n",
    "print(third_trans.shape)"
   ]
  },
  {
   "cell_type": "markdown",
   "id": "9336b3e8",
   "metadata": {},
   "source": [
    "#### np.transpose(third)"
   ]
  },
  {
   "cell_type": "code",
   "execution_count": null,
   "id": "9ed3007b",
   "metadata": {},
   "outputs": [],
   "source": [
    "third_trans = np.transpose(third, axes = (0, 2, 1))\n",
    "third_trans"
   ]
  },
  {
   "cell_type": "code",
   "execution_count": null,
   "id": "077dcc48",
   "metadata": {},
   "outputs": [],
   "source": [
    " print(third_trans.shape)"
   ]
  },
  {
   "cell_type": "markdown",
   "id": "c61c861c",
   "metadata": {},
   "source": [
    "### NOTE: \n",
    "The axes parameter represents the positioning of the shape of the array. Initially our array is of the **form(shape)(2,3,4)** which means thta the initial axes is by default **(0, 1, 2)** . Transposing it with the **axes=(0,2,1)** implies the transpose fxn should make our second axis to be third and the third axis to be second, wch will return **(2,3,4)**.  "
   ]
  },
  {
   "cell_type": "markdown",
   "id": "f42a35c7",
   "metadata": {},
   "source": [
    "### Linear Algebra\n",
    "\n",
    "To install the sympy library use the command below:\n",
    "\n",
    "conda install  sympy"
   ]
  },
  {
   "cell_type": "code",
   "execution_count": null,
   "id": "241465f1",
   "metadata": {},
   "outputs": [],
   "source": [
    "conda install  sympy"
   ]
  },
  {
   "cell_type": "code",
   "execution_count": null,
   "id": "549e8eb0",
   "metadata": {},
   "outputs": [],
   "source": [
    "from sympy import init_session\n",
    "init_session()\n",
    "\n",
    "##Sympy is a python library for symbolic mathematics                 \n",
    "\n",
    "## symPy uses Unicode characters to render output in form of pretty print. If you are using Python console for\n",
    "#executing  SymPy session, the best pretty printing environment is activated by calling init_session() function"
   ]
  },
  {
   "cell_type": "code",
   "execution_count": 2,
   "id": "aea5d1dd",
   "metadata": {},
   "outputs": [],
   "source": [
    "diff(x**3)"
   ]
  },
  {
   "cell_type": "code",
   "execution_count": null,
   "id": "b66d0f5b",
   "metadata": {},
   "outputs": [],
   "source": [
    "diff(x**3, x, 2)"
   ]
  },
  {
   "cell_type": "code",
   "execution_count": null,
   "id": "8d140c57",
   "metadata": {},
   "outputs": [],
   "source": [
    "diff((x**2-3*x + 5)**3, x, 2)"
   ]
  }
 ],
 "metadata": {
  "kernelspec": {
   "display_name": "Python 3",
   "language": "python",
   "name": "python3"
  },
  "language_info": {
   "codemirror_mode": {
    "name": "ipython",
    "version": 3
   },
   "file_extension": ".py",
   "mimetype": "text/x-python",
   "name": "python",
   "nbconvert_exporter": "python",
   "pygments_lexer": "ipython3",
   "version": "3.8.8"
  }
 },
 "nbformat": 4,
 "nbformat_minor": 5
}
