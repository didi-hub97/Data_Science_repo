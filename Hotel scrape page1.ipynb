{
 "cells": [
  {
   "cell_type": "markdown",
   "id": "398c021a",
   "metadata": {},
   "source": [
    "### Statement of Problem\n",
    "To scrape a hotel booking site and build a model that can predict the booking price of each hotel."
   ]
  },
  {
   "cell_type": "code",
   "execution_count": 2,
   "id": "71b1d56b",
   "metadata": {},
   "outputs": [],
   "source": [
    "#Import necessary libraries\n",
    "import numpy as np\n",
    "import pandas as pd\n",
    "import matplotlib.pyplot as plt\n",
    "import seaborn as sns\n",
    "%matplotlib inline"
   ]
  },
  {
   "cell_type": "code",
   "execution_count": 3,
   "id": "00479cf8",
   "metadata": {
    "scrolled": false
   },
   "outputs": [
    {
     "name": "stdout",
     "output_type": "stream",
     "text": [
      "200\n",
      "there are 969 properties that match this description\n"
     ]
    },
    {
     "data": {
      "text/html": [
       "<div>\n",
       "<style scoped>\n",
       "    .dataframe tbody tr th:only-of-type {\n",
       "        vertical-align: middle;\n",
       "    }\n",
       "\n",
       "    .dataframe tbody tr th {\n",
       "        vertical-align: top;\n",
       "    }\n",
       "\n",
       "    .dataframe thead th {\n",
       "        text-align: right;\n",
       "    }\n",
       "</style>\n",
       "<table border=\"1\" class=\"dataframe\">\n",
       "  <thead>\n",
       "    <tr style=\"text-align: right;\">\n",
       "      <th></th>\n",
       "      <th>Name</th>\n",
       "      <th>Price_per_night</th>\n",
       "      <th>Location</th>\n",
       "      <th>Rating</th>\n",
       "      <th>Classification</th>\n",
       "      <th>No_of_Reviews</th>\n",
       "    </tr>\n",
       "  </thead>\n",
       "  <tbody>\n",
       "    <tr>\n",
       "      <th>0</th>\n",
       "      <td>The Agore Hotels and Suites Ltd</td>\n",
       "      <td>18,368</td>\n",
       "      <td>Awoyaya</td>\n",
       "      <td>8.0</td>\n",
       "      <td>Good</td>\n",
       "      <td>22</td>\n",
       "    </tr>\n",
       "    <tr>\n",
       "      <th>1</th>\n",
       "      <td>3H Villas Boutique Hotel Lekki Phase 1</td>\n",
       "      <td>45,000</td>\n",
       "      <td>Lekki</td>\n",
       "      <td>9.6</td>\n",
       "      <td>Exceptional</td>\n",
       "      <td>20</td>\n",
       "    </tr>\n",
       "    <tr>\n",
       "      <th>2</th>\n",
       "      <td>Swiss International The Vistana</td>\n",
       "      <td>45,650</td>\n",
       "      <td>Lekki</td>\n",
       "      <td>8.1</td>\n",
       "      <td>Good</td>\n",
       "      <td>61</td>\n",
       "    </tr>\n",
       "    <tr>\n",
       "      <th>3</th>\n",
       "      <td>Taverna Lounge &amp; Boutique Hotel</td>\n",
       "      <td>14,193</td>\n",
       "      <td>Port Harcourt</td>\n",
       "      <td>8.4</td>\n",
       "      <td>Good</td>\n",
       "      <td>119</td>\n",
       "    </tr>\n",
       "    <tr>\n",
       "      <th>4</th>\n",
       "      <td>Nigus House Lekki</td>\n",
       "      <td>38,471</td>\n",
       "      <td>Lekki</td>\n",
       "      <td>8.9</td>\n",
       "      <td>Excellent</td>\n",
       "      <td>18</td>\n",
       "    </tr>\n",
       "    <tr>\n",
       "      <th>5</th>\n",
       "      <td>Manuela Residence</td>\n",
       "      <td>83,363</td>\n",
       "      <td>Victoria Island, Lagos</td>\n",
       "      <td>7.5</td>\n",
       "      <td>Good</td>\n",
       "      <td>26</td>\n",
       "    </tr>\n",
       "    <tr>\n",
       "      <th>6</th>\n",
       "      <td>DelMor Shortlet Apartments</td>\n",
       "      <td>37,350</td>\n",
       "      <td>Lekki</td>\n",
       "      <td>7.0</td>\n",
       "      <td>Good</td>\n",
       "      <td>10</td>\n",
       "    </tr>\n",
       "    <tr>\n",
       "      <th>7</th>\n",
       "      <td>mmmHouse</td>\n",
       "      <td>16,322</td>\n",
       "      <td>Abuja</td>\n",
       "      <td>8.3</td>\n",
       "      <td>Good</td>\n",
       "      <td>51</td>\n",
       "    </tr>\n",
       "    <tr>\n",
       "      <th>8</th>\n",
       "      <td>Crest Inn</td>\n",
       "      <td>73,277</td>\n",
       "      <td>Abuja</td>\n",
       "      <td>8.5</td>\n",
       "      <td>Good</td>\n",
       "      <td>2</td>\n",
       "    </tr>\n",
       "    <tr>\n",
       "      <th>9</th>\n",
       "      <td>Exquisitely Luxury 4 unit of 4 bedroom duplex ...</td>\n",
       "      <td>117,653</td>\n",
       "      <td>Ogoyo</td>\n",
       "      <td>9.0</td>\n",
       "      <td>Wonderful</td>\n",
       "      <td>2</td>\n",
       "    </tr>\n",
       "  </tbody>\n",
       "</table>\n",
       "</div>"
      ],
      "text/plain": [
       "                                                Name Price_per_night  \\\n",
       "0                    The Agore Hotels and Suites Ltd          18,368   \n",
       "1             3H Villas Boutique Hotel Lekki Phase 1          45,000   \n",
       "2                    Swiss International The Vistana          45,650   \n",
       "3                    Taverna Lounge & Boutique Hotel          14,193   \n",
       "4                                  Nigus House Lekki          38,471   \n",
       "5                                  Manuela Residence          83,363   \n",
       "6                         DelMor Shortlet Apartments          37,350   \n",
       "7                                           mmmHouse          16,322   \n",
       "8                                          Crest Inn          73,277   \n",
       "9  Exquisitely Luxury 4 unit of 4 bedroom duplex ...         117,653   \n",
       "\n",
       "                 Location Rating Classification No_of_Reviews  \n",
       "0                 Awoyaya    8.0           Good            22  \n",
       "1                   Lekki    9.6    Exceptional            20  \n",
       "2                   Lekki    8.1           Good            61  \n",
       "3           Port Harcourt    8.4           Good           119  \n",
       "4                   Lekki    8.9      Excellent            18  \n",
       "5  Victoria Island, Lagos    7.5           Good            26  \n",
       "6                   Lekki    7.0           Good            10  \n",
       "7                   Abuja    8.3           Good            51  \n",
       "8                   Abuja    8.5           Good             2  \n",
       "9                   Ogoyo    9.0      Wonderful             2  "
      ]
     },
     "execution_count": 3,
     "metadata": {},
     "output_type": "execute_result"
    }
   ],
   "source": [
    "from bs4 import BeautifulSoup # Import for Beautiful Soup\n",
    "import requests # Import for requests\n",
    "import lxml # Import for lxml parser\n",
    "import pandas as pd # Import for Pandas\n",
    "import matplotlib.pyplot as plt # Import for Matplotlib Pyplot\n",
    "%matplotlib inline\n",
    "\n",
    "from datetime import date\n",
    " \n",
    "today = date.today() #get todays date\n",
    "day=today.day \n",
    "day=day+1\n",
    "year=today.year\n",
    "month=today.month\n",
    "tom=f'{year}-{month}-{day}' #get tomorrow's date\n",
    "\n",
    "#getting both todays date and tomorrow's date will ensure that anytime we run the code the check in date will\n",
    "#be today while the check out time will be tomorrow\n",
    "\n",
    "#look closely at the url in the main_link to see how the dates are added to the url\n",
    "main_link=f'https://www.booking.com/searchresults.html?sid=9035488a14dba79b3cf0ff841f1fe27f&checkout={tom}&dest_type=country&sb=1&label=gen173nr-1FCAEoggI46AdIM1gEaGyIAQGYATG4AQfIAQzYAQHoAQH4AQKIAgGoAgO4AvTIm_IFwAIB&aid=356980&ss=Nigeria&src=searchresults&ssne=Nigeria&checkin={today}&lang=en-us&sb_travel_purpose=leisure&src_elem=sb&group_adults=2&no_rooms=1&dest_id=155&ssne_untouched=Nigeria&group_children=0'\n",
    "\n",
    "headers = {'User-Agent':'Mozilla/5.0 (Macintosh; Intel Mac OS X 10_14_6) AppleWebKit/537.36 (KHTML, like Gecko) Chrome/102.0.5005.61 Safari/537.36'}\n",
    "\n",
    "page = requests.get(main_link, headers=headers)\n",
    "\n",
    "# We can also check the response code\n",
    "print(page.status_code) #if the value here is 200, then you have permission to access the site, if it is 400 you won't \n",
    "                        #have access\n",
    "\n",
    "# Make it a soup\n",
    "soup = BeautifulSoup(page.text,\"lxml\")\n",
    "\n",
    "count=int(soup.find_all('h1', class_=\"e1f827110f d3a14d00da\")[0].text[9:-17].replace(\",\",\"\"))\n",
    "print(f'there are {count} properties that match this description')  #this will tell us how many properties fit the criteria we selected\n",
    "\n",
    "Name=[] #property name list\n",
    "Price_per_night=[] #price per night list\n",
    "Location=[] #location \n",
    "Rating=[]\n",
    "Classification=[]\n",
    "No_of_Reviews=[]\n",
    "\n",
    "\n",
    "for i in range(25):\n",
    "    names=soup.find_all('div', class_=\"fcab3ed991 a23c043802\")[i].text\n",
    "    Name.append(names)\n",
    "    price=soup.find_all('span', class_=\"fcab3ed991 bd73d13072\")[i].text.split()[1]\n",
    "    Price_per_night.append(price) \n",
    "    rate= soup.find_all('div', class_=\"a1b3f50dcd cbb2d85c33 a1f3ecff04 db7f07f643 d19ba76520 f4e25490ec d02f1578ba d17b3fe5e2\")[i].text.split()[0][:3]\n",
    "    Rating.append(rate)\n",
    "    if len(soup.find_all('div', class_=\"a1b3f50dcd cbb2d85c33 a1f3ecff04 db7f07f643 d19ba76520 f4e25490ec d02f1578ba d17b3fe5e2\")[i].text.split())==3:\n",
    "        review=soup.find_all('div', class_=\"a1b3f50dcd cbb2d85c33 a1f3ecff04 db7f07f643 d19ba76520 f4e25490ec d02f1578ba d17b3fe5e2\")[i].text.split()[1]\n",
    "        classes=soup.find_all('div', class_=\"a1b3f50dcd cbb2d85c33 a1f3ecff04 db7f07f643 d19ba76520 f4e25490ec d02f1578ba d17b3fe5e2\")[i].text.split()[0][3:]\n",
    "    else:\n",
    "        review=soup.find_all('div', class_=\"a1b3f50dcd cbb2d85c33 a1f3ecff04 db7f07f643 d19ba76520 f4e25490ec d02f1578ba d17b3fe5e2\")[i].text.split()[2]\n",
    "        classes=soup.find_all('div', class_=\"a1b3f50dcd cbb2d85c33 a1f3ecff04 db7f07f643 d19ba76520 f4e25490ec d02f1578ba d17b3fe5e2\")[i].text.split()[1]\n",
    "    No_of_Reviews.append(review)\n",
    "    Classification.append(classes)\n",
    "\n",
    "nums=[x for x in range(50) if x%2==0]\n",
    "for e in nums:\n",
    "    locate=soup.find_all('span', class_=\"f4bd0794db b4273d69aa\")[e].text\n",
    "    Location.append(locate)\n",
    "\n",
    "df=pd.DataFrame({'Name':Name,'Price_per_night':Price_per_night,\n",
    "              'Location':Location,'Rating':Rating,\n",
    "              'Classification':Classification,'No_of_Reviews':No_of_Reviews})\n",
    "\n",
    "\n",
    "df.to_csv('hotels.csv',index=False, encoding='utf-8') #saving the dataset\n",
    "\n",
    "df.head(10)"
   ]
  },
  {
   "cell_type": "markdown",
   "id": "4d9cce03",
   "metadata": {},
   "source": [
    "### Importing the dataset"
   ]
  },
  {
   "cell_type": "code",
   "execution_count": 4,
   "id": "c603905b",
   "metadata": {},
   "outputs": [],
   "source": [
    "hotel = pd.read_csv('hotels.csv')"
   ]
  },
  {
   "cell_type": "code",
   "execution_count": 5,
   "id": "6d6ab50c",
   "metadata": {},
   "outputs": [
    {
     "data": {
      "text/html": [
       "<div>\n",
       "<style scoped>\n",
       "    .dataframe tbody tr th:only-of-type {\n",
       "        vertical-align: middle;\n",
       "    }\n",
       "\n",
       "    .dataframe tbody tr th {\n",
       "        vertical-align: top;\n",
       "    }\n",
       "\n",
       "    .dataframe thead th {\n",
       "        text-align: right;\n",
       "    }\n",
       "</style>\n",
       "<table border=\"1\" class=\"dataframe\">\n",
       "  <thead>\n",
       "    <tr style=\"text-align: right;\">\n",
       "      <th></th>\n",
       "      <th>Name</th>\n",
       "      <th>Price_per_night</th>\n",
       "      <th>Location</th>\n",
       "      <th>Rating</th>\n",
       "      <th>Classification</th>\n",
       "      <th>No_of_Reviews</th>\n",
       "    </tr>\n",
       "  </thead>\n",
       "  <tbody>\n",
       "    <tr>\n",
       "      <th>0</th>\n",
       "      <td>The Agore Hotels and Suites Ltd</td>\n",
       "      <td>18,368</td>\n",
       "      <td>Awoyaya</td>\n",
       "      <td>8.0</td>\n",
       "      <td>Good</td>\n",
       "      <td>22</td>\n",
       "    </tr>\n",
       "    <tr>\n",
       "      <th>1</th>\n",
       "      <td>3H Villas Boutique Hotel Lekki Phase 1</td>\n",
       "      <td>45,000</td>\n",
       "      <td>Lekki</td>\n",
       "      <td>9.6</td>\n",
       "      <td>Exceptional</td>\n",
       "      <td>20</td>\n",
       "    </tr>\n",
       "    <tr>\n",
       "      <th>2</th>\n",
       "      <td>Swiss International The Vistana</td>\n",
       "      <td>45,650</td>\n",
       "      <td>Lekki</td>\n",
       "      <td>8.1</td>\n",
       "      <td>Good</td>\n",
       "      <td>61</td>\n",
       "    </tr>\n",
       "    <tr>\n",
       "      <th>3</th>\n",
       "      <td>Taverna Lounge &amp; Boutique Hotel</td>\n",
       "      <td>14,193</td>\n",
       "      <td>Port Harcourt</td>\n",
       "      <td>8.4</td>\n",
       "      <td>Good</td>\n",
       "      <td>119</td>\n",
       "    </tr>\n",
       "    <tr>\n",
       "      <th>4</th>\n",
       "      <td>Nigus House Lekki</td>\n",
       "      <td>38,471</td>\n",
       "      <td>Lekki</td>\n",
       "      <td>8.9</td>\n",
       "      <td>Excellent</td>\n",
       "      <td>18</td>\n",
       "    </tr>\n",
       "  </tbody>\n",
       "</table>\n",
       "</div>"
      ],
      "text/plain": [
       "                                     Name Price_per_night       Location  \\\n",
       "0         The Agore Hotels and Suites Ltd          18,368        Awoyaya   \n",
       "1  3H Villas Boutique Hotel Lekki Phase 1          45,000          Lekki   \n",
       "2         Swiss International The Vistana          45,650          Lekki   \n",
       "3         Taverna Lounge & Boutique Hotel          14,193  Port Harcourt   \n",
       "4                       Nigus House Lekki          38,471          Lekki   \n",
       "\n",
       "  Rating Classification  No_of_Reviews  \n",
       "0    8.0           Good             22  \n",
       "1    9.6    Exceptional             20  \n",
       "2    8.1           Good             61  \n",
       "3    8.4           Good            119  \n",
       "4    8.9      Excellent             18  "
      ]
     },
     "execution_count": 5,
     "metadata": {},
     "output_type": "execute_result"
    }
   ],
   "source": [
    "hotel.head()"
   ]
  },
  {
   "cell_type": "markdown",
   "id": "2434c189",
   "metadata": {},
   "source": []
  },
  {
   "cell_type": "markdown",
   "id": "7fddcef9",
   "metadata": {},
   "source": [
    "### Data Inspection\n",
    "When working with any data, one of the key and basic things to do is to inspect the data and observe the data types, missing values, extreme observations(outliers) anomalies which will be the guide in data wrangling"
   ]
  },
  {
   "cell_type": "code",
   "execution_count": 6,
   "id": "5b91ff0a",
   "metadata": {},
   "outputs": [
    {
     "data": {
      "text/plain": [
       "(25, 6)"
      ]
     },
     "execution_count": 6,
     "metadata": {},
     "output_type": "execute_result"
    }
   ],
   "source": [
    "hotel.shape #to check to number of rows and columns\n",
    "\n",
    "#there are 25 rows and 6 columns"
   ]
  },
  {
   "cell_type": "code",
   "execution_count": 7,
   "id": "c3380287",
   "metadata": {},
   "outputs": [
    {
     "name": "stdout",
     "output_type": "stream",
     "text": [
      "<class 'pandas.core.frame.DataFrame'>\n",
      "RangeIndex: 25 entries, 0 to 24\n",
      "Data columns (total 6 columns):\n",
      " #   Column           Non-Null Count  Dtype \n",
      "---  ------           --------------  ----- \n",
      " 0   Name             25 non-null     object\n",
      " 1   Price_per_night  25 non-null     object\n",
      " 2   Location         25 non-null     object\n",
      " 3   Rating           25 non-null     object\n",
      " 4   Classification   25 non-null     object\n",
      " 5   No_of_Reviews    25 non-null     int64 \n",
      "dtypes: int64(1), object(5)\n",
      "memory usage: 1.3+ KB\n"
     ]
    }
   ],
   "source": [
    "hotel.info()"
   ]
  },
  {
   "cell_type": "markdown",
   "id": "216f32fe",
   "metadata": {},
   "source": [
    "* All the data types are object including price, rating and numner of reviews which are supposed to be number data types.\n",
    "* There are no missing values"
   ]
  },
  {
   "cell_type": "code",
   "execution_count": 8,
   "id": "48ea48b1",
   "metadata": {},
   "outputs": [
    {
     "data": {
      "text/plain": [
       "Lekki                     5\n",
       "Kano                      2\n",
       "Abuja                     2\n",
       "Port Harcourt             2\n",
       "Asaba                     2\n",
       "Ijebu Ode                 1\n",
       "Ikorodu                   1\n",
       "Ogoyo                     1\n",
       "Lagos                     1\n",
       "Victoria Island, Lagos    1\n",
       "Enugu                     1\n",
       "Awoyaya                   1\n",
       "Oshogbo                   1\n",
       "Abeokuta                  1\n",
       "Gidan Nbora               1\n",
       "Alasia                    1\n",
       "Amuwo                     1\n",
       "Name: Location, dtype: int64"
      ]
     },
     "execution_count": 8,
     "metadata": {},
     "output_type": "execute_result"
    }
   ],
   "source": [
    "hotel['Location'].value_counts()"
   ]
  },
  {
   "cell_type": "code",
   "execution_count": 9,
   "id": "90ad80c0",
   "metadata": {},
   "outputs": [
    {
     "data": {
      "text/plain": [
       "array(['8.0', '9.6', '8.1', '8.4', '8.9', '7.5', '7.0', '8.3', '8.5',\n",
       "       '9.0', '10E', '6.3', '7.1', '8.2', '7.6', '7.7', '7.2', '7.4',\n",
       "       '7.8', '6.8', '7.9'], dtype=object)"
      ]
     },
     "execution_count": 9,
     "metadata": {},
     "output_type": "execute_result"
    }
   ],
   "source": [
    "hotel['Rating'].unique()"
   ]
  },
  {
   "cell_type": "code",
   "execution_count": 10,
   "id": "6cd53253",
   "metadata": {},
   "outputs": [
    {
     "data": {
      "text/plain": [
       "Good           19\n",
       "score           2\n",
       "Excellent       1\n",
       "Exceptional     1\n",
       "Wonderful       1\n",
       "xceptional      1\n",
       "Name: Classification, dtype: int64"
      ]
     },
     "execution_count": 10,
     "metadata": {},
     "output_type": "execute_result"
    }
   ],
   "source": [
    "hotel['Classification'].value_counts()\n",
    "#Exceptional is recorded in two different ways, xceptional and exceptional\n",
    "#xceptional will be corrected to exceptional"
   ]
  },
  {
   "cell_type": "markdown",
   "id": "01f5ac17",
   "metadata": {},
   "source": []
  },
  {
   "cell_type": "markdown",
   "id": "5272dfb8",
   "metadata": {},
   "source": [
    "#### Data Wrangling"
   ]
  },
  {
   "cell_type": "code",
   "execution_count": 11,
   "id": "fe639090",
   "metadata": {},
   "outputs": [
    {
     "data": {
      "text/plain": [
       "Name               0\n",
       "Price_per_night    0\n",
       "Location           0\n",
       "Rating             0\n",
       "Classification     0\n",
       "No_of_Reviews      0\n",
       "dtype: int64"
      ]
     },
     "execution_count": 11,
     "metadata": {},
     "output_type": "execute_result"
    }
   ],
   "source": [
    "## Checking for missing values\n",
    "hotel.isnull().sum()\n",
    "#there are no missing values"
   ]
  },
  {
   "cell_type": "code",
   "execution_count": 12,
   "id": "69976c4c",
   "metadata": {},
   "outputs": [
    {
     "data": {
      "text/plain": [
       "Name               object\n",
       "Price_per_night    object\n",
       "Location           object\n",
       "Rating             object\n",
       "Classification     object\n",
       "No_of_Reviews       int64\n",
       "dtype: object"
      ]
     },
     "execution_count": 12,
     "metadata": {},
     "output_type": "execute_result"
    }
   ],
   "source": [
    "hotel.dtypes"
   ]
  },
  {
   "cell_type": "markdown",
   "id": "0ae544f8",
   "metadata": {},
   "source": [
    "Price_per_night,\n",
    "Ratings\n",
    "and number of reviews will be corrected to the appropriate data types"
   ]
  },
  {
   "cell_type": "code",
   "execution_count": 13,
   "id": "9bd49aaf",
   "metadata": {},
   "outputs": [
    {
     "data": {
      "text/html": [
       "<div>\n",
       "<style scoped>\n",
       "    .dataframe tbody tr th:only-of-type {\n",
       "        vertical-align: middle;\n",
       "    }\n",
       "\n",
       "    .dataframe tbody tr th {\n",
       "        vertical-align: top;\n",
       "    }\n",
       "\n",
       "    .dataframe thead th {\n",
       "        text-align: right;\n",
       "    }\n",
       "</style>\n",
       "<table border=\"1\" class=\"dataframe\">\n",
       "  <thead>\n",
       "    <tr style=\"text-align: right;\">\n",
       "      <th></th>\n",
       "      <th>Name</th>\n",
       "      <th>Price_per_night</th>\n",
       "      <th>Location</th>\n",
       "      <th>Rating</th>\n",
       "      <th>Classification</th>\n",
       "      <th>No_of_Reviews</th>\n",
       "    </tr>\n",
       "  </thead>\n",
       "  <tbody>\n",
       "    <tr>\n",
       "      <th>0</th>\n",
       "      <td>The Agore Hotels and Suites Ltd</td>\n",
       "      <td>18,368</td>\n",
       "      <td>Awoyaya</td>\n",
       "      <td>8.0</td>\n",
       "      <td>Good</td>\n",
       "      <td>22</td>\n",
       "    </tr>\n",
       "    <tr>\n",
       "      <th>1</th>\n",
       "      <td>3H Villas Boutique Hotel Lekki Phase 1</td>\n",
       "      <td>45,000</td>\n",
       "      <td>Lekki</td>\n",
       "      <td>9.6</td>\n",
       "      <td>Exceptional</td>\n",
       "      <td>20</td>\n",
       "    </tr>\n",
       "    <tr>\n",
       "      <th>2</th>\n",
       "      <td>Swiss International The Vistana</td>\n",
       "      <td>45,650</td>\n",
       "      <td>Lekki</td>\n",
       "      <td>8.1</td>\n",
       "      <td>Good</td>\n",
       "      <td>61</td>\n",
       "    </tr>\n",
       "    <tr>\n",
       "      <th>3</th>\n",
       "      <td>Taverna Lounge &amp; Boutique Hotel</td>\n",
       "      <td>14,193</td>\n",
       "      <td>Port Harcourt</td>\n",
       "      <td>8.4</td>\n",
       "      <td>Good</td>\n",
       "      <td>119</td>\n",
       "    </tr>\n",
       "    <tr>\n",
       "      <th>4</th>\n",
       "      <td>Nigus House Lekki</td>\n",
       "      <td>38,471</td>\n",
       "      <td>Lekki</td>\n",
       "      <td>8.9</td>\n",
       "      <td>Excellent</td>\n",
       "      <td>18</td>\n",
       "    </tr>\n",
       "  </tbody>\n",
       "</table>\n",
       "</div>"
      ],
      "text/plain": [
       "                                     Name Price_per_night       Location  \\\n",
       "0         The Agore Hotels and Suites Ltd          18,368        Awoyaya   \n",
       "1  3H Villas Boutique Hotel Lekki Phase 1          45,000          Lekki   \n",
       "2         Swiss International The Vistana          45,650          Lekki   \n",
       "3         Taverna Lounge & Boutique Hotel          14,193  Port Harcourt   \n",
       "4                       Nigus House Lekki          38,471          Lekki   \n",
       "\n",
       "  Rating Classification  No_of_Reviews  \n",
       "0    8.0           Good             22  \n",
       "1    9.6    Exceptional             20  \n",
       "2    8.1           Good             61  \n",
       "3    8.4           Good            119  \n",
       "4    8.9      Excellent             18  "
      ]
     },
     "execution_count": 13,
     "metadata": {},
     "output_type": "execute_result"
    }
   ],
   "source": [
    "hotel['Price_per_night'] = hotel['Price_per_night'].astype(str)\n",
    "hotel.head()"
   ]
  },
  {
   "cell_type": "code",
   "execution_count": 14,
   "id": "e038752b",
   "metadata": {},
   "outputs": [
    {
     "data": {
      "text/plain": [
       "dtype('O')"
      ]
     },
     "execution_count": 14,
     "metadata": {},
     "output_type": "execute_result"
    }
   ],
   "source": [
    "hotel['Price_per_night'].dtypes"
   ]
  },
  {
   "cell_type": "code",
   "execution_count": 15,
   "id": "85df3022",
   "metadata": {},
   "outputs": [],
   "source": [
    "hotel['Price_per_night'] = hotel['Price_per_night'].str.replace(\",\", \"\")"
   ]
  },
  {
   "cell_type": "code",
   "execution_count": 16,
   "id": "cf75e893",
   "metadata": {},
   "outputs": [],
   "source": [
    "hotel['Price_per_night'] = hotel['Price_per_night'].astype(int)"
   ]
  },
  {
   "cell_type": "code",
   "execution_count": 17,
   "id": "4f6fca53",
   "metadata": {},
   "outputs": [
    {
     "data": {
      "text/plain": [
       "0    18368\n",
       "1    45000\n",
       "2    45650\n",
       "3    14193\n",
       "4    38471\n",
       "Name: Price_per_night, dtype: int32"
      ]
     },
     "execution_count": 17,
     "metadata": {},
     "output_type": "execute_result"
    }
   ],
   "source": [
    "hotel['Price_per_night'].head()"
   ]
  },
  {
   "cell_type": "code",
   "execution_count": 18,
   "id": "d113f4e7",
   "metadata": {},
   "outputs": [],
   "source": [
    "hotel['No_of_Reviews'] = pd.to_numeric(hotel['No_of_Reviews'], errors = 'coerce')"
   ]
  },
  {
   "cell_type": "code",
   "execution_count": 19,
   "id": "2cbdcaa1",
   "metadata": {},
   "outputs": [
    {
     "data": {
      "text/plain": [
       "array([ 22,  20,  61, 119,  18,  26,  10,  51,   2,   1,   9,  35,  48,\n",
       "        17, 459,  93, 184,  64,  16,   8,  74,  36], dtype=int64)"
      ]
     },
     "execution_count": 19,
     "metadata": {},
     "output_type": "execute_result"
    }
   ],
   "source": [
    "hotel['No_of_Reviews'].unique()"
   ]
  },
  {
   "cell_type": "code",
   "execution_count": 20,
   "id": "2e9132b8",
   "metadata": {},
   "outputs": [],
   "source": [
    "hotel['Rating'] = pd.to_numeric(hotel['Rating'], errors = 'coerce')"
   ]
  },
  {
   "cell_type": "code",
   "execution_count": 21,
   "id": "66d271b8",
   "metadata": {
    "scrolled": true
   },
   "outputs": [
    {
     "data": {
      "text/plain": [
       "Name                object\n",
       "Price_per_night      int32\n",
       "Location            object\n",
       "Rating             float64\n",
       "Classification      object\n",
       "No_of_Reviews        int64\n",
       "dtype: object"
      ]
     },
     "execution_count": 21,
     "metadata": {},
     "output_type": "execute_result"
    }
   ],
   "source": [
    "hotel.dtypes"
   ]
  },
  {
   "cell_type": "code",
   "execution_count": 22,
   "id": "fe5c80ee",
   "metadata": {},
   "outputs": [
    {
     "data": {
      "text/plain": [
       "array([8. , 9.6, 8.1, 8.4, 8.9, 7.5, 7. , 8.3, 8.5, 9. , nan, 6.3, 7.1,\n",
       "       8.2, 7.6, 7.7, 7.2, 7.4, 7.8, 6.8, 7.9])"
      ]
     },
     "execution_count": 22,
     "metadata": {},
     "output_type": "execute_result"
    }
   ],
   "source": [
    "hotel['Rating'].unique()\n",
    "#the unique observation 10E earlier recorded in Rating has being changed to NaN which \n",
    "#will be dealt with later"
   ]
  },
  {
   "cell_type": "code",
   "execution_count": 23,
   "id": "d0e6f00a",
   "metadata": {},
   "outputs": [
    {
     "data": {
      "text/plain": [
       "Name               0\n",
       "Price_per_night    0\n",
       "Location           0\n",
       "Rating             1\n",
       "Classification     0\n",
       "No_of_Reviews      0\n",
       "dtype: int64"
      ]
     },
     "execution_count": 23,
     "metadata": {},
     "output_type": "execute_result"
    }
   ],
   "source": [
    "hotel.isnull().sum()\n",
    "#there is one missing value"
   ]
  },
  {
   "cell_type": "code",
   "execution_count": 24,
   "id": "e37ae2f8",
   "metadata": {},
   "outputs": [
    {
     "data": {
      "text/html": [
       "<div>\n",
       "<style scoped>\n",
       "    .dataframe tbody tr th:only-of-type {\n",
       "        vertical-align: middle;\n",
       "    }\n",
       "\n",
       "    .dataframe tbody tr th {\n",
       "        vertical-align: top;\n",
       "    }\n",
       "\n",
       "    .dataframe thead th {\n",
       "        text-align: right;\n",
       "    }\n",
       "</style>\n",
       "<table border=\"1\" class=\"dataframe\">\n",
       "  <thead>\n",
       "    <tr style=\"text-align: right;\">\n",
       "      <th></th>\n",
       "      <th>Name</th>\n",
       "      <th>Price_per_night</th>\n",
       "      <th>Location</th>\n",
       "      <th>Rating</th>\n",
       "      <th>Classification</th>\n",
       "      <th>No_of_Reviews</th>\n",
       "    </tr>\n",
       "  </thead>\n",
       "  <tbody>\n",
       "    <tr>\n",
       "      <th>0</th>\n",
       "      <td>The Agore Hotels and Suites Ltd</td>\n",
       "      <td>18368</td>\n",
       "      <td>Awoyaya</td>\n",
       "      <td>8.0</td>\n",
       "      <td>Good</td>\n",
       "      <td>22</td>\n",
       "    </tr>\n",
       "    <tr>\n",
       "      <th>1</th>\n",
       "      <td>3H Villas Boutique Hotel Lekki Phase 1</td>\n",
       "      <td>45000</td>\n",
       "      <td>Lekki</td>\n",
       "      <td>9.6</td>\n",
       "      <td>Exceptional</td>\n",
       "      <td>20</td>\n",
       "    </tr>\n",
       "    <tr>\n",
       "      <th>2</th>\n",
       "      <td>Swiss International The Vistana</td>\n",
       "      <td>45650</td>\n",
       "      <td>Lekki</td>\n",
       "      <td>8.1</td>\n",
       "      <td>Good</td>\n",
       "      <td>61</td>\n",
       "    </tr>\n",
       "    <tr>\n",
       "      <th>3</th>\n",
       "      <td>Taverna Lounge &amp; Boutique Hotel</td>\n",
       "      <td>14193</td>\n",
       "      <td>Port Harcourt</td>\n",
       "      <td>8.4</td>\n",
       "      <td>Good</td>\n",
       "      <td>119</td>\n",
       "    </tr>\n",
       "    <tr>\n",
       "      <th>4</th>\n",
       "      <td>Nigus House Lekki</td>\n",
       "      <td>38471</td>\n",
       "      <td>Lekki</td>\n",
       "      <td>8.9</td>\n",
       "      <td>Excellent</td>\n",
       "      <td>18</td>\n",
       "    </tr>\n",
       "  </tbody>\n",
       "</table>\n",
       "</div>"
      ],
      "text/plain": [
       "                                     Name  Price_per_night       Location  \\\n",
       "0         The Agore Hotels and Suites Ltd            18368        Awoyaya   \n",
       "1  3H Villas Boutique Hotel Lekki Phase 1            45000          Lekki   \n",
       "2         Swiss International The Vistana            45650          Lekki   \n",
       "3         Taverna Lounge & Boutique Hotel            14193  Port Harcourt   \n",
       "4                       Nigus House Lekki            38471          Lekki   \n",
       "\n",
       "   Rating Classification  No_of_Reviews  \n",
       "0     8.0           Good             22  \n",
       "1     9.6    Exceptional             20  \n",
       "2     8.1           Good             61  \n",
       "3     8.4           Good            119  \n",
       "4     8.9      Excellent             18  "
      ]
     },
     "execution_count": 24,
     "metadata": {},
     "output_type": "execute_result"
    }
   ],
   "source": [
    "hotel.head()"
   ]
  },
  {
   "cell_type": "code",
   "execution_count": 25,
   "id": "28778e18",
   "metadata": {},
   "outputs": [
    {
     "data": {
      "text/plain": [
       "array(['Good', 'Exceptional', 'Excellent', 'Wonderful', 'xceptional',\n",
       "       'score'], dtype=object)"
      ]
     },
     "execution_count": 25,
     "metadata": {},
     "output_type": "execute_result"
    }
   ],
   "source": [
    "hotel['Classification'].unique()"
   ]
  },
  {
   "cell_type": "code",
   "execution_count": 26,
   "id": "c730fcae",
   "metadata": {},
   "outputs": [],
   "source": [
    "hotel['Classification'] = hotel['Classification'].replace('xceptional', 'Exceptional')"
   ]
  },
  {
   "cell_type": "code",
   "execution_count": 27,
   "id": "7fc41a38",
   "metadata": {},
   "outputs": [
    {
     "data": {
      "text/plain": [
       "array(['Good', 'Exceptional', 'Excellent', 'Wonderful', 'score'],\n",
       "      dtype=object)"
      ]
     },
     "execution_count": 27,
     "metadata": {},
     "output_type": "execute_result"
    }
   ],
   "source": [
    "hotel['Classification'].unique()\n",
    "#score is not a classification hence it will be converted to a missing value"
   ]
  },
  {
   "cell_type": "code",
   "execution_count": 28,
   "id": "80d09ccb",
   "metadata": {},
   "outputs": [],
   "source": [
    "hotel['Classification'].replace('score', np.nan, inplace = True)"
   ]
  },
  {
   "cell_type": "code",
   "execution_count": 29,
   "id": "a4a70e92",
   "metadata": {},
   "outputs": [
    {
     "data": {
      "text/plain": [
       "array(['Good', 'Exceptional', 'Excellent', 'Wonderful', nan], dtype=object)"
      ]
     },
     "execution_count": 29,
     "metadata": {},
     "output_type": "execute_result"
    }
   ],
   "source": [
    "hotel['Classification'].unique()"
   ]
  },
  {
   "cell_type": "code",
   "execution_count": 30,
   "id": "c9eb5185",
   "metadata": {},
   "outputs": [
    {
     "data": {
      "text/plain": [
       "array(['Good', 'Exceptional', 'Excellent', 'Wonderful', nan], dtype=object)"
      ]
     },
     "execution_count": 30,
     "metadata": {},
     "output_type": "execute_result"
    }
   ],
   "source": [
    "hotel['Classification'].unique()"
   ]
  },
  {
   "cell_type": "code",
   "execution_count": 31,
   "id": "022998d5",
   "metadata": {},
   "outputs": [
    {
     "data": {
      "text/plain": [
       "Good           19\n",
       "Exceptional     2\n",
       "Excellent       1\n",
       "Wonderful       1\n",
       "Name: Classification, dtype: int64"
      ]
     },
     "execution_count": 31,
     "metadata": {},
     "output_type": "execute_result"
    }
   ],
   "source": [
    "hotel['Classification'].value_counts()"
   ]
  },
  {
   "cell_type": "markdown",
   "id": "a5064f46",
   "metadata": {},
   "source": [
    "### Dealing with missing values"
   ]
  },
  {
   "cell_type": "code",
   "execution_count": 32,
   "id": "c6e23a92",
   "metadata": {},
   "outputs": [
    {
     "data": {
      "text/html": [
       "<div>\n",
       "<style scoped>\n",
       "    .dataframe tbody tr th:only-of-type {\n",
       "        vertical-align: middle;\n",
       "    }\n",
       "\n",
       "    .dataframe tbody tr th {\n",
       "        vertical-align: top;\n",
       "    }\n",
       "\n",
       "    .dataframe thead th {\n",
       "        text-align: right;\n",
       "    }\n",
       "</style>\n",
       "<table border=\"1\" class=\"dataframe\">\n",
       "  <thead>\n",
       "    <tr style=\"text-align: right;\">\n",
       "      <th></th>\n",
       "      <th>count</th>\n",
       "      <th>mean</th>\n",
       "      <th>std</th>\n",
       "      <th>min</th>\n",
       "      <th>25%</th>\n",
       "      <th>50%</th>\n",
       "      <th>75%</th>\n",
       "      <th>max</th>\n",
       "    </tr>\n",
       "  </thead>\n",
       "  <tbody>\n",
       "    <tr>\n",
       "      <th>Price_per_night</th>\n",
       "      <td>25.0</td>\n",
       "      <td>37849.200000</td>\n",
       "      <td>28570.983655</td>\n",
       "      <td>9338.0</td>\n",
       "      <td>16322.0</td>\n",
       "      <td>26975.00</td>\n",
       "      <td>48368.000</td>\n",
       "      <td>117653.0</td>\n",
       "    </tr>\n",
       "    <tr>\n",
       "      <th>Rating</th>\n",
       "      <td>24.0</td>\n",
       "      <td>7.783333</td>\n",
       "      <td>0.768209</td>\n",
       "      <td>6.3</td>\n",
       "      <td>7.2</td>\n",
       "      <td>7.75</td>\n",
       "      <td>8.225</td>\n",
       "      <td>9.6</td>\n",
       "    </tr>\n",
       "    <tr>\n",
       "      <th>No_of_Reviews</th>\n",
       "      <td>25.0</td>\n",
       "      <td>66.080000</td>\n",
       "      <td>96.628550</td>\n",
       "      <td>1.0</td>\n",
       "      <td>16.0</td>\n",
       "      <td>35.00</td>\n",
       "      <td>74.000</td>\n",
       "      <td>459.0</td>\n",
       "    </tr>\n",
       "  </tbody>\n",
       "</table>\n",
       "</div>"
      ],
      "text/plain": [
       "                 count          mean           std     min      25%       50%  \\\n",
       "Price_per_night   25.0  37849.200000  28570.983655  9338.0  16322.0  26975.00   \n",
       "Rating            24.0      7.783333      0.768209     6.3      7.2      7.75   \n",
       "No_of_Reviews     25.0     66.080000     96.628550     1.0     16.0     35.00   \n",
       "\n",
       "                       75%       max  \n",
       "Price_per_night  48368.000  117653.0  \n",
       "Rating               8.225       9.6  \n",
       "No_of_Reviews       74.000     459.0  "
      ]
     },
     "execution_count": 32,
     "metadata": {},
     "output_type": "execute_result"
    }
   ],
   "source": [
    "hotel.describe().T"
   ]
  },
  {
   "cell_type": "code",
   "execution_count": 33,
   "id": "75cf1f80",
   "metadata": {},
   "outputs": [],
   "source": [
    "#the mean and median of rating are abit close, hence mean will be used to fill missing values\n",
    "\n",
    "hotel['Rating'].fillna(hotel['Rating'].mean(), inplace = True)"
   ]
  },
  {
   "cell_type": "code",
   "execution_count": 34,
   "id": "f99a0a86",
   "metadata": {},
   "outputs": [
    {
     "data": {
      "text/plain": [
       "Name               0\n",
       "Price_per_night    0\n",
       "Location           0\n",
       "Rating             0\n",
       "Classification     2\n",
       "No_of_Reviews      0\n",
       "dtype: int64"
      ]
     },
     "execution_count": 34,
     "metadata": {},
     "output_type": "execute_result"
    }
   ],
   "source": [
    "hotel.isnull().sum()"
   ]
  },
  {
   "cell_type": "code",
   "execution_count": 35,
   "id": "29eaa30a",
   "metadata": {},
   "outputs": [
    {
     "data": {
      "text/plain": [
       "Good           19\n",
       "Exceptional     2\n",
       "Excellent       1\n",
       "Wonderful       1\n",
       "Name: Classification, dtype: int64"
      ]
     },
     "execution_count": 35,
     "metadata": {},
     "output_type": "execute_result"
    }
   ],
   "source": [
    "hotel['Classification'].value_counts()"
   ]
  },
  {
   "cell_type": "code",
   "execution_count": 36,
   "id": "701a7b4d",
   "metadata": {},
   "outputs": [
    {
     "data": {
      "text/plain": [
       "0    Good\n",
       "dtype: object"
      ]
     },
     "execution_count": 36,
     "metadata": {},
     "output_type": "execute_result"
    }
   ],
   "source": [
    "mode = hotel['Classification'].mode()\n",
    "mode"
   ]
  },
  {
   "cell_type": "code",
   "execution_count": 37,
   "id": "2a57df0a",
   "metadata": {},
   "outputs": [],
   "source": [
    "hotel['Classification'].fillna(hotel['Classification'].mode()[0], inplace = True)"
   ]
  },
  {
   "cell_type": "code",
   "execution_count": 38,
   "id": "82dd2615",
   "metadata": {},
   "outputs": [
    {
     "data": {
      "text/plain": [
       "Name               0\n",
       "Price_per_night    0\n",
       "Location           0\n",
       "Rating             0\n",
       "Classification     0\n",
       "No_of_Reviews      0\n",
       "dtype: int64"
      ]
     },
     "execution_count": 38,
     "metadata": {},
     "output_type": "execute_result"
    }
   ],
   "source": [
    "hotel.isnull().sum()\n",
    "#there are no missing values "
   ]
  },
  {
   "cell_type": "code",
   "execution_count": 39,
   "id": "dc87f880",
   "metadata": {},
   "outputs": [
    {
     "data": {
      "text/html": [
       "<div>\n",
       "<style scoped>\n",
       "    .dataframe tbody tr th:only-of-type {\n",
       "        vertical-align: middle;\n",
       "    }\n",
       "\n",
       "    .dataframe tbody tr th {\n",
       "        vertical-align: top;\n",
       "    }\n",
       "\n",
       "    .dataframe thead th {\n",
       "        text-align: right;\n",
       "    }\n",
       "</style>\n",
       "<table border=\"1\" class=\"dataframe\">\n",
       "  <thead>\n",
       "    <tr style=\"text-align: right;\">\n",
       "      <th></th>\n",
       "      <th>count</th>\n",
       "      <th>mean</th>\n",
       "      <th>std</th>\n",
       "      <th>min</th>\n",
       "      <th>25%</th>\n",
       "      <th>50%</th>\n",
       "      <th>75%</th>\n",
       "      <th>max</th>\n",
       "    </tr>\n",
       "  </thead>\n",
       "  <tbody>\n",
       "    <tr>\n",
       "      <th>Price_per_night</th>\n",
       "      <td>25.0</td>\n",
       "      <td>37849.200000</td>\n",
       "      <td>28570.983655</td>\n",
       "      <td>9338.0</td>\n",
       "      <td>16322.0</td>\n",
       "      <td>26975.000000</td>\n",
       "      <td>48368.0</td>\n",
       "      <td>117653.0</td>\n",
       "    </tr>\n",
       "    <tr>\n",
       "      <th>Rating</th>\n",
       "      <td>25.0</td>\n",
       "      <td>7.783333</td>\n",
       "      <td>0.752034</td>\n",
       "      <td>6.3</td>\n",
       "      <td>7.2</td>\n",
       "      <td>7.783333</td>\n",
       "      <td>8.2</td>\n",
       "      <td>9.6</td>\n",
       "    </tr>\n",
       "    <tr>\n",
       "      <th>No_of_Reviews</th>\n",
       "      <td>25.0</td>\n",
       "      <td>66.080000</td>\n",
       "      <td>96.628550</td>\n",
       "      <td>1.0</td>\n",
       "      <td>16.0</td>\n",
       "      <td>35.000000</td>\n",
       "      <td>74.0</td>\n",
       "      <td>459.0</td>\n",
       "    </tr>\n",
       "  </tbody>\n",
       "</table>\n",
       "</div>"
      ],
      "text/plain": [
       "                 count          mean           std     min      25%  \\\n",
       "Price_per_night   25.0  37849.200000  28570.983655  9338.0  16322.0   \n",
       "Rating            25.0      7.783333      0.752034     6.3      7.2   \n",
       "No_of_Reviews     25.0     66.080000     96.628550     1.0     16.0   \n",
       "\n",
       "                          50%      75%       max  \n",
       "Price_per_night  26975.000000  48368.0  117653.0  \n",
       "Rating               7.783333      8.2       9.6  \n",
       "No_of_Reviews       35.000000     74.0     459.0  "
      ]
     },
     "execution_count": 39,
     "metadata": {},
     "output_type": "execute_result"
    }
   ],
   "source": [
    "hotel.describe().T"
   ]
  },
  {
   "cell_type": "markdown",
   "id": "6fee27aa",
   "metadata": {},
   "source": [
    "There is disparity between the mean and median of price_per_night which means there is skewness in that variable and since the mean is higher than the median, it mostly likely indicates that is skewed to the right(This will be explored more in the EDA section)."
   ]
  },
  {
   "cell_type": "markdown",
   "id": "56913812",
   "metadata": {},
   "source": [
    "#### Detecting and Dealing with Outliers"
   ]
  },
  {
   "cell_type": "code",
   "execution_count": 40,
   "id": "c3f07d18",
   "metadata": {
    "scrolled": true
   },
   "outputs": [
    {
     "data": {
      "image/png": "[encoded data removed]",
      "text/plain": [
       "<Figure size 1152x288 with 1 Axes>"
      ]
     },
     "metadata": {
      "needs_background": "light"
     },
     "output_type": "display_data"
    }
   ],
   "source": [
    "hotel.plot(kind = 'box', figsize = (16, 4))\n",
    "plt.show();"
   ]
  },
  {
   "cell_type": "code",
   "execution_count": 41,
   "id": "ac3be424",
   "metadata": {},
   "outputs": [
    {
     "data": {
      "text/plain": [
       "<AxesSubplot:>"
      ]
     },
     "execution_count": 41,
     "metadata": {},
     "output_type": "execute_result"
    },
    {
     "data": {
      "image/png": "[encoded data removed]",
      "text/plain": [
       "<Figure size 432x288 with 1 Axes>"
      ]
     },
     "metadata": {
      "needs_background": "light"
     },
     "output_type": "display_data"
    }
   ],
   "source": [
    "hotel[\"Price_per_night\"].plot(kind = 'box')"
   ]
  },
  {
   "cell_type": "code",
   "execution_count": 42,
   "id": "a7334293",
   "metadata": {},
   "outputs": [
    {
     "name": "stdout",
     "output_type": "stream",
     "text": [
      "Detected outliers are: []\n"
     ]
    }
   ],
   "source": [
    "outliers = []\n",
    "a = hotel[\"Price_per_night\"]\n",
    "def detect_outliers_zscore(a):\n",
    "    thres = 3\n",
    "    mean = np.mean(a)\n",
    "    std = np.std(a)\n",
    "    # print(mean, std)\n",
    "    for i in a:\n",
    "        z_score = (i-mean)/std\n",
    "        if (np.abs(z_score) > thres):\n",
    "            outliers.append(i)\n",
    "    return outliers# Driver code\n",
    "sample_outliers = detect_outliers_zscore(a)\n",
    "print(\"Detected outliers are:\", sample_outliers)"
   ]
  },
  {
   "cell_type": "markdown",
   "id": "bc9b14f4",
   "metadata": {},
   "source": [
    "156571 is the only detected outlier in price per night hence will it be replaced with the median."
   ]
  },
  {
   "cell_type": "code",
   "execution_count": 43,
   "id": "2fbe6afb",
   "metadata": {},
   "outputs": [],
   "source": [
    "hotel[\"Price_per_night\"].replace(156571, hotel[\"Price_per_night\"].median(), inplace = True)"
   ]
  },
  {
   "cell_type": "code",
   "execution_count": 44,
   "id": "09976b6d",
   "metadata": {},
   "outputs": [
    {
     "data": {
      "image/png": "[encoded data removed]",
      "text/plain": [
       "<Figure size 432x288 with 1 Axes>"
      ]
     },
     "metadata": {
      "needs_background": "light"
     },
     "output_type": "display_data"
    }
   ],
   "source": [
    "hotel[\"Price_per_night\"].plot(kind = \"box\");"
   ]
  },
  {
   "cell_type": "code",
   "execution_count": 45,
   "id": "30f766c6",
   "metadata": {},
   "outputs": [
    {
     "data": {
      "text/plain": [
       "Index(['Name', 'Price_per_night', 'Location', 'Rating', 'Classification',\n",
       "       'No_of_Reviews'],\n",
       "      dtype='object')"
      ]
     },
     "execution_count": 45,
     "metadata": {},
     "output_type": "execute_result"
    }
   ],
   "source": [
    "hotel.columns"
   ]
  },
  {
   "cell_type": "code",
   "execution_count": 46,
   "id": "ac891e4f",
   "metadata": {},
   "outputs": [
    {
     "name": "stdout",
     "output_type": "stream",
     "text": [
      "Detected outliers are: []\n"
     ]
    }
   ],
   "source": [
    "outliers = []\n",
    "a = hotel['Rating']\n",
    "def detect_outliers_zscore(a):\n",
    "    thres = 3\n",
    "    mean = np.mean(a)\n",
    "    std = np.std(a)\n",
    "    # print(mean, std)\n",
    "    for i in a:\n",
    "        z_score = (i-mean)/std\n",
    "        if (np.abs(z_score) > thres):\n",
    "            outliers.append(i)\n",
    "    return outliers# Driver code\n",
    "sample_outliers = detect_outliers_zscore(a)\n",
    "print(\"Detected outliers are:\", sample_outliers)"
   ]
  },
  {
   "cell_type": "markdown",
   "id": "412da136",
   "metadata": {},
   "source": [
    "An empty list is returned which indicates there are no extreme observations"
   ]
  },
  {
   "cell_type": "markdown",
   "id": "5c02b8f7",
   "metadata": {},
   "source": []
  },
  {
   "cell_type": "markdown",
   "id": "20c13ab6",
   "metadata": {},
   "source": [
    "#### Exploratory Data Analysis"
   ]
  },
  {
   "cell_type": "code",
   "execution_count": 47,
   "id": "11b658a0",
   "metadata": {},
   "outputs": [
    {
     "data": {
      "text/html": [
       "<div>\n",
       "<style scoped>\n",
       "    .dataframe tbody tr th:only-of-type {\n",
       "        vertical-align: middle;\n",
       "    }\n",
       "\n",
       "    .dataframe tbody tr th {\n",
       "        vertical-align: top;\n",
       "    }\n",
       "\n",
       "    .dataframe thead th {\n",
       "        text-align: right;\n",
       "    }\n",
       "</style>\n",
       "<table border=\"1\" class=\"dataframe\">\n",
       "  <thead>\n",
       "    <tr style=\"text-align: right;\">\n",
       "      <th></th>\n",
       "      <th>count</th>\n",
       "      <th>mean</th>\n",
       "      <th>std</th>\n",
       "      <th>min</th>\n",
       "      <th>25%</th>\n",
       "      <th>50%</th>\n",
       "      <th>75%</th>\n",
       "      <th>max</th>\n",
       "    </tr>\n",
       "  </thead>\n",
       "  <tbody>\n",
       "    <tr>\n",
       "      <th>Price_per_night</th>\n",
       "      <td>25.0</td>\n",
       "      <td>37849.200000</td>\n",
       "      <td>28570.983655</td>\n",
       "      <td>9338.0</td>\n",
       "      <td>16322.0</td>\n",
       "      <td>26975.000000</td>\n",
       "      <td>48368.0</td>\n",
       "      <td>117653.0</td>\n",
       "    </tr>\n",
       "    <tr>\n",
       "      <th>Rating</th>\n",
       "      <td>25.0</td>\n",
       "      <td>7.783333</td>\n",
       "      <td>0.752034</td>\n",
       "      <td>6.3</td>\n",
       "      <td>7.2</td>\n",
       "      <td>7.783333</td>\n",
       "      <td>8.2</td>\n",
       "      <td>9.6</td>\n",
       "    </tr>\n",
       "    <tr>\n",
       "      <th>No_of_Reviews</th>\n",
       "      <td>25.0</td>\n",
       "      <td>66.080000</td>\n",
       "      <td>96.628550</td>\n",
       "      <td>1.0</td>\n",
       "      <td>16.0</td>\n",
       "      <td>35.000000</td>\n",
       "      <td>74.0</td>\n",
       "      <td>459.0</td>\n",
       "    </tr>\n",
       "  </tbody>\n",
       "</table>\n",
       "</div>"
      ],
      "text/plain": [
       "                 count          mean           std     min      25%  \\\n",
       "Price_per_night   25.0  37849.200000  28570.983655  9338.0  16322.0   \n",
       "Rating            25.0      7.783333      0.752034     6.3      7.2   \n",
       "No_of_Reviews     25.0     66.080000     96.628550     1.0     16.0   \n",
       "\n",
       "                          50%      75%       max  \n",
       "Price_per_night  26975.000000  48368.0  117653.0  \n",
       "Rating               7.783333      8.2       9.6  \n",
       "No_of_Reviews       35.000000     74.0     459.0  "
      ]
     },
     "execution_count": 47,
     "metadata": {},
     "output_type": "execute_result"
    }
   ],
   "source": [
    "hotel.describe().T"
   ]
  },
  {
   "cell_type": "code",
   "execution_count": 48,
   "id": "0aab54d3",
   "metadata": {},
   "outputs": [
    {
     "data": {
      "image/png": "[encoded data removed]",
      "text/plain": [
       "<Figure size 576x576 with 4 Axes>"
      ]
     },
     "metadata": {
      "needs_background": "light"
     },
     "output_type": "display_data"
    }
   ],
   "source": [
    "hotel.hist(figsize = (8, 8))\n",
    "plt.show();"
   ]
  },
  {
   "cell_type": "code",
   "execution_count": 49,
   "id": "628a22b8",
   "metadata": {},
   "outputs": [
    {
     "data": {
      "image/png": "[encoded data removed]",
      "text/plain": [
       "<Figure size 432x288 with 1 Axes>"
      ]
     },
     "metadata": {
      "needs_background": "light"
     },
     "output_type": "display_data"
    }
   ],
   "source": [
    "hotel['Price_per_night'].plot(kind = 'hist')\n",
    "plt.show();"
   ]
  },
  {
   "cell_type": "markdown",
   "id": "43922c70",
   "metadata": {},
   "source": [
    "Hotels with price range of 20000 have the highest distribution to 40000 and 60000 and there is a gradual decrease as the price per night increase and between 120000 to 140000 per night, there is observation of point and low distribution in 160000."
   ]
  },
  {
   "cell_type": "code",
   "execution_count": 50,
   "id": "6f07b529",
   "metadata": {},
   "outputs": [
    {
     "data": {
      "image/png": "[encoded data removed]",
      "text/plain": [
       "<Figure size 432x432 with 1 Axes>"
      ]
     },
     "metadata": {
      "needs_background": "light"
     },
     "output_type": "display_data"
    }
   ],
   "source": [
    "hotel.plot(kind = 'scatter', x = 'Rating', y = 'Price_per_night', alpha = 0.5, \n",
    "          color = 'black', figsize = (6, 6));"
   ]
  },
  {
   "cell_type": "code",
   "execution_count": 51,
   "id": "75961975",
   "metadata": {},
   "outputs": [
    {
     "data": {
      "image/png": "[encoded data removed]",
      "text/plain": [
       "<Figure size 432x432 with 1 Axes>"
      ]
     },
     "metadata": {
      "needs_background": "light"
     },
     "output_type": "display_data"
    }
   ],
   "source": [
    "hotel.plot(kind = 'scatter', x = 'Rating', y = 'No_of_Reviews', alpha = 0.5, \n",
    "          color = 'black', title = 'Rating by Reviews', figsize = (6, 6));"
   ]
  },
  {
   "cell_type": "code",
   "execution_count": 52,
   "id": "d9168a60",
   "metadata": {},
   "outputs": [
    {
     "data": {
      "image/png": "[encoded data removed]",
      "text/plain": [
       "<Figure size 432x432 with 1 Axes>"
      ]
     },
     "metadata": {
      "needs_background": "light"
     },
     "output_type": "display_data"
    }
   ],
   "source": [
    "hotel.plot(kind = 'scatter', y = 'Price_per_night', x = 'No_of_Reviews', alpha = 0.5, \n",
    "          color = 'black', figsize = (6, 6));"
   ]
  },
  {
   "cell_type": "code",
   "execution_count": 53,
   "id": "01603cf4",
   "metadata": {},
   "outputs": [
    {
     "data": {
      "image/png": "[encoded data removed]",
      "text/plain": [
       "<Figure size 432x432 with 1 Axes>"
      ]
     },
     "metadata": {
      "needs_background": "light"
     },
     "output_type": "display_data"
    }
   ],
   "source": [
    "hotel.plot(kind = 'bar', y = 'Price_per_night', x = 'No_of_Reviews', alpha = 0.5, \n",
    "          color = 'black', figsize = (6, 6));"
   ]
  },
  {
   "cell_type": "markdown",
   "id": "005a3ac3",
   "metadata": {},
   "source": [
    "### Feature Engineering"
   ]
  },
  {
   "cell_type": "code",
   "execution_count": 54,
   "id": "7f3dc561",
   "metadata": {},
   "outputs": [],
   "source": [
    "West_region = ['Lekki', 'Victoria Island, Lagos', 'Agege', 'Abeokuta', 'Ijebu Ode', 'Awoyaya', \n",
    "               'Ogoyo', 'Lagos']\n",
    "North_region = ['Abuja', 'Jabi', 'Gidan Nbora']\n",
    "South_region = ['Port Harcourt', 'Asaba']\n",
    "East_region = ['Enugu', 'Owerri']         "
   ]
  },
  {
   "cell_type": "code",
   "execution_count": 55,
   "id": "2046029e",
   "metadata": {},
   "outputs": [],
   "source": [
    "Region = []\n",
    "\n",
    "for loc in hotel['Location']:\n",
    "    if loc in West_region:\n",
    "        Region.append('West')\n",
    "    elif loc in North_region:\n",
    "        Region.append('North')\n",
    "    elif loc in South_region:\n",
    "        Region.append('South')\n",
    "    else:\n",
    "        Region.append('East')"
   ]
  },
  {
   "cell_type": "code",
   "execution_count": 56,
   "id": "645b937b",
   "metadata": {},
   "outputs": [],
   "source": [
    "hotel['Region'] = Region"
   ]
  },
  {
   "cell_type": "code",
   "execution_count": 57,
   "id": "1517c0b3",
   "metadata": {},
   "outputs": [
    {
     "data": {
      "text/html": [
       "<div>\n",
       "<style scoped>\n",
       "    .dataframe tbody tr th:only-of-type {\n",
       "        vertical-align: middle;\n",
       "    }\n",
       "\n",
       "    .dataframe tbody tr th {\n",
       "        vertical-align: top;\n",
       "    }\n",
       "\n",
       "    .dataframe thead th {\n",
       "        text-align: right;\n",
       "    }\n",
       "</style>\n",
       "<table border=\"1\" class=\"dataframe\">\n",
       "  <thead>\n",
       "    <tr style=\"text-align: right;\">\n",
       "      <th></th>\n",
       "      <th>Name</th>\n",
       "      <th>Price_per_night</th>\n",
       "      <th>Location</th>\n",
       "      <th>Rating</th>\n",
       "      <th>Classification</th>\n",
       "      <th>No_of_Reviews</th>\n",
       "      <th>Region</th>\n",
       "    </tr>\n",
       "  </thead>\n",
       "  <tbody>\n",
       "    <tr>\n",
       "      <th>0</th>\n",
       "      <td>The Agore Hotels and Suites Ltd</td>\n",
       "      <td>18368</td>\n",
       "      <td>Awoyaya</td>\n",
       "      <td>8.0</td>\n",
       "      <td>Good</td>\n",
       "      <td>22</td>\n",
       "      <td>West</td>\n",
       "    </tr>\n",
       "    <tr>\n",
       "      <th>1</th>\n",
       "      <td>3H Villas Boutique Hotel Lekki Phase 1</td>\n",
       "      <td>45000</td>\n",
       "      <td>Lekki</td>\n",
       "      <td>9.6</td>\n",
       "      <td>Exceptional</td>\n",
       "      <td>20</td>\n",
       "      <td>West</td>\n",
       "    </tr>\n",
       "    <tr>\n",
       "      <th>2</th>\n",
       "      <td>Swiss International The Vistana</td>\n",
       "      <td>45650</td>\n",
       "      <td>Lekki</td>\n",
       "      <td>8.1</td>\n",
       "      <td>Good</td>\n",
       "      <td>61</td>\n",
       "      <td>West</td>\n",
       "    </tr>\n",
       "    <tr>\n",
       "      <th>3</th>\n",
       "      <td>Taverna Lounge &amp; Boutique Hotel</td>\n",
       "      <td>14193</td>\n",
       "      <td>Port Harcourt</td>\n",
       "      <td>8.4</td>\n",
       "      <td>Good</td>\n",
       "      <td>119</td>\n",
       "      <td>South</td>\n",
       "    </tr>\n",
       "    <tr>\n",
       "      <th>4</th>\n",
       "      <td>Nigus House Lekki</td>\n",
       "      <td>38471</td>\n",
       "      <td>Lekki</td>\n",
       "      <td>8.9</td>\n",
       "      <td>Excellent</td>\n",
       "      <td>18</td>\n",
       "      <td>West</td>\n",
       "    </tr>\n",
       "  </tbody>\n",
       "</table>\n",
       "</div>"
      ],
      "text/plain": [
       "                                     Name  Price_per_night       Location  \\\n",
       "0         The Agore Hotels and Suites Ltd            18368        Awoyaya   \n",
       "1  3H Villas Boutique Hotel Lekki Phase 1            45000          Lekki   \n",
       "2         Swiss International The Vistana            45650          Lekki   \n",
       "3         Taverna Lounge & Boutique Hotel            14193  Port Harcourt   \n",
       "4                       Nigus House Lekki            38471          Lekki   \n",
       "\n",
       "   Rating Classification  No_of_Reviews Region  \n",
       "0     8.0           Good             22   West  \n",
       "1     9.6    Exceptional             20   West  \n",
       "2     8.1           Good             61   West  \n",
       "3     8.4           Good            119  South  \n",
       "4     8.9      Excellent             18   West  "
      ]
     },
     "execution_count": 57,
     "metadata": {},
     "output_type": "execute_result"
    }
   ],
   "source": [
    "hotel.head()"
   ]
  },
  {
   "cell_type": "code",
   "execution_count": 58,
   "id": "a149c361",
   "metadata": {},
   "outputs": [],
   "source": [
    "lagos = ['Lekki', 'Victoria Island, Lagos', 'Agege', 'Lagos', 'Awoyaya', 'Ogoyo']\n",
    "ogun = ['Ijebu Ode']\n",
    "fct = ['Abuja', 'Jabi', 'Gidan Nbora']\n",
    "rivers = ['Port Harcourt']\n",
    "delta = ['Asaba']\n",
    "enugu = ['Enugu']\n",
    "imo = ['Owerri']"
   ]
  },
  {
   "cell_type": "code",
   "execution_count": 59,
   "id": "cfd0a4d1",
   "metadata": {},
   "outputs": [],
   "source": [
    "State = []\n",
    "\n",
    "for loc in hotel[\"Location\"]:\n",
    "    if loc in lagos:\n",
    "        State.append(\"Lagos State\")\n",
    "    elif loc in fct:\n",
    "        State.append(\"FCT\")\n",
    "    elif loc in rivers:\n",
    "        State.append('Rivers State')\n",
    "    elif loc in delta:\n",
    "        State.append(\"Delta State\")\n",
    "    elif loc in ogun:\n",
    "        State.append(\"Ogun State\")\n",
    "    elif loc in enugu:\n",
    "        State.append('Enugu State')\n",
    "    else:\n",
    "        State.append('Imo State')"
   ]
  },
  {
   "cell_type": "code",
   "execution_count": 60,
   "id": "f9ebe03a",
   "metadata": {
    "scrolled": true
   },
   "outputs": [
    {
     "data": {
      "text/html": [
       "<div>\n",
       "<style scoped>\n",
       "    .dataframe tbody tr th:only-of-type {\n",
       "        vertical-align: middle;\n",
       "    }\n",
       "\n",
       "    .dataframe tbody tr th {\n",
       "        vertical-align: top;\n",
       "    }\n",
       "\n",
       "    .dataframe thead th {\n",
       "        text-align: right;\n",
       "    }\n",
       "</style>\n",
       "<table border=\"1\" class=\"dataframe\">\n",
       "  <thead>\n",
       "    <tr style=\"text-align: right;\">\n",
       "      <th></th>\n",
       "      <th>Name</th>\n",
       "      <th>Price_per_night</th>\n",
       "      <th>Location</th>\n",
       "      <th>Rating</th>\n",
       "      <th>Classification</th>\n",
       "      <th>No_of_Reviews</th>\n",
       "      <th>Region</th>\n",
       "      <th>State</th>\n",
       "    </tr>\n",
       "  </thead>\n",
       "  <tbody>\n",
       "    <tr>\n",
       "      <th>0</th>\n",
       "      <td>The Agore Hotels and Suites Ltd</td>\n",
       "      <td>18368</td>\n",
       "      <td>Awoyaya</td>\n",
       "      <td>8.0</td>\n",
       "      <td>Good</td>\n",
       "      <td>22</td>\n",
       "      <td>West</td>\n",
       "      <td>Lagos State</td>\n",
       "    </tr>\n",
       "    <tr>\n",
       "      <th>1</th>\n",
       "      <td>3H Villas Boutique Hotel Lekki Phase 1</td>\n",
       "      <td>45000</td>\n",
       "      <td>Lekki</td>\n",
       "      <td>9.6</td>\n",
       "      <td>Exceptional</td>\n",
       "      <td>20</td>\n",
       "      <td>West</td>\n",
       "      <td>Lagos State</td>\n",
       "    </tr>\n",
       "    <tr>\n",
       "      <th>2</th>\n",
       "      <td>Swiss International The Vistana</td>\n",
       "      <td>45650</td>\n",
       "      <td>Lekki</td>\n",
       "      <td>8.1</td>\n",
       "      <td>Good</td>\n",
       "      <td>61</td>\n",
       "      <td>West</td>\n",
       "      <td>Lagos State</td>\n",
       "    </tr>\n",
       "    <tr>\n",
       "      <th>3</th>\n",
       "      <td>Taverna Lounge &amp; Boutique Hotel</td>\n",
       "      <td>14193</td>\n",
       "      <td>Port Harcourt</td>\n",
       "      <td>8.4</td>\n",
       "      <td>Good</td>\n",
       "      <td>119</td>\n",
       "      <td>South</td>\n",
       "      <td>Rivers State</td>\n",
       "    </tr>\n",
       "    <tr>\n",
       "      <th>4</th>\n",
       "      <td>Nigus House Lekki</td>\n",
       "      <td>38471</td>\n",
       "      <td>Lekki</td>\n",
       "      <td>8.9</td>\n",
       "      <td>Excellent</td>\n",
       "      <td>18</td>\n",
       "      <td>West</td>\n",
       "      <td>Lagos State</td>\n",
       "    </tr>\n",
       "  </tbody>\n",
       "</table>\n",
       "</div>"
      ],
      "text/plain": [
       "                                     Name  Price_per_night       Location  \\\n",
       "0         The Agore Hotels and Suites Ltd            18368        Awoyaya   \n",
       "1  3H Villas Boutique Hotel Lekki Phase 1            45000          Lekki   \n",
       "2         Swiss International The Vistana            45650          Lekki   \n",
       "3         Taverna Lounge & Boutique Hotel            14193  Port Harcourt   \n",
       "4                       Nigus House Lekki            38471          Lekki   \n",
       "\n",
       "   Rating Classification  No_of_Reviews Region         State  \n",
       "0     8.0           Good             22   West   Lagos State  \n",
       "1     9.6    Exceptional             20   West   Lagos State  \n",
       "2     8.1           Good             61   West   Lagos State  \n",
       "3     8.4           Good            119  South  Rivers State  \n",
       "4     8.9      Excellent             18   West   Lagos State  "
      ]
     },
     "execution_count": 60,
     "metadata": {},
     "output_type": "execute_result"
    }
   ],
   "source": [
    "hotel['State'] = State\n",
    "hotel.head()"
   ]
  },
  {
   "cell_type": "code",
   "execution_count": 61,
   "id": "c87f7399",
   "metadata": {
    "scrolled": false
   },
   "outputs": [
    {
     "data": {
      "text/plain": [
       "0          Low\n",
       "1          Low\n",
       "2     Moderate\n",
       "3          Low\n",
       "4          Low\n",
       "5         High\n",
       "6          Low\n",
       "7          Low\n",
       "8     Moderate\n",
       "9         High\n",
       "10        High\n",
       "11         Low\n",
       "12         Low\n",
       "13         Low\n",
       "14         Low\n",
       "15         Low\n",
       "16    Moderate\n",
       "17    Moderate\n",
       "18         Low\n",
       "19         Low\n",
       "20         Low\n",
       "21         Low\n",
       "22         Low\n",
       "23    Moderate\n",
       "24         Low\n",
       "Name: Price Range, dtype: category\n",
       "Categories (3, object): ['Low' < 'Moderate' < 'High']"
      ]
     },
     "execution_count": 61,
     "metadata": {},
     "output_type": "execute_result"
    }
   ],
   "source": [
    "#categorise the price per night into high, moderate and low\n",
    "hotel['Price Range'] = pd.cut(hotel[\"Price_per_night\"], 3, labels = ['Low', 'Moderate', \"High\"])\n",
    "hotel['Price Range']"
   ]
  },
  {
   "cell_type": "code",
   "execution_count": 62,
   "id": "db2afa65",
   "metadata": {
    "scrolled": true
   },
   "outputs": [
    {
     "data": {
      "text/html": [
       "<div>\n",
       "<style scoped>\n",
       "    .dataframe tbody tr th:only-of-type {\n",
       "        vertical-align: middle;\n",
       "    }\n",
       "\n",
       "    .dataframe tbody tr th {\n",
       "        vertical-align: top;\n",
       "    }\n",
       "\n",
       "    .dataframe thead th {\n",
       "        text-align: right;\n",
       "    }\n",
       "</style>\n",
       "<table border=\"1\" class=\"dataframe\">\n",
       "  <thead>\n",
       "    <tr style=\"text-align: right;\">\n",
       "      <th></th>\n",
       "      <th>Name</th>\n",
       "      <th>Price_per_night</th>\n",
       "      <th>Location</th>\n",
       "      <th>Rating</th>\n",
       "      <th>Classification</th>\n",
       "      <th>No_of_Reviews</th>\n",
       "      <th>Region</th>\n",
       "      <th>State</th>\n",
       "      <th>Price Range</th>\n",
       "    </tr>\n",
       "  </thead>\n",
       "  <tbody>\n",
       "    <tr>\n",
       "      <th>0</th>\n",
       "      <td>The Agore Hotels and Suites Ltd</td>\n",
       "      <td>18368</td>\n",
       "      <td>Awoyaya</td>\n",
       "      <td>8.0</td>\n",
       "      <td>Good</td>\n",
       "      <td>22</td>\n",
       "      <td>West</td>\n",
       "      <td>Lagos State</td>\n",
       "      <td>Low</td>\n",
       "    </tr>\n",
       "    <tr>\n",
       "      <th>1</th>\n",
       "      <td>3H Villas Boutique Hotel Lekki Phase 1</td>\n",
       "      <td>45000</td>\n",
       "      <td>Lekki</td>\n",
       "      <td>9.6</td>\n",
       "      <td>Exceptional</td>\n",
       "      <td>20</td>\n",
       "      <td>West</td>\n",
       "      <td>Lagos State</td>\n",
       "      <td>Low</td>\n",
       "    </tr>\n",
       "    <tr>\n",
       "      <th>2</th>\n",
       "      <td>Swiss International The Vistana</td>\n",
       "      <td>45650</td>\n",
       "      <td>Lekki</td>\n",
       "      <td>8.1</td>\n",
       "      <td>Good</td>\n",
       "      <td>61</td>\n",
       "      <td>West</td>\n",
       "      <td>Lagos State</td>\n",
       "      <td>Moderate</td>\n",
       "    </tr>\n",
       "    <tr>\n",
       "      <th>3</th>\n",
       "      <td>Taverna Lounge &amp; Boutique Hotel</td>\n",
       "      <td>14193</td>\n",
       "      <td>Port Harcourt</td>\n",
       "      <td>8.4</td>\n",
       "      <td>Good</td>\n",
       "      <td>119</td>\n",
       "      <td>South</td>\n",
       "      <td>Rivers State</td>\n",
       "      <td>Low</td>\n",
       "    </tr>\n",
       "    <tr>\n",
       "      <th>4</th>\n",
       "      <td>Nigus House Lekki</td>\n",
       "      <td>38471</td>\n",
       "      <td>Lekki</td>\n",
       "      <td>8.9</td>\n",
       "      <td>Excellent</td>\n",
       "      <td>18</td>\n",
       "      <td>West</td>\n",
       "      <td>Lagos State</td>\n",
       "      <td>Low</td>\n",
       "    </tr>\n",
       "  </tbody>\n",
       "</table>\n",
       "</div>"
      ],
      "text/plain": [
       "                                     Name  Price_per_night       Location  \\\n",
       "0         The Agore Hotels and Suites Ltd            18368        Awoyaya   \n",
       "1  3H Villas Boutique Hotel Lekki Phase 1            45000          Lekki   \n",
       "2         Swiss International The Vistana            45650          Lekki   \n",
       "3         Taverna Lounge & Boutique Hotel            14193  Port Harcourt   \n",
       "4                       Nigus House Lekki            38471          Lekki   \n",
       "\n",
       "   Rating Classification  No_of_Reviews Region         State Price Range  \n",
       "0     8.0           Good             22   West   Lagos State         Low  \n",
       "1     9.6    Exceptional             20   West   Lagos State         Low  \n",
       "2     8.1           Good             61   West   Lagos State    Moderate  \n",
       "3     8.4           Good            119  South  Rivers State         Low  \n",
       "4     8.9      Excellent             18   West   Lagos State         Low  "
      ]
     },
     "execution_count": 62,
     "metadata": {},
     "output_type": "execute_result"
    }
   ],
   "source": [
    "hotel.head()"
   ]
  },
  {
   "cell_type": "markdown",
   "id": "514b9c5f",
   "metadata": {},
   "source": []
  },
  {
   "cell_type": "code",
   "execution_count": 63,
   "id": "d42665e3",
   "metadata": {},
   "outputs": [],
   "source": [
    "hotel.drop(['Name','Location'], axis = 1,inplace = True)"
   ]
  },
  {
   "cell_type": "markdown",
   "id": "cdddce27",
   "metadata": {},
   "source": [
    "#### Feature Importance and Selection"
   ]
  },
  {
   "cell_type": "code",
   "execution_count": 64,
   "id": "42248650",
   "metadata": {},
   "outputs": [
    {
     "data": {
      "text/html": [
       "<div>\n",
       "<style scoped>\n",
       "    .dataframe tbody tr th:only-of-type {\n",
       "        vertical-align: middle;\n",
       "    }\n",
       "\n",
       "    .dataframe tbody tr th {\n",
       "        vertical-align: top;\n",
       "    }\n",
       "\n",
       "    .dataframe thead th {\n",
       "        text-align: right;\n",
       "    }\n",
       "</style>\n",
       "<table border=\"1\" class=\"dataframe\">\n",
       "  <thead>\n",
       "    <tr style=\"text-align: right;\">\n",
       "      <th></th>\n",
       "      <th>Price_per_night</th>\n",
       "      <th>Rating</th>\n",
       "      <th>Classification</th>\n",
       "      <th>No_of_Reviews</th>\n",
       "      <th>Region</th>\n",
       "      <th>State</th>\n",
       "      <th>Price Range</th>\n",
       "    </tr>\n",
       "  </thead>\n",
       "  <tbody>\n",
       "    <tr>\n",
       "      <th>0</th>\n",
       "      <td>18368</td>\n",
       "      <td>8.0</td>\n",
       "      <td>Good</td>\n",
       "      <td>22</td>\n",
       "      <td>West</td>\n",
       "      <td>Lagos State</td>\n",
       "      <td>Low</td>\n",
       "    </tr>\n",
       "    <tr>\n",
       "      <th>1</th>\n",
       "      <td>45000</td>\n",
       "      <td>9.6</td>\n",
       "      <td>Exceptional</td>\n",
       "      <td>20</td>\n",
       "      <td>West</td>\n",
       "      <td>Lagos State</td>\n",
       "      <td>Low</td>\n",
       "    </tr>\n",
       "    <tr>\n",
       "      <th>2</th>\n",
       "      <td>45650</td>\n",
       "      <td>8.1</td>\n",
       "      <td>Good</td>\n",
       "      <td>61</td>\n",
       "      <td>West</td>\n",
       "      <td>Lagos State</td>\n",
       "      <td>Moderate</td>\n",
       "    </tr>\n",
       "    <tr>\n",
       "      <th>3</th>\n",
       "      <td>14193</td>\n",
       "      <td>8.4</td>\n",
       "      <td>Good</td>\n",
       "      <td>119</td>\n",
       "      <td>South</td>\n",
       "      <td>Rivers State</td>\n",
       "      <td>Low</td>\n",
       "    </tr>\n",
       "    <tr>\n",
       "      <th>4</th>\n",
       "      <td>38471</td>\n",
       "      <td>8.9</td>\n",
       "      <td>Excellent</td>\n",
       "      <td>18</td>\n",
       "      <td>West</td>\n",
       "      <td>Lagos State</td>\n",
       "      <td>Low</td>\n",
       "    </tr>\n",
       "  </tbody>\n",
       "</table>\n",
       "</div>"
      ],
      "text/plain": [
       "   Price_per_night  Rating Classification  No_of_Reviews Region         State  \\\n",
       "0            18368     8.0           Good             22   West   Lagos State   \n",
       "1            45000     9.6    Exceptional             20   West   Lagos State   \n",
       "2            45650     8.1           Good             61   West   Lagos State   \n",
       "3            14193     8.4           Good            119  South  Rivers State   \n",
       "4            38471     8.9      Excellent             18   West   Lagos State   \n",
       "\n",
       "  Price Range  \n",
       "0         Low  \n",
       "1         Low  \n",
       "2    Moderate  \n",
       "3         Low  \n",
       "4         Low  "
      ]
     },
     "execution_count": 64,
     "metadata": {},
     "output_type": "execute_result"
    }
   ],
   "source": [
    "hotel_df = hotel.copy()\n",
    "hotel_df.head()"
   ]
  },
  {
   "cell_type": "code",
   "execution_count": 65,
   "id": "c64d93c2",
   "metadata": {},
   "outputs": [
    {
     "data": {
      "text/plain": [
       "0    18368\n",
       "1    45000\n",
       "2    45650\n",
       "3    14193\n",
       "4    38471\n",
       "Name: Price_per_night, dtype: int32"
      ]
     },
     "execution_count": 65,
     "metadata": {},
     "output_type": "execute_result"
    }
   ],
   "source": [
    "y = hotel_df['Price_per_night']\n",
    "y.head()"
   ]
  },
  {
   "cell_type": "code",
   "execution_count": 66,
   "id": "99d0e050",
   "metadata": {},
   "outputs": [],
   "source": [
    "hotel_df.drop('Price_per_night', axis = 1, inplace = True)"
   ]
  },
  {
   "cell_type": "code",
   "execution_count": 67,
   "id": "0aa81bb2",
   "metadata": {},
   "outputs": [
    {
     "data": {
      "text/html": [
       "<div>\n",
       "<style scoped>\n",
       "    .dataframe tbody tr th:only-of-type {\n",
       "        vertical-align: middle;\n",
       "    }\n",
       "\n",
       "    .dataframe tbody tr th {\n",
       "        vertical-align: top;\n",
       "    }\n",
       "\n",
       "    .dataframe thead th {\n",
       "        text-align: right;\n",
       "    }\n",
       "</style>\n",
       "<table border=\"1\" class=\"dataframe\">\n",
       "  <thead>\n",
       "    <tr style=\"text-align: right;\">\n",
       "      <th></th>\n",
       "      <th>Rating</th>\n",
       "      <th>Classification</th>\n",
       "      <th>No_of_Reviews</th>\n",
       "      <th>Region</th>\n",
       "      <th>State</th>\n",
       "      <th>Price Range</th>\n",
       "    </tr>\n",
       "  </thead>\n",
       "  <tbody>\n",
       "    <tr>\n",
       "      <th>0</th>\n",
       "      <td>8.0</td>\n",
       "      <td>Good</td>\n",
       "      <td>22</td>\n",
       "      <td>West</td>\n",
       "      <td>Lagos State</td>\n",
       "      <td>Low</td>\n",
       "    </tr>\n",
       "    <tr>\n",
       "      <th>1</th>\n",
       "      <td>9.6</td>\n",
       "      <td>Exceptional</td>\n",
       "      <td>20</td>\n",
       "      <td>West</td>\n",
       "      <td>Lagos State</td>\n",
       "      <td>Low</td>\n",
       "    </tr>\n",
       "    <tr>\n",
       "      <th>2</th>\n",
       "      <td>8.1</td>\n",
       "      <td>Good</td>\n",
       "      <td>61</td>\n",
       "      <td>West</td>\n",
       "      <td>Lagos State</td>\n",
       "      <td>Moderate</td>\n",
       "    </tr>\n",
       "    <tr>\n",
       "      <th>3</th>\n",
       "      <td>8.4</td>\n",
       "      <td>Good</td>\n",
       "      <td>119</td>\n",
       "      <td>South</td>\n",
       "      <td>Rivers State</td>\n",
       "      <td>Low</td>\n",
       "    </tr>\n",
       "    <tr>\n",
       "      <th>4</th>\n",
       "      <td>8.9</td>\n",
       "      <td>Excellent</td>\n",
       "      <td>18</td>\n",
       "      <td>West</td>\n",
       "      <td>Lagos State</td>\n",
       "      <td>Low</td>\n",
       "    </tr>\n",
       "  </tbody>\n",
       "</table>\n",
       "</div>"
      ],
      "text/plain": [
       "   Rating Classification  No_of_Reviews Region         State Price Range\n",
       "0     8.0           Good             22   West   Lagos State         Low\n",
       "1     9.6    Exceptional             20   West   Lagos State         Low\n",
       "2     8.1           Good             61   West   Lagos State    Moderate\n",
       "3     8.4           Good            119  South  Rivers State         Low\n",
       "4     8.9      Excellent             18   West   Lagos State         Low"
      ]
     },
     "execution_count": 67,
     "metadata": {},
     "output_type": "execute_result"
    }
   ],
   "source": [
    "hotel_df.head()"
   ]
  },
  {
   "cell_type": "code",
   "execution_count": 68,
   "id": "b81c0dca",
   "metadata": {},
   "outputs": [
    {
     "data": {
      "text/html": [
       "<div>\n",
       "<style scoped>\n",
       "    .dataframe tbody tr th:only-of-type {\n",
       "        vertical-align: middle;\n",
       "    }\n",
       "\n",
       "    .dataframe tbody tr th {\n",
       "        vertical-align: top;\n",
       "    }\n",
       "\n",
       "    .dataframe thead th {\n",
       "        text-align: right;\n",
       "    }\n",
       "</style>\n",
       "<table border=\"1\" class=\"dataframe\">\n",
       "  <thead>\n",
       "    <tr style=\"text-align: right;\">\n",
       "      <th></th>\n",
       "      <th>Rating</th>\n",
       "      <th>No_of_Reviews</th>\n",
       "      <th>Region</th>\n",
       "      <th>State</th>\n",
       "      <th>Price Range</th>\n",
       "      <th>Classification_Excellent</th>\n",
       "      <th>Classification_Exceptional</th>\n",
       "      <th>Classification_Good</th>\n",
       "      <th>Classification_Wonderful</th>\n",
       "    </tr>\n",
       "  </thead>\n",
       "  <tbody>\n",
       "    <tr>\n",
       "      <th>0</th>\n",
       "      <td>8.0</td>\n",
       "      <td>22</td>\n",
       "      <td>West</td>\n",
       "      <td>Lagos State</td>\n",
       "      <td>Low</td>\n",
       "      <td>0</td>\n",
       "      <td>0</td>\n",
       "      <td>1</td>\n",
       "      <td>0</td>\n",
       "    </tr>\n",
       "    <tr>\n",
       "      <th>1</th>\n",
       "      <td>9.6</td>\n",
       "      <td>20</td>\n",
       "      <td>West</td>\n",
       "      <td>Lagos State</td>\n",
       "      <td>Low</td>\n",
       "      <td>0</td>\n",
       "      <td>1</td>\n",
       "      <td>0</td>\n",
       "      <td>0</td>\n",
       "    </tr>\n",
       "    <tr>\n",
       "      <th>2</th>\n",
       "      <td>8.1</td>\n",
       "      <td>61</td>\n",
       "      <td>West</td>\n",
       "      <td>Lagos State</td>\n",
       "      <td>Moderate</td>\n",
       "      <td>0</td>\n",
       "      <td>0</td>\n",
       "      <td>1</td>\n",
       "      <td>0</td>\n",
       "    </tr>\n",
       "    <tr>\n",
       "      <th>3</th>\n",
       "      <td>8.4</td>\n",
       "      <td>119</td>\n",
       "      <td>South</td>\n",
       "      <td>Rivers State</td>\n",
       "      <td>Low</td>\n",
       "      <td>0</td>\n",
       "      <td>0</td>\n",
       "      <td>1</td>\n",
       "      <td>0</td>\n",
       "    </tr>\n",
       "    <tr>\n",
       "      <th>4</th>\n",
       "      <td>8.9</td>\n",
       "      <td>18</td>\n",
       "      <td>West</td>\n",
       "      <td>Lagos State</td>\n",
       "      <td>Low</td>\n",
       "      <td>1</td>\n",
       "      <td>0</td>\n",
       "      <td>0</td>\n",
       "      <td>0</td>\n",
       "    </tr>\n",
       "  </tbody>\n",
       "</table>\n",
       "</div>"
      ],
      "text/plain": [
       "   Rating  No_of_Reviews Region         State Price Range  \\\n",
       "0     8.0             22   West   Lagos State         Low   \n",
       "1     9.6             20   West   Lagos State         Low   \n",
       "2     8.1             61   West   Lagos State    Moderate   \n",
       "3     8.4            119  South  Rivers State         Low   \n",
       "4     8.9             18   West   Lagos State         Low   \n",
       "\n",
       "   Classification_Excellent  Classification_Exceptional  Classification_Good  \\\n",
       "0                         0                           0                    1   \n",
       "1                         0                           1                    0   \n",
       "2                         0                           0                    1   \n",
       "3                         0                           0                    1   \n",
       "4                         1                           0                    0   \n",
       "\n",
       "   Classification_Wonderful  \n",
       "0                         0  \n",
       "1                         0  \n",
       "2                         0  \n",
       "3                         0  \n",
       "4                         0  "
      ]
     },
     "execution_count": 68,
     "metadata": {},
     "output_type": "execute_result"
    }
   ],
   "source": [
    "hotel_df = pd.get_dummies(hotel_df, columns = ['Classification'])\n",
    "hotel_df.head()"
   ]
  },
  {
   "cell_type": "code",
   "execution_count": 69,
   "id": "a6d2b394",
   "metadata": {},
   "outputs": [
    {
     "data": {
      "text/html": [
       "<div>\n",
       "<style scoped>\n",
       "    .dataframe tbody tr th:only-of-type {\n",
       "        vertical-align: middle;\n",
       "    }\n",
       "\n",
       "    .dataframe tbody tr th {\n",
       "        vertical-align: top;\n",
       "    }\n",
       "\n",
       "    .dataframe thead th {\n",
       "        text-align: right;\n",
       "    }\n",
       "</style>\n",
       "<table border=\"1\" class=\"dataframe\">\n",
       "  <thead>\n",
       "    <tr style=\"text-align: right;\">\n",
       "      <th></th>\n",
       "      <th>Rating</th>\n",
       "      <th>Region</th>\n",
       "      <th>State</th>\n",
       "      <th>Price Range</th>\n",
       "      <th>Classification_Excellent</th>\n",
       "      <th>Classification_Exceptional</th>\n",
       "      <th>Classification_Good</th>\n",
       "      <th>Classification_Wonderful</th>\n",
       "      <th>No_of_Reviews_1</th>\n",
       "      <th>No_of_Reviews_2</th>\n",
       "      <th>...</th>\n",
       "      <th>No_of_Reviews_36</th>\n",
       "      <th>No_of_Reviews_48</th>\n",
       "      <th>No_of_Reviews_51</th>\n",
       "      <th>No_of_Reviews_61</th>\n",
       "      <th>No_of_Reviews_64</th>\n",
       "      <th>No_of_Reviews_74</th>\n",
       "      <th>No_of_Reviews_93</th>\n",
       "      <th>No_of_Reviews_119</th>\n",
       "      <th>No_of_Reviews_184</th>\n",
       "      <th>No_of_Reviews_459</th>\n",
       "    </tr>\n",
       "  </thead>\n",
       "  <tbody>\n",
       "    <tr>\n",
       "      <th>0</th>\n",
       "      <td>8.0</td>\n",
       "      <td>West</td>\n",
       "      <td>Lagos State</td>\n",
       "      <td>Low</td>\n",
       "      <td>0</td>\n",
       "      <td>0</td>\n",
       "      <td>1</td>\n",
       "      <td>0</td>\n",
       "      <td>0</td>\n",
       "      <td>0</td>\n",
       "      <td>...</td>\n",
       "      <td>0</td>\n",
       "      <td>0</td>\n",
       "      <td>0</td>\n",
       "      <td>0</td>\n",
       "      <td>0</td>\n",
       "      <td>0</td>\n",
       "      <td>0</td>\n",
       "      <td>0</td>\n",
       "      <td>0</td>\n",
       "      <td>0</td>\n",
       "    </tr>\n",
       "    <tr>\n",
       "      <th>1</th>\n",
       "      <td>9.6</td>\n",
       "      <td>West</td>\n",
       "      <td>Lagos State</td>\n",
       "      <td>Low</td>\n",
       "      <td>0</td>\n",
       "      <td>1</td>\n",
       "      <td>0</td>\n",
       "      <td>0</td>\n",
       "      <td>0</td>\n",
       "      <td>0</td>\n",
       "      <td>...</td>\n",
       "      <td>0</td>\n",
       "      <td>0</td>\n",
       "      <td>0</td>\n",
       "      <td>0</td>\n",
       "      <td>0</td>\n",
       "      <td>0</td>\n",
       "      <td>0</td>\n",
       "      <td>0</td>\n",
       "      <td>0</td>\n",
       "      <td>0</td>\n",
       "    </tr>\n",
       "    <tr>\n",
       "      <th>2</th>\n",
       "      <td>8.1</td>\n",
       "      <td>West</td>\n",
       "      <td>Lagos State</td>\n",
       "      <td>Moderate</td>\n",
       "      <td>0</td>\n",
       "      <td>0</td>\n",
       "      <td>1</td>\n",
       "      <td>0</td>\n",
       "      <td>0</td>\n",
       "      <td>0</td>\n",
       "      <td>...</td>\n",
       "      <td>0</td>\n",
       "      <td>0</td>\n",
       "      <td>0</td>\n",
       "      <td>1</td>\n",
       "      <td>0</td>\n",
       "      <td>0</td>\n",
       "      <td>0</td>\n",
       "      <td>0</td>\n",
       "      <td>0</td>\n",
       "      <td>0</td>\n",
       "    </tr>\n",
       "    <tr>\n",
       "      <th>3</th>\n",
       "      <td>8.4</td>\n",
       "      <td>South</td>\n",
       "      <td>Rivers State</td>\n",
       "      <td>Low</td>\n",
       "      <td>0</td>\n",
       "      <td>0</td>\n",
       "      <td>1</td>\n",
       "      <td>0</td>\n",
       "      <td>0</td>\n",
       "      <td>0</td>\n",
       "      <td>...</td>\n",
       "      <td>0</td>\n",
       "      <td>0</td>\n",
       "      <td>0</td>\n",
       "      <td>0</td>\n",
       "      <td>0</td>\n",
       "      <td>0</td>\n",
       "      <td>0</td>\n",
       "      <td>1</td>\n",
       "      <td>0</td>\n",
       "      <td>0</td>\n",
       "    </tr>\n",
       "    <tr>\n",
       "      <th>4</th>\n",
       "      <td>8.9</td>\n",
       "      <td>West</td>\n",
       "      <td>Lagos State</td>\n",
       "      <td>Low</td>\n",
       "      <td>1</td>\n",
       "      <td>0</td>\n",
       "      <td>0</td>\n",
       "      <td>0</td>\n",
       "      <td>0</td>\n",
       "      <td>0</td>\n",
       "      <td>...</td>\n",
       "      <td>0</td>\n",
       "      <td>0</td>\n",
       "      <td>0</td>\n",
       "      <td>0</td>\n",
       "      <td>0</td>\n",
       "      <td>0</td>\n",
       "      <td>0</td>\n",
       "      <td>0</td>\n",
       "      <td>0</td>\n",
       "      <td>0</td>\n",
       "    </tr>\n",
       "  </tbody>\n",
       "</table>\n",
       "<p>5 rows × 30 columns</p>\n",
       "</div>"
      ],
      "text/plain": [
       "   Rating Region         State Price Range  Classification_Excellent  \\\n",
       "0     8.0   West   Lagos State         Low                         0   \n",
       "1     9.6   West   Lagos State         Low                         0   \n",
       "2     8.1   West   Lagos State    Moderate                         0   \n",
       "3     8.4  South  Rivers State         Low                         0   \n",
       "4     8.9   West   Lagos State         Low                         1   \n",
       "\n",
       "   Classification_Exceptional  Classification_Good  Classification_Wonderful  \\\n",
       "0                           0                    1                         0   \n",
       "1                           1                    0                         0   \n",
       "2                           0                    1                         0   \n",
       "3                           0                    1                         0   \n",
       "4                           0                    0                         0   \n",
       "\n",
       "   No_of_Reviews_1  No_of_Reviews_2  ...  No_of_Reviews_36  No_of_Reviews_48  \\\n",
       "0                0                0  ...                 0                 0   \n",
       "1                0                0  ...                 0                 0   \n",
       "2                0                0  ...                 0                 0   \n",
       "3                0                0  ...                 0                 0   \n",
       "4                0                0  ...                 0                 0   \n",
       "\n",
       "   No_of_Reviews_51  No_of_Reviews_61  No_of_Reviews_64  No_of_Reviews_74  \\\n",
       "0                 0                 0                 0                 0   \n",
       "1                 0                 0                 0                 0   \n",
       "2                 0                 1                 0                 0   \n",
       "3                 0                 0                 0                 0   \n",
       "4                 0                 0                 0                 0   \n",
       "\n",
       "   No_of_Reviews_93  No_of_Reviews_119  No_of_Reviews_184  No_of_Reviews_459  \n",
       "0                 0                  0                  0                  0  \n",
       "1                 0                  0                  0                  0  \n",
       "2                 0                  0                  0                  0  \n",
       "3                 0                  1                  0                  0  \n",
       "4                 0                  0                  0                  0  \n",
       "\n",
       "[5 rows x 30 columns]"
      ]
     },
     "execution_count": 69,
     "metadata": {},
     "output_type": "execute_result"
    }
   ],
   "source": [
    "hotel_df = pd.get_dummies(hotel_df, columns = ['No_of_Reviews'])\n",
    "hotel_df.head()"
   ]
  },
  {
   "cell_type": "code",
   "execution_count": 70,
   "id": "ee4fd18e",
   "metadata": {},
   "outputs": [
    {
     "data": {
      "text/html": [
       "<div>\n",
       "<style scoped>\n",
       "    .dataframe tbody tr th:only-of-type {\n",
       "        vertical-align: middle;\n",
       "    }\n",
       "\n",
       "    .dataframe tbody tr th {\n",
       "        vertical-align: top;\n",
       "    }\n",
       "\n",
       "    .dataframe thead th {\n",
       "        text-align: right;\n",
       "    }\n",
       "</style>\n",
       "<table border=\"1\" class=\"dataframe\">\n",
       "  <thead>\n",
       "    <tr style=\"text-align: right;\">\n",
       "      <th></th>\n",
       "      <th>Rating</th>\n",
       "      <th>State</th>\n",
       "      <th>Price Range</th>\n",
       "      <th>Classification_Excellent</th>\n",
       "      <th>Classification_Exceptional</th>\n",
       "      <th>Classification_Good</th>\n",
       "      <th>Classification_Wonderful</th>\n",
       "      <th>No_of_Reviews_1</th>\n",
       "      <th>No_of_Reviews_2</th>\n",
       "      <th>No_of_Reviews_8</th>\n",
       "      <th>...</th>\n",
       "      <th>No_of_Reviews_64</th>\n",
       "      <th>No_of_Reviews_74</th>\n",
       "      <th>No_of_Reviews_93</th>\n",
       "      <th>No_of_Reviews_119</th>\n",
       "      <th>No_of_Reviews_184</th>\n",
       "      <th>No_of_Reviews_459</th>\n",
       "      <th>Region_East</th>\n",
       "      <th>Region_North</th>\n",
       "      <th>Region_South</th>\n",
       "      <th>Region_West</th>\n",
       "    </tr>\n",
       "  </thead>\n",
       "  <tbody>\n",
       "    <tr>\n",
       "      <th>0</th>\n",
       "      <td>8.0</td>\n",
       "      <td>Lagos State</td>\n",
       "      <td>Low</td>\n",
       "      <td>0</td>\n",
       "      <td>0</td>\n",
       "      <td>1</td>\n",
       "      <td>0</td>\n",
       "      <td>0</td>\n",
       "      <td>0</td>\n",
       "      <td>0</td>\n",
       "      <td>...</td>\n",
       "      <td>0</td>\n",
       "      <td>0</td>\n",
       "      <td>0</td>\n",
       "      <td>0</td>\n",
       "      <td>0</td>\n",
       "      <td>0</td>\n",
       "      <td>0</td>\n",
       "      <td>0</td>\n",
       "      <td>0</td>\n",
       "      <td>1</td>\n",
       "    </tr>\n",
       "    <tr>\n",
       "      <th>1</th>\n",
       "      <td>9.6</td>\n",
       "      <td>Lagos State</td>\n",
       "      <td>Low</td>\n",
       "      <td>0</td>\n",
       "      <td>1</td>\n",
       "      <td>0</td>\n",
       "      <td>0</td>\n",
       "      <td>0</td>\n",
       "      <td>0</td>\n",
       "      <td>0</td>\n",
       "      <td>...</td>\n",
       "      <td>0</td>\n",
       "      <td>0</td>\n",
       "      <td>0</td>\n",
       "      <td>0</td>\n",
       "      <td>0</td>\n",
       "      <td>0</td>\n",
       "      <td>0</td>\n",
       "      <td>0</td>\n",
       "      <td>0</td>\n",
       "      <td>1</td>\n",
       "    </tr>\n",
       "    <tr>\n",
       "      <th>2</th>\n",
       "      <td>8.1</td>\n",
       "      <td>Lagos State</td>\n",
       "      <td>Moderate</td>\n",
       "      <td>0</td>\n",
       "      <td>0</td>\n",
       "      <td>1</td>\n",
       "      <td>0</td>\n",
       "      <td>0</td>\n",
       "      <td>0</td>\n",
       "      <td>0</td>\n",
       "      <td>...</td>\n",
       "      <td>0</td>\n",
       "      <td>0</td>\n",
       "      <td>0</td>\n",
       "      <td>0</td>\n",
       "      <td>0</td>\n",
       "      <td>0</td>\n",
       "      <td>0</td>\n",
       "      <td>0</td>\n",
       "      <td>0</td>\n",
       "      <td>1</td>\n",
       "    </tr>\n",
       "    <tr>\n",
       "      <th>3</th>\n",
       "      <td>8.4</td>\n",
       "      <td>Rivers State</td>\n",
       "      <td>Low</td>\n",
       "      <td>0</td>\n",
       "      <td>0</td>\n",
       "      <td>1</td>\n",
       "      <td>0</td>\n",
       "      <td>0</td>\n",
       "      <td>0</td>\n",
       "      <td>0</td>\n",
       "      <td>...</td>\n",
       "      <td>0</td>\n",
       "      <td>0</td>\n",
       "      <td>0</td>\n",
       "      <td>1</td>\n",
       "      <td>0</td>\n",
       "      <td>0</td>\n",
       "      <td>0</td>\n",
       "      <td>0</td>\n",
       "      <td>1</td>\n",
       "      <td>0</td>\n",
       "    </tr>\n",
       "    <tr>\n",
       "      <th>4</th>\n",
       "      <td>8.9</td>\n",
       "      <td>Lagos State</td>\n",
       "      <td>Low</td>\n",
       "      <td>1</td>\n",
       "      <td>0</td>\n",
       "      <td>0</td>\n",
       "      <td>0</td>\n",
       "      <td>0</td>\n",
       "      <td>0</td>\n",
       "      <td>0</td>\n",
       "      <td>...</td>\n",
       "      <td>0</td>\n",
       "      <td>0</td>\n",
       "      <td>0</td>\n",
       "      <td>0</td>\n",
       "      <td>0</td>\n",
       "      <td>0</td>\n",
       "      <td>0</td>\n",
       "      <td>0</td>\n",
       "      <td>0</td>\n",
       "      <td>1</td>\n",
       "    </tr>\n",
       "  </tbody>\n",
       "</table>\n",
       "<p>5 rows × 33 columns</p>\n",
       "</div>"
      ],
      "text/plain": [
       "   Rating         State Price Range  Classification_Excellent  \\\n",
       "0     8.0   Lagos State         Low                         0   \n",
       "1     9.6   Lagos State         Low                         0   \n",
       "2     8.1   Lagos State    Moderate                         0   \n",
       "3     8.4  Rivers State         Low                         0   \n",
       "4     8.9   Lagos State         Low                         1   \n",
       "\n",
       "   Classification_Exceptional  Classification_Good  Classification_Wonderful  \\\n",
       "0                           0                    1                         0   \n",
       "1                           1                    0                         0   \n",
       "2                           0                    1                         0   \n",
       "3                           0                    1                         0   \n",
       "4                           0                    0                         0   \n",
       "\n",
       "   No_of_Reviews_1  No_of_Reviews_2  No_of_Reviews_8  ...  No_of_Reviews_64  \\\n",
       "0                0                0                0  ...                 0   \n",
       "1                0                0                0  ...                 0   \n",
       "2                0                0                0  ...                 0   \n",
       "3                0                0                0  ...                 0   \n",
       "4                0                0                0  ...                 0   \n",
       "\n",
       "   No_of_Reviews_74  No_of_Reviews_93  No_of_Reviews_119  No_of_Reviews_184  \\\n",
       "0                 0                 0                  0                  0   \n",
       "1                 0                 0                  0                  0   \n",
       "2                 0                 0                  0                  0   \n",
       "3                 0                 0                  1                  0   \n",
       "4                 0                 0                  0                  0   \n",
       "\n",
       "   No_of_Reviews_459  Region_East  Region_North  Region_South  Region_West  \n",
       "0                  0            0             0             0            1  \n",
       "1                  0            0             0             0            1  \n",
       "2                  0            0             0             0            1  \n",
       "3                  0            0             0             1            0  \n",
       "4                  0            0             0             0            1  \n",
       "\n",
       "[5 rows x 33 columns]"
      ]
     },
     "execution_count": 70,
     "metadata": {},
     "output_type": "execute_result"
    }
   ],
   "source": [
    "hotel_df = pd.get_dummies(hotel_df, columns = ['Region'])\n",
    "hotel_df.head()"
   ]
  },
  {
   "cell_type": "code",
   "execution_count": 71,
   "id": "912b02a9",
   "metadata": {},
   "outputs": [
    {
     "data": {
      "text/html": [
       "<div>\n",
       "<style scoped>\n",
       "    .dataframe tbody tr th:only-of-type {\n",
       "        vertical-align: middle;\n",
       "    }\n",
       "\n",
       "    .dataframe tbody tr th {\n",
       "        vertical-align: top;\n",
       "    }\n",
       "\n",
       "    .dataframe thead th {\n",
       "        text-align: right;\n",
       "    }\n",
       "</style>\n",
       "<table border=\"1\" class=\"dataframe\">\n",
       "  <thead>\n",
       "    <tr style=\"text-align: right;\">\n",
       "      <th></th>\n",
       "      <th>Rating</th>\n",
       "      <th>Price Range</th>\n",
       "      <th>Classification_Excellent</th>\n",
       "      <th>Classification_Exceptional</th>\n",
       "      <th>Classification_Good</th>\n",
       "      <th>Classification_Wonderful</th>\n",
       "      <th>No_of_Reviews_1</th>\n",
       "      <th>No_of_Reviews_2</th>\n",
       "      <th>No_of_Reviews_8</th>\n",
       "      <th>No_of_Reviews_9</th>\n",
       "      <th>...</th>\n",
       "      <th>Region_North</th>\n",
       "      <th>Region_South</th>\n",
       "      <th>Region_West</th>\n",
       "      <th>State_Delta State</th>\n",
       "      <th>State_Enugu State</th>\n",
       "      <th>State_FCT</th>\n",
       "      <th>State_Imo State</th>\n",
       "      <th>State_Lagos State</th>\n",
       "      <th>State_Ogun State</th>\n",
       "      <th>State_Rivers State</th>\n",
       "    </tr>\n",
       "  </thead>\n",
       "  <tbody>\n",
       "    <tr>\n",
       "      <th>0</th>\n",
       "      <td>8.0</td>\n",
       "      <td>Low</td>\n",
       "      <td>0</td>\n",
       "      <td>0</td>\n",
       "      <td>1</td>\n",
       "      <td>0</td>\n",
       "      <td>0</td>\n",
       "      <td>0</td>\n",
       "      <td>0</td>\n",
       "      <td>0</td>\n",
       "      <td>...</td>\n",
       "      <td>0</td>\n",
       "      <td>0</td>\n",
       "      <td>1</td>\n",
       "      <td>0</td>\n",
       "      <td>0</td>\n",
       "      <td>0</td>\n",
       "      <td>0</td>\n",
       "      <td>1</td>\n",
       "      <td>0</td>\n",
       "      <td>0</td>\n",
       "    </tr>\n",
       "    <tr>\n",
       "      <th>1</th>\n",
       "      <td>9.6</td>\n",
       "      <td>Low</td>\n",
       "      <td>0</td>\n",
       "      <td>1</td>\n",
       "      <td>0</td>\n",
       "      <td>0</td>\n",
       "      <td>0</td>\n",
       "      <td>0</td>\n",
       "      <td>0</td>\n",
       "      <td>0</td>\n",
       "      <td>...</td>\n",
       "      <td>0</td>\n",
       "      <td>0</td>\n",
       "      <td>1</td>\n",
       "      <td>0</td>\n",
       "      <td>0</td>\n",
       "      <td>0</td>\n",
       "      <td>0</td>\n",
       "      <td>1</td>\n",
       "      <td>0</td>\n",
       "      <td>0</td>\n",
       "    </tr>\n",
       "    <tr>\n",
       "      <th>2</th>\n",
       "      <td>8.1</td>\n",
       "      <td>Moderate</td>\n",
       "      <td>0</td>\n",
       "      <td>0</td>\n",
       "      <td>1</td>\n",
       "      <td>0</td>\n",
       "      <td>0</td>\n",
       "      <td>0</td>\n",
       "      <td>0</td>\n",
       "      <td>0</td>\n",
       "      <td>...</td>\n",
       "      <td>0</td>\n",
       "      <td>0</td>\n",
       "      <td>1</td>\n",
       "      <td>0</td>\n",
       "      <td>0</td>\n",
       "      <td>0</td>\n",
       "      <td>0</td>\n",
       "      <td>1</td>\n",
       "      <td>0</td>\n",
       "      <td>0</td>\n",
       "    </tr>\n",
       "    <tr>\n",
       "      <th>3</th>\n",
       "      <td>8.4</td>\n",
       "      <td>Low</td>\n",
       "      <td>0</td>\n",
       "      <td>0</td>\n",
       "      <td>1</td>\n",
       "      <td>0</td>\n",
       "      <td>0</td>\n",
       "      <td>0</td>\n",
       "      <td>0</td>\n",
       "      <td>0</td>\n",
       "      <td>...</td>\n",
       "      <td>0</td>\n",
       "      <td>1</td>\n",
       "      <td>0</td>\n",
       "      <td>0</td>\n",
       "      <td>0</td>\n",
       "      <td>0</td>\n",
       "      <td>0</td>\n",
       "      <td>0</td>\n",
       "      <td>0</td>\n",
       "      <td>1</td>\n",
       "    </tr>\n",
       "    <tr>\n",
       "      <th>4</th>\n",
       "      <td>8.9</td>\n",
       "      <td>Low</td>\n",
       "      <td>1</td>\n",
       "      <td>0</td>\n",
       "      <td>0</td>\n",
       "      <td>0</td>\n",
       "      <td>0</td>\n",
       "      <td>0</td>\n",
       "      <td>0</td>\n",
       "      <td>0</td>\n",
       "      <td>...</td>\n",
       "      <td>0</td>\n",
       "      <td>0</td>\n",
       "      <td>1</td>\n",
       "      <td>0</td>\n",
       "      <td>0</td>\n",
       "      <td>0</td>\n",
       "      <td>0</td>\n",
       "      <td>1</td>\n",
       "      <td>0</td>\n",
       "      <td>0</td>\n",
       "    </tr>\n",
       "  </tbody>\n",
       "</table>\n",
       "<p>5 rows × 39 columns</p>\n",
       "</div>"
      ],
      "text/plain": [
       "   Rating Price Range  Classification_Excellent  Classification_Exceptional  \\\n",
       "0     8.0         Low                         0                           0   \n",
       "1     9.6         Low                         0                           1   \n",
       "2     8.1    Moderate                         0                           0   \n",
       "3     8.4         Low                         0                           0   \n",
       "4     8.9         Low                         1                           0   \n",
       "\n",
       "   Classification_Good  Classification_Wonderful  No_of_Reviews_1  \\\n",
       "0                    1                         0                0   \n",
       "1                    0                         0                0   \n",
       "2                    1                         0                0   \n",
       "3                    1                         0                0   \n",
       "4                    0                         0                0   \n",
       "\n",
       "   No_of_Reviews_2  No_of_Reviews_8  No_of_Reviews_9  ...  Region_North  \\\n",
       "0                0                0                0  ...             0   \n",
       "1                0                0                0  ...             0   \n",
       "2                0                0                0  ...             0   \n",
       "3                0                0                0  ...             0   \n",
       "4                0                0                0  ...             0   \n",
       "\n",
       "   Region_South  Region_West  State_Delta State  State_Enugu State  State_FCT  \\\n",
       "0             0            1                  0                  0          0   \n",
       "1             0            1                  0                  0          0   \n",
       "2             0            1                  0                  0          0   \n",
       "3             1            0                  0                  0          0   \n",
       "4             0            1                  0                  0          0   \n",
       "\n",
       "   State_Imo State  State_Lagos State  State_Ogun State  State_Rivers State  \n",
       "0                0                  1                 0                   0  \n",
       "1                0                  1                 0                   0  \n",
       "2                0                  1                 0                   0  \n",
       "3                0                  0                 0                   1  \n",
       "4                0                  1                 0                   0  \n",
       "\n",
       "[5 rows x 39 columns]"
      ]
     },
     "execution_count": 71,
     "metadata": {},
     "output_type": "execute_result"
    }
   ],
   "source": [
    "hotel_df = pd.get_dummies(hotel_df, columns = ['State'])\n",
    "hotel_df.head()"
   ]
  },
  {
   "cell_type": "code",
   "execution_count": 72,
   "id": "9b5caf57",
   "metadata": {},
   "outputs": [
    {
     "data": {
      "text/html": [
       "<div>\n",
       "<style scoped>\n",
       "    .dataframe tbody tr th:only-of-type {\n",
       "        vertical-align: middle;\n",
       "    }\n",
       "\n",
       "    .dataframe tbody tr th {\n",
       "        vertical-align: top;\n",
       "    }\n",
       "\n",
       "    .dataframe thead th {\n",
       "        text-align: right;\n",
       "    }\n",
       "</style>\n",
       "<table border=\"1\" class=\"dataframe\">\n",
       "  <thead>\n",
       "    <tr style=\"text-align: right;\">\n",
       "      <th></th>\n",
       "      <th>Rating</th>\n",
       "      <th>Classification_Excellent</th>\n",
       "      <th>Classification_Exceptional</th>\n",
       "      <th>Classification_Good</th>\n",
       "      <th>Classification_Wonderful</th>\n",
       "      <th>No_of_Reviews_1</th>\n",
       "      <th>No_of_Reviews_2</th>\n",
       "      <th>No_of_Reviews_8</th>\n",
       "      <th>No_of_Reviews_9</th>\n",
       "      <th>No_of_Reviews_10</th>\n",
       "      <th>...</th>\n",
       "      <th>State_Delta State</th>\n",
       "      <th>State_Enugu State</th>\n",
       "      <th>State_FCT</th>\n",
       "      <th>State_Imo State</th>\n",
       "      <th>State_Lagos State</th>\n",
       "      <th>State_Ogun State</th>\n",
       "      <th>State_Rivers State</th>\n",
       "      <th>Price Range_Low</th>\n",
       "      <th>Price Range_Moderate</th>\n",
       "      <th>Price Range_High</th>\n",
       "    </tr>\n",
       "  </thead>\n",
       "  <tbody>\n",
       "    <tr>\n",
       "      <th>0</th>\n",
       "      <td>8.0</td>\n",
       "      <td>0</td>\n",
       "      <td>0</td>\n",
       "      <td>1</td>\n",
       "      <td>0</td>\n",
       "      <td>0</td>\n",
       "      <td>0</td>\n",
       "      <td>0</td>\n",
       "      <td>0</td>\n",
       "      <td>0</td>\n",
       "      <td>...</td>\n",
       "      <td>0</td>\n",
       "      <td>0</td>\n",
       "      <td>0</td>\n",
       "      <td>0</td>\n",
       "      <td>1</td>\n",
       "      <td>0</td>\n",
       "      <td>0</td>\n",
       "      <td>1</td>\n",
       "      <td>0</td>\n",
       "      <td>0</td>\n",
       "    </tr>\n",
       "    <tr>\n",
       "      <th>1</th>\n",
       "      <td>9.6</td>\n",
       "      <td>0</td>\n",
       "      <td>1</td>\n",
       "      <td>0</td>\n",
       "      <td>0</td>\n",
       "      <td>0</td>\n",
       "      <td>0</td>\n",
       "      <td>0</td>\n",
       "      <td>0</td>\n",
       "      <td>0</td>\n",
       "      <td>...</td>\n",
       "      <td>0</td>\n",
       "      <td>0</td>\n",
       "      <td>0</td>\n",
       "      <td>0</td>\n",
       "      <td>1</td>\n",
       "      <td>0</td>\n",
       "      <td>0</td>\n",
       "      <td>1</td>\n",
       "      <td>0</td>\n",
       "      <td>0</td>\n",
       "    </tr>\n",
       "    <tr>\n",
       "      <th>2</th>\n",
       "      <td>8.1</td>\n",
       "      <td>0</td>\n",
       "      <td>0</td>\n",
       "      <td>1</td>\n",
       "      <td>0</td>\n",
       "      <td>0</td>\n",
       "      <td>0</td>\n",
       "      <td>0</td>\n",
       "      <td>0</td>\n",
       "      <td>0</td>\n",
       "      <td>...</td>\n",
       "      <td>0</td>\n",
       "      <td>0</td>\n",
       "      <td>0</td>\n",
       "      <td>0</td>\n",
       "      <td>1</td>\n",
       "      <td>0</td>\n",
       "      <td>0</td>\n",
       "      <td>0</td>\n",
       "      <td>1</td>\n",
       "      <td>0</td>\n",
       "    </tr>\n",
       "    <tr>\n",
       "      <th>3</th>\n",
       "      <td>8.4</td>\n",
       "      <td>0</td>\n",
       "      <td>0</td>\n",
       "      <td>1</td>\n",
       "      <td>0</td>\n",
       "      <td>0</td>\n",
       "      <td>0</td>\n",
       "      <td>0</td>\n",
       "      <td>0</td>\n",
       "      <td>0</td>\n",
       "      <td>...</td>\n",
       "      <td>0</td>\n",
       "      <td>0</td>\n",
       "      <td>0</td>\n",
       "      <td>0</td>\n",
       "      <td>0</td>\n",
       "      <td>0</td>\n",
       "      <td>1</td>\n",
       "      <td>1</td>\n",
       "      <td>0</td>\n",
       "      <td>0</td>\n",
       "    </tr>\n",
       "    <tr>\n",
       "      <th>4</th>\n",
       "      <td>8.9</td>\n",
       "      <td>1</td>\n",
       "      <td>0</td>\n",
       "      <td>0</td>\n",
       "      <td>0</td>\n",
       "      <td>0</td>\n",
       "      <td>0</td>\n",
       "      <td>0</td>\n",
       "      <td>0</td>\n",
       "      <td>0</td>\n",
       "      <td>...</td>\n",
       "      <td>0</td>\n",
       "      <td>0</td>\n",
       "      <td>0</td>\n",
       "      <td>0</td>\n",
       "      <td>1</td>\n",
       "      <td>0</td>\n",
       "      <td>0</td>\n",
       "      <td>1</td>\n",
       "      <td>0</td>\n",
       "      <td>0</td>\n",
       "    </tr>\n",
       "  </tbody>\n",
       "</table>\n",
       "<p>5 rows × 41 columns</p>\n",
       "</div>"
      ],
      "text/plain": [
       "   Rating  Classification_Excellent  Classification_Exceptional  \\\n",
       "0     8.0                         0                           0   \n",
       "1     9.6                         0                           1   \n",
       "2     8.1                         0                           0   \n",
       "3     8.4                         0                           0   \n",
       "4     8.9                         1                           0   \n",
       "\n",
       "   Classification_Good  Classification_Wonderful  No_of_Reviews_1  \\\n",
       "0                    1                         0                0   \n",
       "1                    0                         0                0   \n",
       "2                    1                         0                0   \n",
       "3                    1                         0                0   \n",
       "4                    0                         0                0   \n",
       "\n",
       "   No_of_Reviews_2  No_of_Reviews_8  No_of_Reviews_9  No_of_Reviews_10  ...  \\\n",
       "0                0                0                0                 0  ...   \n",
       "1                0                0                0                 0  ...   \n",
       "2                0                0                0                 0  ...   \n",
       "3                0                0                0                 0  ...   \n",
       "4                0                0                0                 0  ...   \n",
       "\n",
       "   State_Delta State  State_Enugu State  State_FCT  State_Imo State  \\\n",
       "0                  0                  0          0                0   \n",
       "1                  0                  0          0                0   \n",
       "2                  0                  0          0                0   \n",
       "3                  0                  0          0                0   \n",
       "4                  0                  0          0                0   \n",
       "\n",
       "   State_Lagos State  State_Ogun State  State_Rivers State  Price Range_Low  \\\n",
       "0                  1                 0                   0                1   \n",
       "1                  1                 0                   0                1   \n",
       "2                  1                 0                   0                0   \n",
       "3                  0                 0                   1                1   \n",
       "4                  1                 0                   0                1   \n",
       "\n",
       "   Price Range_Moderate  Price Range_High  \n",
       "0                     0                 0  \n",
       "1                     0                 0  \n",
       "2                     1                 0  \n",
       "3                     0                 0  \n",
       "4                     0                 0  \n",
       "\n",
       "[5 rows x 41 columns]"
      ]
     },
     "execution_count": 72,
     "metadata": {},
     "output_type": "execute_result"
    }
   ],
   "source": [
    "hotel_df = pd.get_dummies(hotel_df, columns = ['Price Range'])\n",
    "hotel_df.head()"
   ]
  },
  {
   "cell_type": "code",
   "execution_count": 73,
   "id": "cc8a55f9",
   "metadata": {},
   "outputs": [
    {
     "data": {
      "text/html": [
       "<div>\n",
       "<style scoped>\n",
       "    .dataframe tbody tr th:only-of-type {\n",
       "        vertical-align: middle;\n",
       "    }\n",
       "\n",
       "    .dataframe tbody tr th {\n",
       "        vertical-align: top;\n",
       "    }\n",
       "\n",
       "    .dataframe thead th {\n",
       "        text-align: right;\n",
       "    }\n",
       "</style>\n",
       "<table border=\"1\" class=\"dataframe\">\n",
       "  <thead>\n",
       "    <tr style=\"text-align: right;\">\n",
       "      <th></th>\n",
       "      <th>Rating</th>\n",
       "      <th>Classification_Excellent</th>\n",
       "      <th>Classification_Exceptional</th>\n",
       "      <th>Classification_Good</th>\n",
       "      <th>Classification_Wonderful</th>\n",
       "      <th>No_of_Reviews_1</th>\n",
       "      <th>No_of_Reviews_2</th>\n",
       "      <th>No_of_Reviews_8</th>\n",
       "      <th>No_of_Reviews_9</th>\n",
       "      <th>No_of_Reviews_10</th>\n",
       "      <th>...</th>\n",
       "      <th>State_Delta State</th>\n",
       "      <th>State_Enugu State</th>\n",
       "      <th>State_FCT</th>\n",
       "      <th>State_Imo State</th>\n",
       "      <th>State_Lagos State</th>\n",
       "      <th>State_Ogun State</th>\n",
       "      <th>State_Rivers State</th>\n",
       "      <th>Price Range_Low</th>\n",
       "      <th>Price Range_Moderate</th>\n",
       "      <th>Price Range_High</th>\n",
       "    </tr>\n",
       "  </thead>\n",
       "  <tbody>\n",
       "    <tr>\n",
       "      <th>0</th>\n",
       "      <td>8.0</td>\n",
       "      <td>0</td>\n",
       "      <td>0</td>\n",
       "      <td>1</td>\n",
       "      <td>0</td>\n",
       "      <td>0</td>\n",
       "      <td>0</td>\n",
       "      <td>0</td>\n",
       "      <td>0</td>\n",
       "      <td>0</td>\n",
       "      <td>...</td>\n",
       "      <td>0</td>\n",
       "      <td>0</td>\n",
       "      <td>0</td>\n",
       "      <td>0</td>\n",
       "      <td>1</td>\n",
       "      <td>0</td>\n",
       "      <td>0</td>\n",
       "      <td>1</td>\n",
       "      <td>0</td>\n",
       "      <td>0</td>\n",
       "    </tr>\n",
       "    <tr>\n",
       "      <th>1</th>\n",
       "      <td>9.6</td>\n",
       "      <td>0</td>\n",
       "      <td>1</td>\n",
       "      <td>0</td>\n",
       "      <td>0</td>\n",
       "      <td>0</td>\n",
       "      <td>0</td>\n",
       "      <td>0</td>\n",
       "      <td>0</td>\n",
       "      <td>0</td>\n",
       "      <td>...</td>\n",
       "      <td>0</td>\n",
       "      <td>0</td>\n",
       "      <td>0</td>\n",
       "      <td>0</td>\n",
       "      <td>1</td>\n",
       "      <td>0</td>\n",
       "      <td>0</td>\n",
       "      <td>1</td>\n",
       "      <td>0</td>\n",
       "      <td>0</td>\n",
       "    </tr>\n",
       "    <tr>\n",
       "      <th>2</th>\n",
       "      <td>8.1</td>\n",
       "      <td>0</td>\n",
       "      <td>0</td>\n",
       "      <td>1</td>\n",
       "      <td>0</td>\n",
       "      <td>0</td>\n",
       "      <td>0</td>\n",
       "      <td>0</td>\n",
       "      <td>0</td>\n",
       "      <td>0</td>\n",
       "      <td>...</td>\n",
       "      <td>0</td>\n",
       "      <td>0</td>\n",
       "      <td>0</td>\n",
       "      <td>0</td>\n",
       "      <td>1</td>\n",
       "      <td>0</td>\n",
       "      <td>0</td>\n",
       "      <td>0</td>\n",
       "      <td>1</td>\n",
       "      <td>0</td>\n",
       "    </tr>\n",
       "    <tr>\n",
       "      <th>3</th>\n",
       "      <td>8.4</td>\n",
       "      <td>0</td>\n",
       "      <td>0</td>\n",
       "      <td>1</td>\n",
       "      <td>0</td>\n",
       "      <td>0</td>\n",
       "      <td>0</td>\n",
       "      <td>0</td>\n",
       "      <td>0</td>\n",
       "      <td>0</td>\n",
       "      <td>...</td>\n",
       "      <td>0</td>\n",
       "      <td>0</td>\n",
       "      <td>0</td>\n",
       "      <td>0</td>\n",
       "      <td>0</td>\n",
       "      <td>0</td>\n",
       "      <td>1</td>\n",
       "      <td>1</td>\n",
       "      <td>0</td>\n",
       "      <td>0</td>\n",
       "    </tr>\n",
       "    <tr>\n",
       "      <th>4</th>\n",
       "      <td>8.9</td>\n",
       "      <td>1</td>\n",
       "      <td>0</td>\n",
       "      <td>0</td>\n",
       "      <td>0</td>\n",
       "      <td>0</td>\n",
       "      <td>0</td>\n",
       "      <td>0</td>\n",
       "      <td>0</td>\n",
       "      <td>0</td>\n",
       "      <td>...</td>\n",
       "      <td>0</td>\n",
       "      <td>0</td>\n",
       "      <td>0</td>\n",
       "      <td>0</td>\n",
       "      <td>1</td>\n",
       "      <td>0</td>\n",
       "      <td>0</td>\n",
       "      <td>1</td>\n",
       "      <td>0</td>\n",
       "      <td>0</td>\n",
       "    </tr>\n",
       "  </tbody>\n",
       "</table>\n",
       "<p>5 rows × 41 columns</p>\n",
       "</div>"
      ],
      "text/plain": [
       "   Rating  Classification_Excellent  Classification_Exceptional  \\\n",
       "0     8.0                         0                           0   \n",
       "1     9.6                         0                           1   \n",
       "2     8.1                         0                           0   \n",
       "3     8.4                         0                           0   \n",
       "4     8.9                         1                           0   \n",
       "\n",
       "   Classification_Good  Classification_Wonderful  No_of_Reviews_1  \\\n",
       "0                    1                         0                0   \n",
       "1                    0                         0                0   \n",
       "2                    1                         0                0   \n",
       "3                    1                         0                0   \n",
       "4                    0                         0                0   \n",
       "\n",
       "   No_of_Reviews_2  No_of_Reviews_8  No_of_Reviews_9  No_of_Reviews_10  ...  \\\n",
       "0                0                0                0                 0  ...   \n",
       "1                0                0                0                 0  ...   \n",
       "2                0                0                0                 0  ...   \n",
       "3                0                0                0                 0  ...   \n",
       "4                0                0                0                 0  ...   \n",
       "\n",
       "   State_Delta State  State_Enugu State  State_FCT  State_Imo State  \\\n",
       "0                  0                  0          0                0   \n",
       "1                  0                  0          0                0   \n",
       "2                  0                  0          0                0   \n",
       "3                  0                  0          0                0   \n",
       "4                  0                  0          0                0   \n",
       "\n",
       "   State_Lagos State  State_Ogun State  State_Rivers State  Price Range_Low  \\\n",
       "0                  1                 0                   0                1   \n",
       "1                  1                 0                   0                1   \n",
       "2                  1                 0                   0                0   \n",
       "3                  0                 0                   1                1   \n",
       "4                  1                 0                   0                1   \n",
       "\n",
       "   Price Range_Moderate  Price Range_High  \n",
       "0                     0                 0  \n",
       "1                     0                 0  \n",
       "2                     1                 0  \n",
       "3                     0                 0  \n",
       "4                     0                 0  \n",
       "\n",
       "[5 rows x 41 columns]"
      ]
     },
     "execution_count": 73,
     "metadata": {},
     "output_type": "execute_result"
    }
   ],
   "source": [
    "x = hotel_df.copy()\n",
    "x.head()"
   ]
  },
  {
   "cell_type": "code",
   "execution_count": 74,
   "id": "9712be82",
   "metadata": {},
   "outputs": [
    {
     "name": "stdout",
     "output_type": "stream",
     "text": [
      "(25, 41) (25,)\n"
     ]
    }
   ],
   "source": [
    "print(x.shape, y.shape)"
   ]
  },
  {
   "cell_type": "code",
   "execution_count": 75,
   "id": "31a15c42",
   "metadata": {},
   "outputs": [
    {
     "data": {
      "text/plain": [
       "Index(['Rating', 'Classification_Excellent', 'Classification_Exceptional',\n",
       "       'Classification_Good', 'Classification_Wonderful', 'No_of_Reviews_1',\n",
       "       'No_of_Reviews_2', 'No_of_Reviews_8', 'No_of_Reviews_9',\n",
       "       'No_of_Reviews_10', 'No_of_Reviews_16', 'No_of_Reviews_17',\n",
       "       'No_of_Reviews_18', 'No_of_Reviews_20', 'No_of_Reviews_22',\n",
       "       'No_of_Reviews_26', 'No_of_Reviews_35', 'No_of_Reviews_36',\n",
       "       'No_of_Reviews_48', 'No_of_Reviews_51', 'No_of_Reviews_61',\n",
       "       'No_of_Reviews_64', 'No_of_Reviews_74', 'No_of_Reviews_93',\n",
       "       'No_of_Reviews_119', 'No_of_Reviews_184', 'No_of_Reviews_459',\n",
       "       'Region_East', 'Region_North', 'Region_South', 'Region_West',\n",
       "       'State_Delta State', 'State_Enugu State', 'State_FCT',\n",
       "       'State_Imo State', 'State_Lagos State', 'State_Ogun State',\n",
       "       'State_Rivers State', 'Price Range_Low', 'Price Range_Moderate',\n",
       "       'Price Range_High'],\n",
       "      dtype='object')"
      ]
     },
     "execution_count": 75,
     "metadata": {},
     "output_type": "execute_result"
    }
   ],
   "source": [
    "feature_names = x.columns\n",
    "feature_names"
   ]
  },
  {
   "cell_type": "code",
   "execution_count": 76,
   "id": "84194cc2",
   "metadata": {},
   "outputs": [
    {
     "data": {
      "image/png": "[encoded data removed]",
      "text/plain": [
       "<Figure size 576x396 with 1 Axes>"
      ]
     },
     "metadata": {},
     "output_type": "display_data"
    }
   ],
   "source": [
    "from yellowbrick.target import FeatureCorrelation\n",
    "visualizer = FeatureCorrelation(labels = feature_names, method = 'pearson')\n",
    "visualizer.fit(x, y)\n",
    "visualizer.poof();"
   ]
  },
  {
   "cell_type": "code",
   "execution_count": 77,
   "id": "f6c1e4c9",
   "metadata": {},
   "outputs": [
    {
     "data": {
      "text/html": [
       "<div>\n",
       "<style scoped>\n",
       "    .dataframe tbody tr th:only-of-type {\n",
       "        vertical-align: middle;\n",
       "    }\n",
       "\n",
       "    .dataframe tbody tr th {\n",
       "        vertical-align: top;\n",
       "    }\n",
       "\n",
       "    .dataframe thead th {\n",
       "        text-align: right;\n",
       "    }\n",
       "</style>\n",
       "<table border=\"1\" class=\"dataframe\">\n",
       "  <thead>\n",
       "    <tr style=\"text-align: right;\">\n",
       "      <th></th>\n",
       "      <th>feature_names</th>\n",
       "      <th>scores</th>\n",
       "    </tr>\n",
       "  </thead>\n",
       "  <tbody>\n",
       "    <tr>\n",
       "      <th>0</th>\n",
       "      <td>Rating</td>\n",
       "      <td>0.408866</td>\n",
       "    </tr>\n",
       "    <tr>\n",
       "      <th>1</th>\n",
       "      <td>Classification_Excellent</td>\n",
       "      <td>0.004534</td>\n",
       "    </tr>\n",
       "    <tr>\n",
       "      <th>2</th>\n",
       "      <td>Classification_Exceptional</td>\n",
       "      <td>0.336020</td>\n",
       "    </tr>\n",
       "    <tr>\n",
       "      <th>3</th>\n",
       "      <td>Classification_Good</td>\n",
       "      <td>-0.562127</td>\n",
       "    </tr>\n",
       "    <tr>\n",
       "      <th>4</th>\n",
       "      <td>Classification_Wonderful</td>\n",
       "      <td>0.581912</td>\n",
       "    </tr>\n",
       "    <tr>\n",
       "      <th>5</th>\n",
       "      <td>No_of_Reviews_1</td>\n",
       "      <td>0.413056</td>\n",
       "    </tr>\n",
       "    <tr>\n",
       "      <th>6</th>\n",
       "      <td>No_of_Reviews_2</td>\n",
       "      <td>0.606921</td>\n",
       "    </tr>\n",
       "    <tr>\n",
       "      <th>7</th>\n",
       "      <td>No_of_Reviews_8</td>\n",
       "      <td>-0.205178</td>\n",
       "    </tr>\n",
       "    <tr>\n",
       "      <th>8</th>\n",
       "      <td>No_of_Reviews_9</td>\n",
       "      <td>-0.157912</td>\n",
       "    </tr>\n",
       "    <tr>\n",
       "      <th>9</th>\n",
       "      <td>No_of_Reviews_10</td>\n",
       "      <td>-0.003640</td>\n",
       "    </tr>\n",
       "    <tr>\n",
       "      <th>10</th>\n",
       "      <td>No_of_Reviews_16</td>\n",
       "      <td>-0.134520</td>\n",
       "    </tr>\n",
       "    <tr>\n",
       "      <th>11</th>\n",
       "      <td>No_of_Reviews_17</td>\n",
       "      <td>-0.207897</td>\n",
       "    </tr>\n",
       "    <tr>\n",
       "      <th>12</th>\n",
       "      <td>No_of_Reviews_18</td>\n",
       "      <td>0.004534</td>\n",
       "    </tr>\n",
       "    <tr>\n",
       "      <th>13</th>\n",
       "      <td>No_of_Reviews_20</td>\n",
       "      <td>0.052142</td>\n",
       "    </tr>\n",
       "    <tr>\n",
       "      <th>14</th>\n",
       "      <td>No_of_Reviews_22</td>\n",
       "      <td>-0.142053</td>\n",
       "    </tr>\n",
       "    <tr>\n",
       "      <th>15</th>\n",
       "      <td>No_of_Reviews_26</td>\n",
       "      <td>0.331877</td>\n",
       "    </tr>\n",
       "    <tr>\n",
       "      <th>16</th>\n",
       "      <td>No_of_Reviews_35</td>\n",
       "      <td>-0.180663</td>\n",
       "    </tr>\n",
       "    <tr>\n",
       "      <th>17</th>\n",
       "      <td>No_of_Reviews_36</td>\n",
       "      <td>-0.093694</td>\n",
       "    </tr>\n",
       "    <tr>\n",
       "      <th>18</th>\n",
       "      <td>No_of_Reviews_48</td>\n",
       "      <td>-0.172554</td>\n",
       "    </tr>\n",
       "    <tr>\n",
       "      <th>19</th>\n",
       "      <td>No_of_Reviews_51</td>\n",
       "      <td>-0.156972</td>\n",
       "    </tr>\n",
       "    <tr>\n",
       "      <th>20</th>\n",
       "      <td>No_of_Reviews_61</td>\n",
       "      <td>0.056882</td>\n",
       "    </tr>\n",
       "    <tr>\n",
       "      <th>21</th>\n",
       "      <td>No_of_Reviews_64</td>\n",
       "      <td>-0.144656</td>\n",
       "    </tr>\n",
       "    <tr>\n",
       "      <th>22</th>\n",
       "      <td>No_of_Reviews_74</td>\n",
       "      <td>0.087143</td>\n",
       "    </tr>\n",
       "    <tr>\n",
       "      <th>23</th>\n",
       "      <td>No_of_Reviews_93</td>\n",
       "      <td>-0.011579</td>\n",
       "    </tr>\n",
       "    <tr>\n",
       "      <th>24</th>\n",
       "      <td>No_of_Reviews_119</td>\n",
       "      <td>-0.172496</td>\n",
       "    </tr>\n",
       "    <tr>\n",
       "      <th>25</th>\n",
       "      <td>No_of_Reviews_184</td>\n",
       "      <td>0.049386</td>\n",
       "    </tr>\n",
       "    <tr>\n",
       "      <th>26</th>\n",
       "      <td>No_of_Reviews_459</td>\n",
       "      <td>-0.065985</td>\n",
       "    </tr>\n",
       "    <tr>\n",
       "      <th>27</th>\n",
       "      <td>Region_East</td>\n",
       "      <td>-0.279552</td>\n",
       "    </tr>\n",
       "    <tr>\n",
       "      <th>28</th>\n",
       "      <td>Region_North</td>\n",
       "      <td>-0.034102</td>\n",
       "    </tr>\n",
       "    <tr>\n",
       "      <th>29</th>\n",
       "      <td>Region_South</td>\n",
       "      <td>-0.298725</td>\n",
       "    </tr>\n",
       "    <tr>\n",
       "      <th>30</th>\n",
       "      <td>Region_West</td>\n",
       "      <td>0.495812</td>\n",
       "    </tr>\n",
       "    <tr>\n",
       "      <th>31</th>\n",
       "      <td>State_Delta State</td>\n",
       "      <td>-0.221804</td>\n",
       "    </tr>\n",
       "    <tr>\n",
       "      <th>32</th>\n",
       "      <td>State_Enugu State</td>\n",
       "      <td>-0.144656</td>\n",
       "    </tr>\n",
       "    <tr>\n",
       "      <th>33</th>\n",
       "      <td>State_FCT</td>\n",
       "      <td>-0.034102</td>\n",
       "    </tr>\n",
       "    <tr>\n",
       "      <th>34</th>\n",
       "      <td>State_Imo State</td>\n",
       "      <td>-0.151973</td>\n",
       "    </tr>\n",
       "    <tr>\n",
       "      <th>35</th>\n",
       "      <td>State_Lagos State</td>\n",
       "      <td>0.490706</td>\n",
       "    </tr>\n",
       "    <tr>\n",
       "      <th>36</th>\n",
       "      <td>State_Ogun State</td>\n",
       "      <td>-0.093694</td>\n",
       "    </tr>\n",
       "    <tr>\n",
       "      <th>37</th>\n",
       "      <td>State_Rivers State</td>\n",
       "      <td>-0.181870</td>\n",
       "    </tr>\n",
       "    <tr>\n",
       "      <th>38</th>\n",
       "      <td>Price Range_Low</td>\n",
       "      <td>-0.820662</td>\n",
       "    </tr>\n",
       "    <tr>\n",
       "      <th>39</th>\n",
       "      <td>Price Range_Moderate</td>\n",
       "      <td>0.307029</td>\n",
       "    </tr>\n",
       "    <tr>\n",
       "      <th>40</th>\n",
       "      <td>Price Range_High</td>\n",
       "      <td>0.800117</td>\n",
       "    </tr>\n",
       "  </tbody>\n",
       "</table>\n",
       "</div>"
      ],
      "text/plain": [
       "                 feature_names    scores\n",
       "0                       Rating  0.408866\n",
       "1     Classification_Excellent  0.004534\n",
       "2   Classification_Exceptional  0.336020\n",
       "3          Classification_Good -0.562127\n",
       "4     Classification_Wonderful  0.581912\n",
       "5              No_of_Reviews_1  0.413056\n",
       "6              No_of_Reviews_2  0.606921\n",
       "7              No_of_Reviews_8 -0.205178\n",
       "8              No_of_Reviews_9 -0.157912\n",
       "9             No_of_Reviews_10 -0.003640\n",
       "10            No_of_Reviews_16 -0.134520\n",
       "11            No_of_Reviews_17 -0.207897\n",
       "12            No_of_Reviews_18  0.004534\n",
       "13            No_of_Reviews_20  0.052142\n",
       "14            No_of_Reviews_22 -0.142053\n",
       "15            No_of_Reviews_26  0.331877\n",
       "16            No_of_Reviews_35 -0.180663\n",
       "17            No_of_Reviews_36 -0.093694\n",
       "18            No_of_Reviews_48 -0.172554\n",
       "19            No_of_Reviews_51 -0.156972\n",
       "20            No_of_Reviews_61  0.056882\n",
       "21            No_of_Reviews_64 -0.144656\n",
       "22            No_of_Reviews_74  0.087143\n",
       "23            No_of_Reviews_93 -0.011579\n",
       "24           No_of_Reviews_119 -0.172496\n",
       "25           No_of_Reviews_184  0.049386\n",
       "26           No_of_Reviews_459 -0.065985\n",
       "27                 Region_East -0.279552\n",
       "28                Region_North -0.034102\n",
       "29                Region_South -0.298725\n",
       "30                 Region_West  0.495812\n",
       "31           State_Delta State -0.221804\n",
       "32           State_Enugu State -0.144656\n",
       "33                   State_FCT -0.034102\n",
       "34             State_Imo State -0.151973\n",
       "35           State_Lagos State  0.490706\n",
       "36            State_Ogun State -0.093694\n",
       "37          State_Rivers State -0.181870\n",
       "38             Price Range_Low -0.820662\n",
       "39        Price Range_Moderate  0.307029\n",
       "40            Price Range_High  0.800117"
      ]
     },
     "execution_count": 77,
     "metadata": {},
     "output_type": "execute_result"
    }
   ],
   "source": [
    "score_df = pd.DataFrame({\"feature_names\" : visualizer.features_,\n",
    "                        \"scores\" : visualizer.scores_})\n",
    "score_df"
   ]
  },
  {
   "cell_type": "markdown",
   "id": "9a175358",
   "metadata": {},
   "source": [
    "Most of the features have low correlation to the label(price per night) except for features such as Number of Reviews_2(those with 2 reviews), high price range, hotels with wonderful classification and moderate price range have moderate correlation(within the range of 0.5 to 0.6). Price low has the highest correlation, though a negative correlation, hotels with good classification also have a moderate negative correlation."
   ]
  },
  {
   "cell_type": "markdown",
   "id": "47f8c3a6",
   "metadata": {},
   "source": [
    "#### Feature Importance: \n",
    "The features that are deemed important in predicting the label will be retained and others dropped not deemed as such using the value **0.006 as the mark**, thus any feature with an importance value less than that will be dropped."
   ]
  },
  {
   "cell_type": "code",
   "execution_count": 78,
   "id": "78e63ce8",
   "metadata": {},
   "outputs": [],
   "source": [
    "from sklearn.ensemble import RandomForestRegressor\n",
    "rf = RandomForestRegressor(max_depth = 3, random_state = 0)"
   ]
  },
  {
   "cell_type": "code",
   "execution_count": 79,
   "id": "c0cc70ab",
   "metadata": {},
   "outputs": [
    {
     "data": {
      "text/plain": [
       "RandomForestRegressor(max_depth=3, random_state=0)"
      ]
     },
     "execution_count": 79,
     "metadata": {},
     "output_type": "execute_result"
    }
   ],
   "source": [
    "rf.fit(x, y)"
   ]
  },
  {
   "cell_type": "code",
   "execution_count": 80,
   "id": "2581bcdd",
   "metadata": {},
   "outputs": [
    {
     "data": {
      "text/html": [
       "<div>\n",
       "<style scoped>\n",
       "    .dataframe tbody tr th:only-of-type {\n",
       "        vertical-align: middle;\n",
       "    }\n",
       "\n",
       "    .dataframe tbody tr th {\n",
       "        vertical-align: top;\n",
       "    }\n",
       "\n",
       "    .dataframe thead th {\n",
       "        text-align: right;\n",
       "    }\n",
       "</style>\n",
       "<table border=\"1\" class=\"dataframe\">\n",
       "  <thead>\n",
       "    <tr style=\"text-align: right;\">\n",
       "      <th></th>\n",
       "      <th>importance</th>\n",
       "    </tr>\n",
       "  </thead>\n",
       "  <tbody>\n",
       "    <tr>\n",
       "      <th>Rating</th>\n",
       "      <td>0.042874</td>\n",
       "    </tr>\n",
       "    <tr>\n",
       "      <th>Classification_Excellent</th>\n",
       "      <td>0.000803</td>\n",
       "    </tr>\n",
       "    <tr>\n",
       "      <th>Classification_Exceptional</th>\n",
       "      <td>0.004158</td>\n",
       "    </tr>\n",
       "    <tr>\n",
       "      <th>Classification_Good</th>\n",
       "      <td>0.026053</td>\n",
       "    </tr>\n",
       "    <tr>\n",
       "      <th>Classification_Wonderful</th>\n",
       "      <td>0.015375</td>\n",
       "    </tr>\n",
       "    <tr>\n",
       "      <th>No_of_Reviews_1</th>\n",
       "      <td>0.002915</td>\n",
       "    </tr>\n",
       "    <tr>\n",
       "      <th>No_of_Reviews_2</th>\n",
       "      <td>0.044771</td>\n",
       "    </tr>\n",
       "    <tr>\n",
       "      <th>No_of_Reviews_8</th>\n",
       "      <td>0.000332</td>\n",
       "    </tr>\n",
       "    <tr>\n",
       "      <th>No_of_Reviews_9</th>\n",
       "      <td>0.000000</td>\n",
       "    </tr>\n",
       "    <tr>\n",
       "      <th>No_of_Reviews_10</th>\n",
       "      <td>0.002865</td>\n",
       "    </tr>\n",
       "    <tr>\n",
       "      <th>No_of_Reviews_16</th>\n",
       "      <td>0.000045</td>\n",
       "    </tr>\n",
       "    <tr>\n",
       "      <th>No_of_Reviews_17</th>\n",
       "      <td>0.000292</td>\n",
       "    </tr>\n",
       "    <tr>\n",
       "      <th>No_of_Reviews_18</th>\n",
       "      <td>0.001688</td>\n",
       "    </tr>\n",
       "    <tr>\n",
       "      <th>No_of_Reviews_20</th>\n",
       "      <td>0.001055</td>\n",
       "    </tr>\n",
       "    <tr>\n",
       "      <th>No_of_Reviews_22</th>\n",
       "      <td>0.000530</td>\n",
       "    </tr>\n",
       "    <tr>\n",
       "      <th>No_of_Reviews_26</th>\n",
       "      <td>0.002439</td>\n",
       "    </tr>\n",
       "    <tr>\n",
       "      <th>No_of_Reviews_35</th>\n",
       "      <td>0.000007</td>\n",
       "    </tr>\n",
       "    <tr>\n",
       "      <th>No_of_Reviews_36</th>\n",
       "      <td>0.000000</td>\n",
       "    </tr>\n",
       "    <tr>\n",
       "      <th>No_of_Reviews_48</th>\n",
       "      <td>0.000000</td>\n",
       "    </tr>\n",
       "    <tr>\n",
       "      <th>No_of_Reviews_51</th>\n",
       "      <td>0.000000</td>\n",
       "    </tr>\n",
       "    <tr>\n",
       "      <th>No_of_Reviews_61</th>\n",
       "      <td>0.001143</td>\n",
       "    </tr>\n",
       "    <tr>\n",
       "      <th>No_of_Reviews_64</th>\n",
       "      <td>0.000000</td>\n",
       "    </tr>\n",
       "    <tr>\n",
       "      <th>No_of_Reviews_74</th>\n",
       "      <td>0.001867</td>\n",
       "    </tr>\n",
       "    <tr>\n",
       "      <th>No_of_Reviews_93</th>\n",
       "      <td>0.002325</td>\n",
       "    </tr>\n",
       "    <tr>\n",
       "      <th>No_of_Reviews_119</th>\n",
       "      <td>0.000434</td>\n",
       "    </tr>\n",
       "    <tr>\n",
       "      <th>No_of_Reviews_184</th>\n",
       "      <td>0.001562</td>\n",
       "    </tr>\n",
       "    <tr>\n",
       "      <th>No_of_Reviews_459</th>\n",
       "      <td>0.001822</td>\n",
       "    </tr>\n",
       "    <tr>\n",
       "      <th>Region_East</th>\n",
       "      <td>0.002860</td>\n",
       "    </tr>\n",
       "    <tr>\n",
       "      <th>Region_North</th>\n",
       "      <td>0.003529</td>\n",
       "    </tr>\n",
       "    <tr>\n",
       "      <th>Region_South</th>\n",
       "      <td>0.000000</td>\n",
       "    </tr>\n",
       "    <tr>\n",
       "      <th>Region_West</th>\n",
       "      <td>0.023241</td>\n",
       "    </tr>\n",
       "    <tr>\n",
       "      <th>State_Delta State</th>\n",
       "      <td>0.000000</td>\n",
       "    </tr>\n",
       "    <tr>\n",
       "      <th>State_Enugu State</th>\n",
       "      <td>0.000000</td>\n",
       "    </tr>\n",
       "    <tr>\n",
       "      <th>State_FCT</th>\n",
       "      <td>0.004471</td>\n",
       "    </tr>\n",
       "    <tr>\n",
       "      <th>State_Imo State</th>\n",
       "      <td>0.010182</td>\n",
       "    </tr>\n",
       "    <tr>\n",
       "      <th>State_Lagos State</th>\n",
       "      <td>0.026236</td>\n",
       "    </tr>\n",
       "    <tr>\n",
       "      <th>State_Ogun State</th>\n",
       "      <td>0.000029</td>\n",
       "    </tr>\n",
       "    <tr>\n",
       "      <th>State_Rivers State</th>\n",
       "      <td>0.000000</td>\n",
       "    </tr>\n",
       "    <tr>\n",
       "      <th>Price Range_Low</th>\n",
       "      <td>0.449378</td>\n",
       "    </tr>\n",
       "    <tr>\n",
       "      <th>Price Range_Moderate</th>\n",
       "      <td>0.054925</td>\n",
       "    </tr>\n",
       "    <tr>\n",
       "      <th>Price Range_High</th>\n",
       "      <td>0.269795</td>\n",
       "    </tr>\n",
       "  </tbody>\n",
       "</table>\n",
       "</div>"
      ],
      "text/plain": [
       "                            importance\n",
       "Rating                        0.042874\n",
       "Classification_Excellent      0.000803\n",
       "Classification_Exceptional    0.004158\n",
       "Classification_Good           0.026053\n",
       "Classification_Wonderful      0.015375\n",
       "No_of_Reviews_1               0.002915\n",
       "No_of_Reviews_2               0.044771\n",
       "No_of_Reviews_8               0.000332\n",
       "No_of_Reviews_9               0.000000\n",
       "No_of_Reviews_10              0.002865\n",
       "No_of_Reviews_16              0.000045\n",
       "No_of_Reviews_17              0.000292\n",
       "No_of_Reviews_18              0.001688\n",
       "No_of_Reviews_20              0.001055\n",
       "No_of_Reviews_22              0.000530\n",
       "No_of_Reviews_26              0.002439\n",
       "No_of_Reviews_35              0.000007\n",
       "No_of_Reviews_36              0.000000\n",
       "No_of_Reviews_48              0.000000\n",
       "No_of_Reviews_51              0.000000\n",
       "No_of_Reviews_61              0.001143\n",
       "No_of_Reviews_64              0.000000\n",
       "No_of_Reviews_74              0.001867\n",
       "No_of_Reviews_93              0.002325\n",
       "No_of_Reviews_119             0.000434\n",
       "No_of_Reviews_184             0.001562\n",
       "No_of_Reviews_459             0.001822\n",
       "Region_East                   0.002860\n",
       "Region_North                  0.003529\n",
       "Region_South                  0.000000\n",
       "Region_West                   0.023241\n",
       "State_Delta State             0.000000\n",
       "State_Enugu State             0.000000\n",
       "State_FCT                     0.004471\n",
       "State_Imo State               0.010182\n",
       "State_Lagos State             0.026236\n",
       "State_Ogun State              0.000029\n",
       "State_Rivers State            0.000000\n",
       "Price Range_Low               0.449378\n",
       "Price Range_Moderate          0.054925\n",
       "Price Range_High              0.269795"
      ]
     },
     "execution_count": 80,
     "metadata": {},
     "output_type": "execute_result"
    }
   ],
   "source": [
    "feature_importance = pd.DataFrame(rf.feature_importances_,\n",
    "                          index = x.columns,\n",
    "                          columns = [\"importance\"])#.sort_values(\"importance\", ascending = False)\n",
    "feature_importance"
   ]
  },
  {
   "cell_type": "code",
   "execution_count": 81,
   "id": "7c13d633",
   "metadata": {},
   "outputs": [],
   "source": [
    "X = x[['Region_West', 'Price Range_Low', 'Price Range_Moderate', 'Price Range_High',\n",
    "             'Region_West', 'State_Imo State', 'State_Lagos State', 'No_of_Reviews_184', \n",
    "             'No_of_Reviews_93', 'No_of_Reviews_2', 'Classification_Good', \n",
    "             'Classification_Wonderful', 'Rating']]\n"
   ]
  },
  {
   "cell_type": "code",
   "execution_count": 82,
   "id": "281c37fe",
   "metadata": {},
   "outputs": [
    {
     "data": {
      "text/html": [
       "<div>\n",
       "<style scoped>\n",
       "    .dataframe tbody tr th:only-of-type {\n",
       "        vertical-align: middle;\n",
       "    }\n",
       "\n",
       "    .dataframe tbody tr th {\n",
       "        vertical-align: top;\n",
       "    }\n",
       "\n",
       "    .dataframe thead th {\n",
       "        text-align: right;\n",
       "    }\n",
       "</style>\n",
       "<table border=\"1\" class=\"dataframe\">\n",
       "  <thead>\n",
       "    <tr style=\"text-align: right;\">\n",
       "      <th></th>\n",
       "      <th>Region_West</th>\n",
       "      <th>Price Range_Low</th>\n",
       "      <th>Price Range_Moderate</th>\n",
       "      <th>Price Range_High</th>\n",
       "      <th>Region_West</th>\n",
       "      <th>State_Imo State</th>\n",
       "      <th>State_Lagos State</th>\n",
       "      <th>No_of_Reviews_184</th>\n",
       "      <th>No_of_Reviews_93</th>\n",
       "      <th>No_of_Reviews_2</th>\n",
       "      <th>Classification_Good</th>\n",
       "      <th>Classification_Wonderful</th>\n",
       "      <th>Rating</th>\n",
       "    </tr>\n",
       "  </thead>\n",
       "  <tbody>\n",
       "    <tr>\n",
       "      <th>0</th>\n",
       "      <td>1</td>\n",
       "      <td>1</td>\n",
       "      <td>0</td>\n",
       "      <td>0</td>\n",
       "      <td>1</td>\n",
       "      <td>0</td>\n",
       "      <td>1</td>\n",
       "      <td>0</td>\n",
       "      <td>0</td>\n",
       "      <td>0</td>\n",
       "      <td>1</td>\n",
       "      <td>0</td>\n",
       "      <td>8.0</td>\n",
       "    </tr>\n",
       "    <tr>\n",
       "      <th>1</th>\n",
       "      <td>1</td>\n",
       "      <td>1</td>\n",
       "      <td>0</td>\n",
       "      <td>0</td>\n",
       "      <td>1</td>\n",
       "      <td>0</td>\n",
       "      <td>1</td>\n",
       "      <td>0</td>\n",
       "      <td>0</td>\n",
       "      <td>0</td>\n",
       "      <td>0</td>\n",
       "      <td>0</td>\n",
       "      <td>9.6</td>\n",
       "    </tr>\n",
       "    <tr>\n",
       "      <th>2</th>\n",
       "      <td>1</td>\n",
       "      <td>0</td>\n",
       "      <td>1</td>\n",
       "      <td>0</td>\n",
       "      <td>1</td>\n",
       "      <td>0</td>\n",
       "      <td>1</td>\n",
       "      <td>0</td>\n",
       "      <td>0</td>\n",
       "      <td>0</td>\n",
       "      <td>1</td>\n",
       "      <td>0</td>\n",
       "      <td>8.1</td>\n",
       "    </tr>\n",
       "    <tr>\n",
       "      <th>3</th>\n",
       "      <td>0</td>\n",
       "      <td>1</td>\n",
       "      <td>0</td>\n",
       "      <td>0</td>\n",
       "      <td>0</td>\n",
       "      <td>0</td>\n",
       "      <td>0</td>\n",
       "      <td>0</td>\n",
       "      <td>0</td>\n",
       "      <td>0</td>\n",
       "      <td>1</td>\n",
       "      <td>0</td>\n",
       "      <td>8.4</td>\n",
       "    </tr>\n",
       "    <tr>\n",
       "      <th>4</th>\n",
       "      <td>1</td>\n",
       "      <td>1</td>\n",
       "      <td>0</td>\n",
       "      <td>0</td>\n",
       "      <td>1</td>\n",
       "      <td>0</td>\n",
       "      <td>1</td>\n",
       "      <td>0</td>\n",
       "      <td>0</td>\n",
       "      <td>0</td>\n",
       "      <td>0</td>\n",
       "      <td>0</td>\n",
       "      <td>8.9</td>\n",
       "    </tr>\n",
       "  </tbody>\n",
       "</table>\n",
       "</div>"
      ],
      "text/plain": [
       "   Region_West  Price Range_Low  Price Range_Moderate  Price Range_High  \\\n",
       "0            1                1                     0                 0   \n",
       "1            1                1                     0                 0   \n",
       "2            1                0                     1                 0   \n",
       "3            0                1                     0                 0   \n",
       "4            1                1                     0                 0   \n",
       "\n",
       "   Region_West  State_Imo State  State_Lagos State  No_of_Reviews_184  \\\n",
       "0            1                0                  1                  0   \n",
       "1            1                0                  1                  0   \n",
       "2            1                0                  1                  0   \n",
       "3            0                0                  0                  0   \n",
       "4            1                0                  1                  0   \n",
       "\n",
       "   No_of_Reviews_93  No_of_Reviews_2  Classification_Good  \\\n",
       "0                 0                0                    1   \n",
       "1                 0                0                    0   \n",
       "2                 0                0                    1   \n",
       "3                 0                0                    1   \n",
       "4                 0                0                    0   \n",
       "\n",
       "   Classification_Wonderful  Rating  \n",
       "0                         0     8.0  \n",
       "1                         0     9.6  \n",
       "2                         0     8.1  \n",
       "3                         0     8.4  \n",
       "4                         0     8.9  "
      ]
     },
     "execution_count": 82,
     "metadata": {},
     "output_type": "execute_result"
    }
   ],
   "source": [
    "X.head()"
   ]
  },
  {
   "cell_type": "markdown",
   "id": "537a7ca4",
   "metadata": {},
   "source": [
    "#### Feature Scaling"
   ]
  },
  {
   "cell_type": "code",
   "execution_count": 83,
   "id": "13366c3d",
   "metadata": {},
   "outputs": [
    {
     "data": {
      "text/html": [
       "<div>\n",
       "<style scoped>\n",
       "    .dataframe tbody tr th:only-of-type {\n",
       "        vertical-align: middle;\n",
       "    }\n",
       "\n",
       "    .dataframe tbody tr th {\n",
       "        vertical-align: top;\n",
       "    }\n",
       "\n",
       "    .dataframe thead th {\n",
       "        text-align: right;\n",
       "    }\n",
       "</style>\n",
       "<table border=\"1\" class=\"dataframe\">\n",
       "  <thead>\n",
       "    <tr style=\"text-align: right;\">\n",
       "      <th></th>\n",
       "      <th>count</th>\n",
       "      <th>mean</th>\n",
       "      <th>std</th>\n",
       "      <th>min</th>\n",
       "      <th>25%</th>\n",
       "      <th>50%</th>\n",
       "      <th>75%</th>\n",
       "      <th>max</th>\n",
       "    </tr>\n",
       "  </thead>\n",
       "  <tbody>\n",
       "    <tr>\n",
       "      <th>Region_West</th>\n",
       "      <td>25.0</td>\n",
       "      <td>0.440000</td>\n",
       "      <td>0.506623</td>\n",
       "      <td>0.0</td>\n",
       "      <td>0.0</td>\n",
       "      <td>0.000000</td>\n",
       "      <td>1.0</td>\n",
       "      <td>1.0</td>\n",
       "    </tr>\n",
       "    <tr>\n",
       "      <th>Price Range_Low</th>\n",
       "      <td>25.0</td>\n",
       "      <td>0.680000</td>\n",
       "      <td>0.476095</td>\n",
       "      <td>0.0</td>\n",
       "      <td>0.0</td>\n",
       "      <td>1.000000</td>\n",
       "      <td>1.0</td>\n",
       "      <td>1.0</td>\n",
       "    </tr>\n",
       "    <tr>\n",
       "      <th>Price Range_Moderate</th>\n",
       "      <td>25.0</td>\n",
       "      <td>0.200000</td>\n",
       "      <td>0.408248</td>\n",
       "      <td>0.0</td>\n",
       "      <td>0.0</td>\n",
       "      <td>0.000000</td>\n",
       "      <td>0.0</td>\n",
       "      <td>1.0</td>\n",
       "    </tr>\n",
       "    <tr>\n",
       "      <th>Price Range_High</th>\n",
       "      <td>25.0</td>\n",
       "      <td>0.120000</td>\n",
       "      <td>0.331662</td>\n",
       "      <td>0.0</td>\n",
       "      <td>0.0</td>\n",
       "      <td>0.000000</td>\n",
       "      <td>0.0</td>\n",
       "      <td>1.0</td>\n",
       "    </tr>\n",
       "    <tr>\n",
       "      <th>Region_West</th>\n",
       "      <td>25.0</td>\n",
       "      <td>0.440000</td>\n",
       "      <td>0.506623</td>\n",
       "      <td>0.0</td>\n",
       "      <td>0.0</td>\n",
       "      <td>0.000000</td>\n",
       "      <td>1.0</td>\n",
       "      <td>1.0</td>\n",
       "    </tr>\n",
       "    <tr>\n",
       "      <th>State_Imo State</th>\n",
       "      <td>25.0</td>\n",
       "      <td>0.280000</td>\n",
       "      <td>0.458258</td>\n",
       "      <td>0.0</td>\n",
       "      <td>0.0</td>\n",
       "      <td>0.000000</td>\n",
       "      <td>1.0</td>\n",
       "      <td>1.0</td>\n",
       "    </tr>\n",
       "    <tr>\n",
       "      <th>State_Lagos State</th>\n",
       "      <td>25.0</td>\n",
       "      <td>0.360000</td>\n",
       "      <td>0.489898</td>\n",
       "      <td>0.0</td>\n",
       "      <td>0.0</td>\n",
       "      <td>0.000000</td>\n",
       "      <td>1.0</td>\n",
       "      <td>1.0</td>\n",
       "    </tr>\n",
       "    <tr>\n",
       "      <th>No_of_Reviews_184</th>\n",
       "      <td>25.0</td>\n",
       "      <td>0.080000</td>\n",
       "      <td>0.276887</td>\n",
       "      <td>0.0</td>\n",
       "      <td>0.0</td>\n",
       "      <td>0.000000</td>\n",
       "      <td>0.0</td>\n",
       "      <td>1.0</td>\n",
       "    </tr>\n",
       "    <tr>\n",
       "      <th>No_of_Reviews_93</th>\n",
       "      <td>25.0</td>\n",
       "      <td>0.080000</td>\n",
       "      <td>0.276887</td>\n",
       "      <td>0.0</td>\n",
       "      <td>0.0</td>\n",
       "      <td>0.000000</td>\n",
       "      <td>0.0</td>\n",
       "      <td>1.0</td>\n",
       "    </tr>\n",
       "    <tr>\n",
       "      <th>No_of_Reviews_2</th>\n",
       "      <td>25.0</td>\n",
       "      <td>0.080000</td>\n",
       "      <td>0.276887</td>\n",
       "      <td>0.0</td>\n",
       "      <td>0.0</td>\n",
       "      <td>0.000000</td>\n",
       "      <td>0.0</td>\n",
       "      <td>1.0</td>\n",
       "    </tr>\n",
       "    <tr>\n",
       "      <th>Classification_Good</th>\n",
       "      <td>25.0</td>\n",
       "      <td>0.840000</td>\n",
       "      <td>0.374166</td>\n",
       "      <td>0.0</td>\n",
       "      <td>1.0</td>\n",
       "      <td>1.000000</td>\n",
       "      <td>1.0</td>\n",
       "      <td>1.0</td>\n",
       "    </tr>\n",
       "    <tr>\n",
       "      <th>Classification_Wonderful</th>\n",
       "      <td>25.0</td>\n",
       "      <td>0.040000</td>\n",
       "      <td>0.200000</td>\n",
       "      <td>0.0</td>\n",
       "      <td>0.0</td>\n",
       "      <td>0.000000</td>\n",
       "      <td>0.0</td>\n",
       "      <td>1.0</td>\n",
       "    </tr>\n",
       "    <tr>\n",
       "      <th>Rating</th>\n",
       "      <td>25.0</td>\n",
       "      <td>7.783333</td>\n",
       "      <td>0.752034</td>\n",
       "      <td>6.3</td>\n",
       "      <td>7.2</td>\n",
       "      <td>7.783333</td>\n",
       "      <td>8.2</td>\n",
       "      <td>9.6</td>\n",
       "    </tr>\n",
       "  </tbody>\n",
       "</table>\n",
       "</div>"
      ],
      "text/plain": [
       "                          count      mean       std  min  25%       50%  75%  \\\n",
       "Region_West                25.0  0.440000  0.506623  0.0  0.0  0.000000  1.0   \n",
       "Price Range_Low            25.0  0.680000  0.476095  0.0  0.0  1.000000  1.0   \n",
       "Price Range_Moderate       25.0  0.200000  0.408248  0.0  0.0  0.000000  0.0   \n",
       "Price Range_High           25.0  0.120000  0.331662  0.0  0.0  0.000000  0.0   \n",
       "Region_West                25.0  0.440000  0.506623  0.0  0.0  0.000000  1.0   \n",
       "State_Imo State            25.0  0.280000  0.458258  0.0  0.0  0.000000  1.0   \n",
       "State_Lagos State          25.0  0.360000  0.489898  0.0  0.0  0.000000  1.0   \n",
       "No_of_Reviews_184          25.0  0.080000  0.276887  0.0  0.0  0.000000  0.0   \n",
       "No_of_Reviews_93           25.0  0.080000  0.276887  0.0  0.0  0.000000  0.0   \n",
       "No_of_Reviews_2            25.0  0.080000  0.276887  0.0  0.0  0.000000  0.0   \n",
       "Classification_Good        25.0  0.840000  0.374166  0.0  1.0  1.000000  1.0   \n",
       "Classification_Wonderful   25.0  0.040000  0.200000  0.0  0.0  0.000000  0.0   \n",
       "Rating                     25.0  7.783333  0.752034  6.3  7.2  7.783333  8.2   \n",
       "\n",
       "                          max  \n",
       "Region_West               1.0  \n",
       "Price Range_Low           1.0  \n",
       "Price Range_Moderate      1.0  \n",
       "Price Range_High          1.0  \n",
       "Region_West               1.0  \n",
       "State_Imo State           1.0  \n",
       "State_Lagos State         1.0  \n",
       "No_of_Reviews_184         1.0  \n",
       "No_of_Reviews_93          1.0  \n",
       "No_of_Reviews_2           1.0  \n",
       "Classification_Good       1.0  \n",
       "Classification_Wonderful  1.0  \n",
       "Rating                    9.6  "
      ]
     },
     "execution_count": 83,
     "metadata": {},
     "output_type": "execute_result"
    }
   ],
   "source": [
    "X.describe().T"
   ]
  },
  {
   "cell_type": "markdown",
   "id": "23fa6723",
   "metadata": {},
   "source": [
    "The values(particularly the mean and median) have a wide range hence they will be scaled so the model can perform better"
   ]
  },
  {
   "cell_type": "code",
   "execution_count": 84,
   "id": "7a56a771",
   "metadata": {},
   "outputs": [],
   "source": [
    "import sklearn\n",
    "from sklearn.model_selection import train_test_split #algorithm to split dataset\n",
    "\n",
    "from sklearn.metrics import mean_squared_error # importing the evaluation metrics \n",
    "\n",
    "\n",
    "from sklearn.preprocessing import StandardScaler"
   ]
  },
  {
   "cell_type": "code",
   "execution_count": 85,
   "id": "b81edec8",
   "metadata": {},
   "outputs": [
    {
     "data": {
      "text/plain": [
       "Index(['Region_West', 'Price Range_Low', 'Price Range_Moderate',\n",
       "       'Price Range_High', 'Region_West', 'State_Imo State',\n",
       "       'State_Lagos State', 'No_of_Reviews_184', 'No_of_Reviews_93',\n",
       "       'No_of_Reviews_2', 'Classification_Good', 'Classification_Wonderful',\n",
       "       'Rating'],\n",
       "      dtype='object')"
      ]
     },
     "execution_count": 85,
     "metadata": {},
     "output_type": "execute_result"
    }
   ],
   "source": [
    "col = X.columns\n",
    "col"
   ]
  },
  {
   "cell_type": "code",
   "execution_count": 86,
   "id": "3a1d643e",
   "metadata": {},
   "outputs": [],
   "source": [
    "scaler = StandardScaler()\n",
    "X = scaler.fit_transform(X)"
   ]
  },
  {
   "cell_type": "code",
   "execution_count": 87,
   "id": "c309c89c",
   "metadata": {},
   "outputs": [],
   "source": [
    "X_train, X_test, y_train, y_test = train_test_split(X, y, train_size = 0.75, random_state = 42)"
   ]
  },
  {
   "cell_type": "code",
   "execution_count": 88,
   "id": "ef8dd28c",
   "metadata": {},
   "outputs": [
    {
     "name": "stdout",
     "output_type": "stream",
     "text": [
      "(18, 13) (18,)\n"
     ]
    }
   ],
   "source": [
    "print(X_train.shape, y_train.shape)"
   ]
  },
  {
   "cell_type": "code",
   "execution_count": 89,
   "id": "0f937b3a",
   "metadata": {},
   "outputs": [
    {
     "name": "stdout",
     "output_type": "stream",
     "text": [
      "(7, 13) (7,)\n"
     ]
    }
   ],
   "source": [
    "print(X_test.shape, y_test.shape)"
   ]
  },
  {
   "cell_type": "markdown",
   "id": "e1d65006",
   "metadata": {},
   "source": [
    "#### Linear Regression Model"
   ]
  },
  {
   "cell_type": "code",
   "execution_count": 90,
   "id": "b77937bf",
   "metadata": {},
   "outputs": [],
   "source": [
    "from sklearn.linear_model import LinearRegression"
   ]
  },
  {
   "cell_type": "code",
   "execution_count": 91,
   "id": "458f0676",
   "metadata": {},
   "outputs": [
    {
     "ename": "NameError",
     "evalue": "name 'r2_score' is not defined",
     "output_type": "error",
     "traceback": [
      "\u001b[1;31m---------------------------------------------------------------------------\u001b[0m",
      "\u001b[1;31mNameError\u001b[0m                                 Traceback (most recent call last)",
      "\u001b[1;32m<ipython-input-91-a11dc2b138f8>\u001b[0m in \u001b[0;36m<module>\u001b[1;34m\u001b[0m\n\u001b[0;32m      4\u001b[0m \u001b[0my_predlr\u001b[0m \u001b[1;33m=\u001b[0m \u001b[0mlinear_regression\u001b[0m\u001b[1;33m.\u001b[0m\u001b[0mpredict\u001b[0m\u001b[1;33m(\u001b[0m\u001b[0mX_test\u001b[0m\u001b[1;33m)\u001b[0m\u001b[1;33m\u001b[0m\u001b[1;33m\u001b[0m\u001b[0m\n\u001b[0;32m      5\u001b[0m \u001b[1;33m\u001b[0m\u001b[0m\n\u001b[1;32m----> 6\u001b[1;33m \u001b[0mprint\u001b[0m\u001b[1;33m(\u001b[0m\u001b[1;34m'Train r2 score: '\u001b[0m\u001b[1;33m,\u001b[0m \u001b[0mr2_score\u001b[0m\u001b[1;33m(\u001b[0m\u001b[0my_train\u001b[0m\u001b[1;33m,\u001b[0m\u001b[0my_train_predlr\u001b[0m\u001b[1;33m)\u001b[0m\u001b[1;33m)\u001b[0m\u001b[1;33m\u001b[0m\u001b[1;33m\u001b[0m\u001b[0m\n\u001b[0m\u001b[0;32m      7\u001b[0m \u001b[0mprint\u001b[0m\u001b[1;33m(\u001b[0m\u001b[1;34m'Test r2 score: '\u001b[0m\u001b[1;33m,\u001b[0m \u001b[0mr2_score\u001b[0m\u001b[1;33m(\u001b[0m\u001b[0my_test\u001b[0m\u001b[1;33m,\u001b[0m \u001b[0my_predlr\u001b[0m\u001b[1;33m)\u001b[0m\u001b[1;33m)\u001b[0m\u001b[1;33m\u001b[0m\u001b[1;33m\u001b[0m\u001b[0m\n\u001b[0;32m      8\u001b[0m \u001b[1;33m\u001b[0m\u001b[0m\n",
      "\u001b[1;31mNameError\u001b[0m: name 'r2_score' is not defined"
     ]
    }
   ],
   "source": [
    "linear_regression = LinearRegression()\n",
    "linear_regression.fit(X_train, y_train)\n",
    "y_train_predlr = linear_regression.predict(X_train)\n",
    "y_predlr = linear_regression.predict(X_test)\n",
    "\n",
    "print('Train r2 score: ', r2_score(y_train,y_train_predlr))\n",
    "print('Test r2 score: ', r2_score(y_test, y_predlr))\n",
    "\n",
    "train_rmse1 = mean_squared_error(y_train_predlr, y_train, squared= False)\n",
    "test_rmse1 = mean_squared_error(y_predlr, y_test, squared= False)\n",
    "\n",
    "#train_rmse1 = np.sqrt(train_mse1)\n",
    "#test_rmse1 = np.sqrt(test_mse1)\n",
    "\n",
    "print('Train MSE: %.2f' % train_rmse1)\n",
    "print('Test MSE: %.2f' % test_rmse1)\n"
   ]
  },
  {
   "cell_type": "markdown",
   "id": "f244481e",
   "metadata": {},
   "source": [
    "#### Adaptive Boost Algorithm"
   ]
  },
  {
   "cell_type": "code",
   "execution_count": null,
   "id": "300c5bc9",
   "metadata": {},
   "outputs": [],
   "source": [
    "from sklearn.ensemble import AdaBoostRegressor #import the model algorithm\n",
    "\n",
    "adaboost_reg = AdaBoostRegressor(n_estimators = 100, learning_rate = 1.0, \n",
    "                             random_state = 0) #setting the hyperparameters\n",
    "\n",
    "adaboost_model = adaboost_reg.fit(X_train, y_train) ##Training model\n",
    "\n",
    "print(\"Training score is:\",  adaboost_model.score(X_train, y_train)) #checking accuracy of model"
   ]
  },
  {
   "cell_type": "code",
   "execution_count": null,
   "id": "952eb53f",
   "metadata": {},
   "outputs": [],
   "source": [
    "#predicting the test data \n",
    "\n",
    "y_ada_pred = adaboost_reg.predict(X_test)"
   ]
  },
  {
   "cell_type": "code",
   "execution_count": null,
   "id": "1b6d9fa9",
   "metadata": {},
   "outputs": [],
   "source": [
    "#Evaluating the model\n",
    "import math\n",
    "\n",
    "from sklearn.metrics import r2_score\n",
    "\n",
    "from sklearn.metrics import mean_squared_error\n",
    "\n",
    "print(\"Testing score is : \", r2_score(y_test, y_ada_pred))\n",
    "\n",
    "rmse = np.sqrt(sklearn.metrics.mean_squared_error(y_test, y_ada_pred))\n",
    "\n",
    "print(\"RMSE is\", rmse)"
   ]
  },
  {
   "cell_type": "markdown",
   "id": "0256c671",
   "metadata": {},
   "source": [
    "#### Decision Tree"
   ]
  },
  {
   "cell_type": "code",
   "execution_count": null,
   "id": "0f63b15d",
   "metadata": {},
   "outputs": [],
   "source": [
    "from sklearn.tree import DecisionTreeRegressor"
   ]
  },
  {
   "cell_type": "code",
   "execution_count": null,
   "id": "f27b8b11",
   "metadata": {},
   "outputs": [],
   "source": [
    "decision_tree = DecisionTreeRegressor(max_depth=3)\n",
    "\n",
    "decision_tree.fit(X_train, y_train)"
   ]
  },
  {
   "cell_type": "code",
   "execution_count": null,
   "id": "7f50b527",
   "metadata": {},
   "outputs": [],
   "source": [
    "y_train_predd3 = decision_tree.predict(X_train)\n",
    "y_predd3 = decision_tree.predict(X_test)\n",
    "\n",
    "print('Train r2 score: ', r2_score(y_train, y_train_predd3))\n",
    "print('Test r2 score: ', r2_score(y_test, y_predd3))\n",
    "\n",
    "train_rmsed3 = mean_squared_error(y_train_predd3, y_train,squared=False)\n",
    "test_rmsed3 = mean_squared_error(y_predd3, y_test,squared=False)\n",
    "\n",
    "range_train=max(y_train_predd3)-min(y_train_predd3)\n",
    "normalised_traind3 = train_rmsed3/range_train\n",
    "\n",
    "range_test=max(y_predd3)-min(y_predd3)\n",
    "normalised_testd3 = test_rmsed3/range_test\n",
    "\n",
    "print('Train RMSE: %.2f' % train_rmsed3)\n",
    "print('Test RMSE: %.2f' % test_rmsed3)\n",
    "print('RMSE pcttrain: %.2f' % normalised_traind3)\n",
    "print('RMSE pcttest: %.2f' % normalised_testd3)"
   ]
  },
  {
   "cell_type": "markdown",
   "id": "369e9ec9",
   "metadata": {},
   "source": [
    "The adaboost will be selected since it has the least RMSE(9305) and highest testing accuracy(0.90)"
   ]
  },
  {
   "cell_type": "code",
   "execution_count": null,
   "id": "bf7b6892",
   "metadata": {},
   "outputs": [],
   "source": [
    "import pickle"
   ]
  },
  {
   "cell_type": "code",
   "execution_count": null,
   "id": "4005deac",
   "metadata": {},
   "outputs": [],
   "source": [
    "filename = 'adaboost_model.sav'\n",
    "pickle.dump(adaboost_reg, open(filename, 'wb'))"
   ]
  },
  {
   "cell_type": "code",
   "execution_count": null,
   "id": "8d7d130e",
   "metadata": {},
   "outputs": [],
   "source": []
  }
 ],
 "metadata": {
  "kernelspec": {
   "display_name": "Python 3",
   "language": "python",
   "name": "python3"
  },
  "language_info": {
   "codemirror_mode": {
    "name": "ipython",
    "version": 3
   },
   "file_extension": ".py",
   "mimetype": "text/x-python",
   "name": "python",
   "nbconvert_exporter": "python",
   "pygments_lexer": "ipython3",
   "version": "3.8.8"
  }
 },
 "nbformat": 4,
 "nbformat_minor": 5
}
